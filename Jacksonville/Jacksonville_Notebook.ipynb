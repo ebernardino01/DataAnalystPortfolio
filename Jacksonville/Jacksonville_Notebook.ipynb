{
  "nbformat": 4,
  "nbformat_minor": 0,
  "metadata": {
    "colab": {
      "provenance": [],
      "authorship_tag": "ABX9TyNkGYqqaSK5uqC+Vsmit83h",
      "include_colab_link": true
    },
    "kernelspec": {
      "name": "python3",
      "display_name": "Python 3"
    },
    "language_info": {
      "name": "python"
    }
  },
  "cells": [
    {
      "cell_type": "markdown",
      "metadata": {
        "id": "view-in-github",
        "colab_type": "text"
      },
      "source": [
        "<a href=\"https://colab.research.google.com/github/ebernardino01/DataAnalystPortfolio/blob/main/Jacksonville/Jacksonville_Notebook.ipynb\" target=\"_parent\"><img src=\"https://colab.research.google.com/assets/colab-badge.svg\" alt=\"Open In Colab\"/></a>"
      ]
    },
    {
      "cell_type": "markdown",
      "source": [
        "# Jacksonville Property Prices Notebook"
      ],
      "metadata": {
        "id": "iryyhly-jE1n"
      }
    },
    {
      "cell_type": "markdown",
      "source": [
        "## Importing libraries"
      ],
      "metadata": {
        "id": "KooWuSpcjU5x"
      }
    },
    {
      "cell_type": "code",
      "execution_count": 25,
      "metadata": {
        "id": "_QAG1pweiHue"
      },
      "outputs": [],
      "source": [
        "import pandas as pd\n",
        "import matplotlib.pyplot as plt\n",
        "import seaborn as sns\n",
        "from sklearn.model_selection import train_test_split\n",
        "from sklearn.linear_model import LinearRegression\n",
        "from sklearn.tree import DecisionTreeRegressor\n",
        "from sklearn.ensemble import (\n",
        "    RandomForestRegressor,\n",
        "    GradientBoostingRegressor\n",
        ")\n",
        "from sklearn.metrics import (\n",
        "    mean_squared_error,\n",
        "    mean_absolute_error,\n",
        "    r2_score,\n",
        "    explained_variance_score\n",
        ")\n",
        "%matplotlib inline"
      ]
    },
    {
      "cell_type": "markdown",
      "source": [
        "## Reading the data from source"
      ],
      "metadata": {
        "id": "pfWxcWqOjbfo"
      }
    },
    {
      "cell_type": "code",
      "source": [
        "# Set no limit on column display\n",
        "pd.set_option('display.max_columns', None)"
      ],
      "metadata": {
        "id": "N0rTPcwqovFw"
      },
      "execution_count": 26,
      "outputs": []
    },
    {
      "cell_type": "code",
      "source": [
        "# Load csv file\n",
        "# df = pd.read_csv(\n",
        "#     'https://drive.google.com/uc?export=download&id=1J0FejBvcgn9w_VPjFTSm__q_uo5r3PS3'\n",
        "# )\n",
        "\n",
        "df = pd.concat(\n",
        "    map(\n",
        "        pd.read_csv, [\n",
        "            'https://drive.google.com/uc?export=download&id=1J0FejBvcgn9w_VPjFTSm__q_uo5r3PS3',\n",
        "            'https://drive.google.com/uc?export=download&id=1mNt85tN--a23wFJkwuUF4tsnV3m70Rht'\n",
        "        ]\n",
        "    ),\n",
        "    ignore_index=True\n",
        ")\n",
        "\n",
        "print(df.shape)\n",
        "df.info()"
      ],
      "metadata": {
        "colab": {
          "base_uri": "https://localhost:8080/"
        },
        "id": "gwiEJgVyjq5w",
        "outputId": "a0777ca2-0d3b-4615-fba3-3b64c4bd3b4f"
      },
      "execution_count": 27,
      "outputs": [
        {
          "output_type": "stream",
          "name": "stdout",
          "text": [
            "(5155, 15)\n",
            "<class 'pandas.core.frame.DataFrame'>\n",
            "RangeIndex: 5155 entries, 0 to 5154\n",
            "Data columns (total 15 columns):\n",
            " #   Column             Non-Null Count  Dtype  \n",
            "---  ------             --------------  -----  \n",
            " 0   id                 5155 non-null   int64  \n",
            " 1   data_id            5155 non-null   int64  \n",
            " 2   url                5155 non-null   object \n",
            " 3   media_img          5155 non-null   object \n",
            " 4   status             5155 non-null   object \n",
            " 5   price              5155 non-null   object \n",
            " 6   beds               4727 non-null   object \n",
            " 7   baths              4712 non-null   object \n",
            " 8   sqft               5155 non-null   float64\n",
            " 9   sqftlot            5155 non-null   float64\n",
            " 10  address            5155 non-null   object \n",
            " 11  city               5155 non-null   object \n",
            " 12  state              5155 non-null   object \n",
            " 13  zip_code           5155 non-null   int64  \n",
            " 14  scraped_date_time  5155 non-null   object \n",
            "dtypes: float64(2), int64(3), object(10)\n",
            "memory usage: 604.2+ KB\n"
          ]
        }
      ]
    },
    {
      "cell_type": "markdown",
      "source": [
        "## Cleaning and transforming the raw dataset"
      ],
      "metadata": {
        "id": "hzO3DHg0pdJe"
      }
    },
    {
      "cell_type": "code",
      "source": [
        "# Replace the null values in the columns\n",
        "df['beds'].fillna(0, inplace=True)\n",
        "df['baths'].fillna(0, inplace=True)\n",
        "df.info()"
      ],
      "metadata": {
        "id": "YN1Tlx5jpfLb",
        "colab": {
          "base_uri": "https://localhost:8080/"
        },
        "outputId": "72a73082-3d53-4b34-d281-6830f88395bd"
      },
      "execution_count": 28,
      "outputs": [
        {
          "output_type": "stream",
          "name": "stdout",
          "text": [
            "<class 'pandas.core.frame.DataFrame'>\n",
            "RangeIndex: 5155 entries, 0 to 5154\n",
            "Data columns (total 15 columns):\n",
            " #   Column             Non-Null Count  Dtype  \n",
            "---  ------             --------------  -----  \n",
            " 0   id                 5155 non-null   int64  \n",
            " 1   data_id            5155 non-null   int64  \n",
            " 2   url                5155 non-null   object \n",
            " 3   media_img          5155 non-null   object \n",
            " 4   status             5155 non-null   object \n",
            " 5   price              5155 non-null   object \n",
            " 6   beds               5155 non-null   object \n",
            " 7   baths              5155 non-null   object \n",
            " 8   sqft               5155 non-null   float64\n",
            " 9   sqftlot            5155 non-null   float64\n",
            " 10  address            5155 non-null   object \n",
            " 11  city               5155 non-null   object \n",
            " 12  state              5155 non-null   object \n",
            " 13  zip_code           5155 non-null   int64  \n",
            " 14  scraped_date_time  5155 non-null   object \n",
            "dtypes: float64(2), int64(3), object(10)\n",
            "memory usage: 604.2+ KB\n"
          ]
        }
      ]
    },
    {
      "cell_type": "code",
      "source": [
        "# Remove the '$' in the price column\n",
        "df['price'] = df['price'].replace('[\\$,]', '', regex=True).astype(float)\n",
        "df['price']"
      ],
      "metadata": {
        "colab": {
          "base_uri": "https://localhost:8080/"
        },
        "id": "TYKf5ftujtjb",
        "outputId": "ae4538cd-8993-4868-eaf1-1a0886cce930"
      },
      "execution_count": 29,
      "outputs": [
        {
          "output_type": "execute_result",
          "data": {
            "text/plain": [
              "0       134900.0\n",
              "1       299900.0\n",
              "2       118000.0\n",
              "3       339900.0\n",
              "4       250990.0\n",
              "          ...   \n",
              "5150    295000.0\n",
              "5151    125000.0\n",
              "5152    248599.0\n",
              "5153    410000.0\n",
              "5154    505000.0\n",
              "Name: price, Length: 5155, dtype: float64"
            ]
          },
          "metadata": {},
          "execution_count": 29
        }
      ]
    },
    {
      "cell_type": "code",
      "source": [
        "# Replace 'Studio' in the beds column\n",
        "df['beds'] = df['beds'].replace('Studio', 0).astype(float)\n",
        "df['beds'].unique()"
      ],
      "metadata": {
        "colab": {
          "base_uri": "https://localhost:8080/"
        },
        "id": "nw0rq1Pfk9WR",
        "outputId": "d150dee7-56a4-48cb-f262-eeea23c5ae6b"
      },
      "execution_count": 30,
      "outputs": [
        {
          "output_type": "execute_result",
          "data": {
            "text/plain": [
              "array([ 4.,  0.,  2.,  3.,  5.,  6., 31.,  1.,  7.,  8., 13., 12.,  9.,\n",
              "       10., 21.])"
            ]
          },
          "metadata": {},
          "execution_count": 30
        }
      ]
    },
    {
      "cell_type": "code",
      "source": [
        "# Visualize values distribution\n",
        "fig, ax = plt.subplots(figsize=(10, 6))\n",
        "ax = df['beds'].plot(kind='hist', bins=30)\n",
        "ax.set_title('Histogram of Number of Beds')\n",
        "plt.show()"
      ],
      "metadata": {
        "colab": {
          "base_uri": "https://localhost:8080/",
          "height": 545
        },
        "id": "v412tk08iSxw",
        "outputId": "7d9893ea-4683-477a-ce84-6e96d7bcd80a"
      },
      "execution_count": 31,
      "outputs": [
        {
          "output_type": "display_data",
          "data": {
            "text/plain": [
              "<Figure size 1000x600 with 1 Axes>"
            ],
            "image/png": "[encoded data removed]"
          },
          "metadata": {}
        }
      ]
    },
    {
      "cell_type": "code",
      "source": [
        "# Filter number of bedrooms outside of three sigma\n",
        "min_range = df['beds'].mean() - \\\n",
        "    (3 * df['beds'].std())\n",
        "max_range = df['beds'].mean() + \\\n",
        "    (3 * df['beds'].std())\n",
        "print(min_range, max_range)\n",
        "df = df[\n",
        "    (df['beds'] >= min_range) &\n",
        "    (df['beds'] <= max_range)\n",
        "]\n",
        "df['beds'].describe()"
      ],
      "metadata": {
        "colab": {
          "base_uri": "https://localhost:8080/"
        },
        "id": "CiK0klRdiz_V",
        "outputId": "0d8b340b-ae75-44e5-e35e-6d4fc59c48f4"
      },
      "execution_count": 32,
      "outputs": [
        {
          "output_type": "stream",
          "name": "stdout",
          "text": [
            "-1.1906867669875232 7.26983322673534\n"
          ]
        },
        {
          "output_type": "execute_result",
          "data": {
            "text/plain": [
              "count    5139.000000\n",
              "mean        3.009340\n",
              "std         1.231919\n",
              "min         0.000000\n",
              "25%         3.000000\n",
              "50%         3.000000\n",
              "75%         4.000000\n",
              "max         7.000000\n",
              "Name: beds, dtype: float64"
            ]
          },
          "metadata": {},
          "execution_count": 32
        }
      ]
    },
    {
      "cell_type": "code",
      "source": [
        "# Remove the '+' sign in the baths column\n",
        "df['baths'] = df['baths'].replace('[\\+]', '', regex=True).astype(float)\n",
        "df['baths'].unique()"
      ],
      "metadata": {
        "colab": {
          "base_uri": "https://localhost:8080/"
        },
        "id": "DtsSf8tnl9ZO",
        "outputId": "4e99040e-67a6-4217-b949-9490e597e352"
      },
      "execution_count": 33,
      "outputs": [
        {
          "output_type": "stream",
          "name": "stderr",
          "text": [
            "<ipython-input-33-3249425e63e3>:2: SettingWithCopyWarning: \n",
            "A value is trying to be set on a copy of a slice from a DataFrame.\n",
            "Try using .loc[row_indexer,col_indexer] = value instead\n",
            "\n",
            "See the caveats in the documentation: https://pandas.pydata.org/pandas-docs/stable/user_guide/indexing.html#returning-a-view-versus-a-copy\n",
            "  df['baths'] = df['baths'].replace('[\\+]', '', regex=True).astype(float)\n"
          ]
        },
        {
          "output_type": "execute_result",
          "data": {
            "text/plain": [
              "array([3. , 0. , 1. , 2. , 2.5, 3.5, 4. , 5.5, 1.5, 4.5, 5. , 6.5, 7.5,\n",
              "       6. , 0.5, 7. ])"
            ]
          },
          "metadata": {},
          "execution_count": 33
        }
      ]
    },
    {
      "cell_type": "code",
      "source": [
        "# Visualize values distribution\n",
        "fig, ax = plt.subplots(figsize=(10, 6))\n",
        "ax = df['baths'].plot(kind='hist', bins=10)\n",
        "ax.set_title('Histogram of Number of Baths')\n",
        "plt.show()"
      ],
      "metadata": {
        "colab": {
          "base_uri": "https://localhost:8080/",
          "height": 545
        },
        "id": "SK8BZIeRhQkX",
        "outputId": "c9a5276c-c55a-4da6-d2b9-a5f10b0df966"
      },
      "execution_count": 34,
      "outputs": [
        {
          "output_type": "display_data",
          "data": {
            "text/plain": [
              "<Figure size 1000x600 with 1 Axes>"
            ],
            "image/png": "[encoded data removed]"
          },
          "metadata": {}
        }
      ]
    },
    {
      "cell_type": "code",
      "source": [
        "# Filter number of bathrooms outside of three sigma\n",
        "min_range = df['baths'].mean() - \\\n",
        "    (3 * df['baths'].std())\n",
        "max_range = df['baths'].mean() + \\\n",
        "    (3 * df['baths'].std())\n",
        "print(min_range, max_range)\n",
        "df = df[\n",
        "    (df['baths'] >= min_range) &\n",
        "    (df['baths'] <= max_range)\n",
        "]\n",
        "df['baths'].describe()"
      ],
      "metadata": {
        "colab": {
          "base_uri": "https://localhost:8080/"
        },
        "id": "ffBYelmOjKxV",
        "outputId": "89a64696-770c-469e-96e3-1e16613230fe"
      },
      "execution_count": 35,
      "outputs": [
        {
          "output_type": "stream",
          "name": "stdout",
          "text": [
            "-0.8231827753726608 4.975352458190329\n"
          ]
        },
        {
          "output_type": "execute_result",
          "data": {
            "text/plain": [
              "count    5092.000000\n",
              "mean        2.044482\n",
              "std         0.911221\n",
              "min         0.000000\n",
              "25%         2.000000\n",
              "50%         2.000000\n",
              "75%         2.500000\n",
              "max         4.500000\n",
              "Name: baths, dtype: float64"
            ]
          },
          "metadata": {},
          "execution_count": 35
        }
      ]
    },
    {
      "cell_type": "code",
      "source": [
        "# Filter property area values outside of three sigma\n",
        "min_range = df['sqft'].mean() - \\\n",
        "    (3 * df['sqft'].std())\n",
        "max_range = df['sqft'].mean() + \\\n",
        "    (3 * df['sqft'].std())\n",
        "print(min_range, max_range)\n",
        "df = df[\n",
        "    (df['sqft'] >= min_range) &\n",
        "    (df['sqft'] <= max_range)\n",
        "]\n",
        "df['sqft'].describe()"
      ],
      "metadata": {
        "colab": {
          "base_uri": "https://localhost:8080/"
        },
        "id": "IKFSQpRPhVj7",
        "outputId": "1701d659-ab89-4152-ce6a-bed7ef600687"
      },
      "execution_count": 36,
      "outputs": [
        {
          "output_type": "stream",
          "name": "stdout",
          "text": [
            "-937.507902034082 4228.46587532552\n"
          ]
        },
        {
          "output_type": "execute_result",
          "data": {
            "text/plain": [
              "count    5052.000000\n",
              "mean     1619.939430\n",
              "std       813.363125\n",
              "min         0.000000\n",
              "25%      1188.000000\n",
              "50%      1601.000000\n",
              "75%      2089.250000\n",
              "max      4226.000000\n",
              "Name: sqft, dtype: float64"
            ]
          },
          "metadata": {},
          "execution_count": 36
        }
      ]
    },
    {
      "cell_type": "code",
      "source": [
        "# Filter lot area values outside of three sigma\n",
        "min_range = df['sqftlot'].mean() - \\\n",
        "    (3 * df['sqftlot'].std())\n",
        "max_range = df['sqftlot'].mean() + \\\n",
        "    (3 * df['sqftlot'].std())\n",
        "print(min_range, max_range)\n",
        "df = df[\n",
        "    (df['sqftlot'] >= min_range) &\n",
        "    (df['sqftlot'] <= max_range)\n",
        "]\n",
        "df['sqftlot'].describe()"
      ],
      "metadata": {
        "colab": {
          "base_uri": "https://localhost:8080/"
        },
        "id": "lZ6mTbYdhh6E",
        "outputId": "02ac0876-aaa3-4a06-b7bf-be635ddebde7"
      },
      "execution_count": 37,
      "outputs": [
        {
          "output_type": "stream",
          "name": "stdout",
          "text": [
            "-20399975.10731258 20680481.542387795\n"
          ]
        },
        {
          "output_type": "execute_result",
          "data": {
            "text/plain": [
              "count    5.048000e+03\n",
              "mean     1.510347e+04\n",
              "std      1.479537e+05\n",
              "min      0.000000e+00\n",
              "25%      0.000000e+00\n",
              "50%      0.000000e+00\n",
              "75%      0.000000e+00\n",
              "max      6.969600e+06\n",
              "Name: sqftlot, dtype: float64"
            ]
          },
          "metadata": {},
          "execution_count": 37
        }
      ]
    },
    {
      "cell_type": "code",
      "source": [
        "# Check for duplicates\n",
        "df[df.duplicated()]"
      ],
      "metadata": {
        "colab": {
          "base_uri": "https://localhost:8080/",
          "height": 49
        },
        "id": "xAbHYgJZtxcr",
        "outputId": "d3f1c5bc-6a05-426c-a9c2-f0c279c384fa"
      },
      "execution_count": 38,
      "outputs": [
        {
          "output_type": "execute_result",
          "data": {
            "text/plain": [
              "Empty DataFrame\n",
              "Columns: [id, data_id, url, media_img, status, price, beds, baths, sqft, sqftlot, address, city, state, zip_code, scraped_date_time]\n",
              "Index: []"
            ],
            "text/html": [
              "\n",
              "\n",
              "  <div id=\"df-21a06278-18e8-40c9-a633-c7fbcf132225\">\n",
              "    <div class=\"colab-df-container\">\n",
              "      <div>\n",
              "<style scoped>\n",
              "    .dataframe tbody tr th:only-of-type {\n",
              "        vertical-align: middle;\n",
              "    }\n",
              "\n",
              "    .dataframe tbody tr th {\n",
              "        vertical-align: top;\n",
              "    }\n",
              "\n",
              "    .dataframe thead th {\n",
              "        text-align: right;\n",
              "    }\n",
              "</style>\n",
              "<table border=\"1\" class=\"dataframe\">\n",
              "  <thead>\n",
              "    <tr style=\"text-align: right;\">\n",
              "      <th></th>\n",
              "      <th>id</th>\n",
              "      <th>data_id</th>\n",
              "      <th>url</th>\n",
              "      <th>media_img</th>\n",
              "      <th>status</th>\n",
              "      <th>price</th>\n",
              "      <th>beds</th>\n",
              "      <th>baths</th>\n",
              "      <th>sqft</th>\n",
              "      <th>sqftlot</th>\n",
              "      <th>address</th>\n",
              "      <th>city</th>\n",
              "      <th>state</th>\n",
              "      <th>zip_code</th>\n",
              "      <th>scraped_date_time</th>\n",
              "    </tr>\n",
              "  </thead>\n",
              "  <tbody>\n",
              "  </tbody>\n",
              "</table>\n",
              "</div>\n",
              "      <button class=\"colab-df-convert\" onclick=\"convertToInteractive('df-21a06278-18e8-40c9-a633-c7fbcf132225')\"\n",
              "              title=\"Convert this dataframe to an interactive table.\"\n",
              "              style=\"display:none;\">\n",
              "\n",
              "  <svg xmlns=\"http://www.w3.org/2000/svg\" height=\"24px\"viewBox=\"0 0 24 24\"\n",
              "       width=\"24px\">\n",
              "    <path d=\"M0 0h24v24H0V0z\" fill=\"none\"/>\n",
              "    <path d=\"M18.56 5.44l.94 2.06.94-2.06 2.06-.94-2.06-.94-.94-2.06-.94 2.06-2.06.94zm-11 1L8.5 8.5l.94-2.06 2.06-.94-2.06-.94L8.5 2.5l-.94 2.06-2.06.94zm10 10l.94 2.06.94-2.06 2.06-.94-2.06-.94-.94-2.06-.94 2.06-2.06.94z\"/><path d=\"M17.41 7.96l-1.37-1.37c-.4-.4-.92-.59-1.43-.59-.52 0-1.04.2-1.43.59L10.3 9.45l-7.72 7.72c-.78.78-.78 2.05 0 2.83L4 21.41c.39.39.9.59 1.41.59.51 0 1.02-.2 1.41-.59l7.78-7.78 2.81-2.81c.8-.78.8-2.07 0-2.86zM5.41 20L4 18.59l7.72-7.72 1.47 1.35L5.41 20z\"/>\n",
              "  </svg>\n",
              "      </button>\n",
              "\n",
              "\n",
              "\n",
              "    <div id=\"df-b9976bc4-5680-4867-9cd5-bc05c46ea59e\">\n",
              "      <button class=\"colab-df-quickchart\" onclick=\"quickchart('df-b9976bc4-5680-4867-9cd5-bc05c46ea59e')\"\n",
              "              title=\"Suggest charts.\"\n",
              "              style=\"display:none;\">\n",
              "\n",
              "<svg xmlns=\"http://www.w3.org/2000/svg\" height=\"24px\"viewBox=\"0 0 24 24\"\n",
              "     width=\"24px\">\n",
              "    <g>\n",
              "        <path d=\"M19 3H5c-1.1 0-2 .9-2 2v14c0 1.1.9 2 2 2h14c1.1 0 2-.9 2-2V5c0-1.1-.9-2-2-2zM9 17H7v-7h2v7zm4 0h-2V7h2v10zm4 0h-2v-4h2v4z\"/>\n",
              "    </g>\n",
              "</svg>\n",
              "      </button>\n",
              "    </div>\n",
              "\n",
              "<style>\n",
              "  .colab-df-quickchart {\n",
              "    background-color: #E8F0FE;\n",
              "    border: none;\n",
              "    border-radius: 50%;\n",
              "    cursor: pointer;\n",
              "    display: none;\n",
              "    fill: #1967D2;\n",
              "    height: 32px;\n",
              "    padding: 0 0 0 0;\n",
              "    width: 32px;\n",
              "  }\n",
              "\n",
              "  .colab-df-quickchart:hover {\n",
              "    background-color: #E2EBFA;\n",
              "    box-shadow: 0px 1px 2px rgba(60, 64, 67, 0.3), 0px 1px 3px 1px rgba(60, 64, 67, 0.15);\n",
              "    fill: #174EA6;\n",
              "  }\n",
              "\n",
              "  [theme=dark] .colab-df-quickchart {\n",
              "    background-color: #3B4455;\n",
              "    fill: #D2E3FC;\n",
              "  }\n",
              "\n",
              "  [theme=dark] .colab-df-quickchart:hover {\n",
              "    background-color: #434B5C;\n",
              "    box-shadow: 0px 1px 3px 1px rgba(0, 0, 0, 0.15);\n",
              "    filter: drop-shadow(0px 1px 2px rgba(0, 0, 0, 0.3));\n",
              "    fill: #FFFFFF;\n",
              "  }\n",
              "</style>\n",
              "\n",
              "    <script>\n",
              "      async function quickchart(key) {\n",
              "        const containerElement = document.querySelector('#' + key);\n",
              "        const charts = await google.colab.kernel.invokeFunction(\n",
              "            'suggestCharts', [key], {});\n",
              "      }\n",
              "    </script>\n",
              "\n",
              "      <script>\n",
              "\n",
              "function displayQuickchartButton(domScope) {\n",
              "  let quickchartButtonEl =\n",
              "    domScope.querySelector('#df-b9976bc4-5680-4867-9cd5-bc05c46ea59e button.colab-df-quickchart');\n",
              "  quickchartButtonEl.style.display =\n",
              "    google.colab.kernel.accessAllowed ? 'block' : 'none';\n",
              "}\n",
              "\n",
              "        displayQuickchartButton(document);\n",
              "      </script>\n",
              "      <style>\n",
              "    .colab-df-container {\n",
              "      display:flex;\n",
              "      flex-wrap:wrap;\n",
              "      gap: 12px;\n",
              "    }\n",
              "\n",
              "    .colab-df-convert {\n",
              "      background-color: #E8F0FE;\n",
              "      border: none;\n",
              "      border-radius: 50%;\n",
              "      cursor: pointer;\n",
              "      display: none;\n",
              "      fill: #1967D2;\n",
              "      height: 32px;\n",
              "      padding: 0 0 0 0;\n",
              "      width: 32px;\n",
              "    }\n",
              "\n",
              "    .colab-df-convert:hover {\n",
              "      background-color: #E2EBFA;\n",
              "      box-shadow: 0px 1px 2px rgba(60, 64, 67, 0.3), 0px 1px 3px 1px rgba(60, 64, 67, 0.15);\n",
              "      fill: #174EA6;\n",
              "    }\n",
              "\n",
              "    [theme=dark] .colab-df-convert {\n",
              "      background-color: #3B4455;\n",
              "      fill: #D2E3FC;\n",
              "    }\n",
              "\n",
              "    [theme=dark] .colab-df-convert:hover {\n",
              "      background-color: #434B5C;\n",
              "      box-shadow: 0px 1px 3px 1px rgba(0, 0, 0, 0.15);\n",
              "      filter: drop-shadow(0px 1px 2px rgba(0, 0, 0, 0.3));\n",
              "      fill: #FFFFFF;\n",
              "    }\n",
              "  </style>\n",
              "\n",
              "      <script>\n",
              "        const buttonEl =\n",
              "          document.querySelector('#df-21a06278-18e8-40c9-a633-c7fbcf132225 button.colab-df-convert');\n",
              "        buttonEl.style.display =\n",
              "          google.colab.kernel.accessAllowed ? 'block' : 'none';\n",
              "\n",
              "        async function convertToInteractive(key) {\n",
              "          const element = document.querySelector('#df-21a06278-18e8-40c9-a633-c7fbcf132225');\n",
              "          const dataTable =\n",
              "            await google.colab.kernel.invokeFunction('convertToInteractive',\n",
              "                                                     [key], {});\n",
              "          if (!dataTable) return;\n",
              "\n",
              "          const docLinkHtml = 'Like what you see? Visit the ' +\n",
              "            '<a target=\"_blank\" href=https://colab.research.google.com/notebooks/data_table.ipynb>data table notebook</a>'\n",
              "            + ' to learn more about interactive tables.';\n",
              "          element.innerHTML = '';\n",
              "          dataTable['output_type'] = 'display_data';\n",
              "          await google.colab.output.renderOutput(dataTable, element);\n",
              "          const docLink = document.createElement('div');\n",
              "          docLink.innerHTML = docLinkHtml;\n",
              "          element.appendChild(docLink);\n",
              "        }\n",
              "      </script>\n",
              "    </div>\n",
              "  </div>\n"
            ]
          },
          "metadata": {},
          "execution_count": 38
        }
      ]
    },
    {
      "cell_type": "code",
      "source": [
        "# Dataset after cleaning\n",
        "df = df[['price', 'beds', 'baths', 'sqft', 'sqftlot', 'zip_code']]\n",
        "df.shape"
      ],
      "metadata": {
        "colab": {
          "base_uri": "https://localhost:8080/"
        },
        "id": "7_a7INmRkaSV",
        "outputId": "cce43371-9196-4601-bbe0-3a578519c6ba"
      },
      "execution_count": 39,
      "outputs": [
        {
          "output_type": "execute_result",
          "data": {
            "text/plain": [
              "(5048, 6)"
            ]
          },
          "metadata": {},
          "execution_count": 39
        }
      ]
    },
    {
      "cell_type": "markdown",
      "source": [
        "## Determine the feature variables and target variable"
      ],
      "metadata": {
        "id": "D2aK040zkvG5"
      }
    },
    {
      "cell_type": "code",
      "source": [
        "# Visualize heatmap of feature correlation\n",
        "plt.figure(figsize=(8, 6))\n",
        "sns.heatmap(\n",
        "    df[df.columns.to_list()].corr(numeric_only = True),\n",
        "    cmap='YlGn',\n",
        "    annot=True\n",
        ")\n",
        "plt.show()"
      ],
      "metadata": {
        "colab": {
          "base_uri": "https://localhost:8080/",
          "height": 528
        },
        "id": "cfqdwJDP_OPO",
        "outputId": "b9e6239a-4190-4190-8572-8c7d549cd21f"
      },
      "execution_count": 40,
      "outputs": [
        {
          "output_type": "display_data",
          "data": {
            "text/plain": [
              "<Figure size 800x600 with 2 Axes>"
            ],
            "image/png": "[encoded data removed]"
          },
          "metadata": {}
        }
      ]
    },
    {
      "cell_type": "code",
      "source": [
        "# Select features and target variable\n",
        "features = df[['beds', 'baths', 'sqft', 'sqftlot', 'zip_code']]\n",
        "target = df['price']\n",
        "\n",
        "# Split the data into training and testing sets\n",
        "X_train, X_test, y_train, y_test = train_test_split(\n",
        "    features, target, test_size=0.2, random_state=0\n",
        ")"
      ],
      "metadata": {
        "id": "qB2-sQpWkGQl"
      },
      "execution_count": 41,
      "outputs": []
    },
    {
      "cell_type": "markdown",
      "source": [
        "## Use sklearn's regression algorithms in predicting property prices"
      ],
      "metadata": {
        "id": "2NYuQh6ogse4"
      }
    },
    {
      "cell_type": "markdown",
      "source": [
        "### Apply linear regression"
      ],
      "metadata": {
        "id": "uXEwJrn5JWlO"
      }
    },
    {
      "cell_type": "code",
      "source": [
        "# Train the model on the training data\n",
        "lr_model = LinearRegression()\n",
        "lr_model.fit(X_train, y_train)\n",
        "\n",
        "# Make predictions on the test data\n",
        "lr_pred = lr_model.predict(X_test)\n",
        "\n",
        "# Get the evaluation metrics\n",
        "# 1. Calculate the mean absolute error of the model\n",
        "lr_mae = mean_absolute_error(y_test, lr_pred)\n",
        "print(f\"Mean Absolute Error: {lr_mae:.2f}\")\n",
        "\n",
        "# 2. Calculate the coefficient of determination of the model\n",
        "lr_r2_score = r2_score(y_test, lr_pred)\n",
        "print(f\"R^2 Score: {lr_r2_score:.2f}\")\n",
        "\n",
        "# 3. Calculate model score\n",
        "lr_score = lr_model.score(X_test, y_test)\n",
        "print(f\"Model score: {lr_score:.2f}\")\n",
        "\n",
        "# 4. Calculate explained variance score\n",
        "lr_explain = explained_variance_score(lr_pred, y_test)\n",
        "print(f\"Explained variance score: {lr_explain:.2f}\")"
      ],
      "metadata": {
        "colab": {
          "base_uri": "https://localhost:8080/"
        },
        "id": "pF0sJNy4G-6W",
        "outputId": "d0015150-db7b-493b-ad15-aeaaf564ba4c"
      },
      "execution_count": 42,
      "outputs": [
        {
          "output_type": "stream",
          "name": "stdout",
          "text": [
            "Mean Absolute Error: 127820.38\n",
            "R^2 Score: 0.15\n",
            "Model score: 0.15\n",
            "Explained variance score: -1.93\n"
          ]
        }
      ]
    },
    {
      "cell_type": "markdown",
      "source": [
        "### Apply decision tree regression"
      ],
      "metadata": {
        "id": "rMr2NJphrDyb"
      }
    },
    {
      "cell_type": "code",
      "source": [
        "# Train the model on the training data\n",
        "dt_model = DecisionTreeRegressor(random_state=0)\n",
        "dt_model.fit(X_train, y_train)\n",
        "\n",
        "# Make predictions on the test data\n",
        "dt_pred = dt_model.predict(X_test)\n",
        "\n",
        "# Get the evaluation metrics\n",
        "# 1. Calculate the mean absolute error of the model\n",
        "dt_mae = mean_absolute_error(y_test, dt_pred)\n",
        "print(f\"Mean Absolute Error: {dt_mae:.2f}\")\n",
        "\n",
        "# 2. Calculate the coefficient of determination of the model\n",
        "dt_r2_score = r2_score(y_test, dt_pred)\n",
        "print(f\"R^2 Score: {dt_r2_score:.2f}\")\n",
        "\n",
        "# 3. Calculate model score\n",
        "dt_score = dt_model.score(X_test, y_test)\n",
        "print(f\"Model score: {dt_score:.2f}\")\n",
        "\n",
        "# 4. Calculate explained variance score\n",
        "dt_explain = explained_variance_score(dt_pred, y_test)\n",
        "print(f\"Explained variance score: {dt_explain:.2f}\")"
      ],
      "metadata": {
        "colab": {
          "base_uri": "https://localhost:8080/"
        },
        "id": "LZsNfHKFkWhi",
        "outputId": "a90aa2a7-f218-475c-a417-2ad636cca935"
      },
      "execution_count": 43,
      "outputs": [
        {
          "output_type": "stream",
          "name": "stdout",
          "text": [
            "Mean Absolute Error: 102797.62\n",
            "R^2 Score: -0.10\n",
            "Model score: -0.10\n",
            "Explained variance score: -0.56\n"
          ]
        }
      ]
    },
    {
      "cell_type": "markdown",
      "source": [
        "### Apply random forest regression"
      ],
      "metadata": {
        "id": "wB81IGKJ-JrJ"
      }
    },
    {
      "cell_type": "code",
      "source": [
        "# Train the model on the training data\n",
        "rf_model = RandomForestRegressor(n_estimators=50, random_state=0)\n",
        "rf_model.fit(X_train, y_train)\n",
        "\n",
        "# Make predictions on the test data\n",
        "rf_pred = rf_model.predict(X_test)\n",
        "\n",
        "# Get the evaluation metrics\n",
        "# 1. Calculate the mean absolute error of the model\n",
        "rf_mae = mean_absolute_error(y_test, rf_pred)\n",
        "print(f\"Mean Absolute Error: {rf_mae:.2f}\")\n",
        "\n",
        "# 2. Calculate the coefficient of determination of the model\n",
        "rf_r2_score = r2_score(y_test, rf_pred)\n",
        "print(f\"R^2 Score: {rf_r2_score:.2f}\")\n",
        "\n",
        "# 3. Calculate model score\n",
        "rf_score = rf_model.score(X_test, y_test)\n",
        "print(f\"Model score: {rf_score:.2f}\")\n",
        "\n",
        "# 4. Calculate explained variance score\n",
        "rf_explain = explained_variance_score(rf_pred, y_test)\n",
        "print(f\"Explained variance score: {rf_explain:.2f}\")"
      ],
      "metadata": {
        "colab": {
          "base_uri": "https://localhost:8080/"
        },
        "id": "ywk92Ci074fm",
        "outputId": "9964dcf3-aeb0-4f30-d15a-bc4b3565ca45"
      },
      "execution_count": 44,
      "outputs": [
        {
          "output_type": "stream",
          "name": "stdout",
          "text": [
            "Mean Absolute Error: 86022.63\n",
            "R^2 Score: 0.43\n",
            "Model score: 0.43\n",
            "Explained variance score: -0.27\n"
          ]
        }
      ]
    },
    {
      "cell_type": "markdown",
      "source": [
        "### Apply gradient boosting regression"
      ],
      "metadata": {
        "id": "LSnH0xI5gnJn"
      }
    },
    {
      "cell_type": "code",
      "source": [
        "# Train the model on the training data\n",
        "gb_model = GradientBoostingRegressor(n_estimators=50, learning_rate=0.1, random_state=0)\n",
        "gb_model.fit(X_train, y_train)\n",
        "\n",
        "# Make predictions on the test data\n",
        "gb_pred = gb_model.predict(X_test)\n",
        "\n",
        "# Get the evaluation metrics\n",
        "# 1. Calculate the mean absolute error of the model\n",
        "gb_mae = mean_absolute_error(y_test, gb_pred)\n",
        "print(f\"Mean Absolute Error: {gb_mae:.2f}\")\n",
        "\n",
        "# 2. Calculate the coefficient of determination of the model\n",
        "gb_r2_score = r2_score(y_test, gb_pred)\n",
        "print(f\"R^2 Score: {gb_r2_score:.2f}\")\n",
        "\n",
        "# 3. Calculate model score\n",
        "gb_score = gb_model.score(X_test, y_test)\n",
        "print(f\"Model score: {gb_score:.2f}\")\n",
        "\n",
        "# 4. Calculate explained variance score\n",
        "gb_explain = explained_variance_score(gb_pred, y_test)\n",
        "print(f\"Explained variance score: {gb_explain:.2f}\")"
      ],
      "metadata": {
        "colab": {
          "base_uri": "https://localhost:8080/"
        },
        "id": "apYju9sOf1dX",
        "outputId": "2449672e-9466-4e65-84e2-43cf71ea7b9b"
      },
      "execution_count": 45,
      "outputs": [
        {
          "output_type": "stream",
          "name": "stdout",
          "text": [
            "Mean Absolute Error: 100366.10\n",
            "R^2 Score: 0.51\n",
            "Model score: 0.51\n",
            "Explained variance score: -0.67\n"
          ]
        }
      ]
    }
  ]
}