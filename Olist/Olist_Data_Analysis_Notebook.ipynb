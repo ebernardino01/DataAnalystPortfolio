{
  "nbformat": 4,
  "nbformat_minor": 0,
  "metadata": {
    "colab": {
      "provenance": [],
      "authorship_tag": "ABX9TyOXCfyAzcQ2EIi3+XEKWCAA",
      "include_colab_link": true
    },
    "kernelspec": {
      "name": "python3",
      "display_name": "Python 3"
    },
    "language_info": {
      "name": "python"
    }
  },
  "cells": [
    {
      "cell_type": "markdown",
      "metadata": {
        "id": "view-in-github",
        "colab_type": "text"
      },
      "source": [
        "<a href=\"https://colab.research.google.com/github/ebernardino01/DataAnalystPortfolio/blob/main/Olist/Olist_Data_Analysis_Notebook.ipynb\" target=\"_parent\"><img src=\"https://colab.research.google.com/assets/colab-badge.svg\" alt=\"Open In Colab\"/></a>"
      ]
    },
    {
      "cell_type": "markdown",
      "source": [
        "# Olist Data Analysis Notebook"
      ],
      "metadata": {
        "id": "goUA4Az3NGQQ"
      }
    },
    {
      "cell_type": "markdown",
      "source": [
        "## Installing and importing libraries"
      ],
      "metadata": {
        "id": "5y1DPTL2NLGc"
      }
    },
    {
      "cell_type": "code",
      "execution_count": 1,
      "metadata": {
        "id": "pU2wvJKlNBqa",
        "colab": {
          "base_uri": "https://localhost:8080/"
        },
        "outputId": "bbcb24c3-bc99-4f42-bbc4-50e63165d4ac"
      },
      "outputs": [
        {
          "output_type": "stream",
          "name": "stdout",
          "text": [
            "Looking in indexes: https://pypi.org/simple, https://us-python.pkg.dev/colab-wheels/public/simple/\n",
            "Collecting geopandas\n",
            "  Downloading geopandas-0.12.2-py3-none-any.whl (1.1 MB)\n",
            "\u001b[2K     \u001b[90m━━━━━━━━━━━━━━━━━━━━━━━━━━━━━━━━━━━━━━━━\u001b[0m \u001b[32m1.1/1.1 MB\u001b[0m \u001b[31m13.3 MB/s\u001b[0m eta \u001b[36m0:00:00\u001b[0m\n",
            "\u001b[?25hCollecting pyproj>=2.6.1.post1\n",
            "  Downloading pyproj-3.5.0-cp39-cp39-manylinux_2_17_x86_64.manylinux2014_x86_64.whl (7.8 MB)\n",
            "\u001b[2K     \u001b[90m━━━━━━━━━━━━━━━━━━━━━━━━━━━━━━━━━━━━━━━━\u001b[0m \u001b[32m7.8/7.8 MB\u001b[0m \u001b[31m39.7 MB/s\u001b[0m eta \u001b[36m0:00:00\u001b[0m\n",
            "\u001b[?25hRequirement already satisfied: pandas>=1.0.0 in /usr/local/lib/python3.9/dist-packages (from geopandas) (1.4.4)\n",
            "Collecting fiona>=1.8\n",
            "  Downloading Fiona-1.9.2-cp39-cp39-manylinux_2_17_x86_64.manylinux2014_x86_64.whl (16.1 MB)\n",
            "\u001b[2K     \u001b[90m━━━━━━━━━━━━━━━━━━━━━━━━━━━━━━━━━━━━━━━━\u001b[0m \u001b[32m16.1/16.1 MB\u001b[0m \u001b[31m39.5 MB/s\u001b[0m eta \u001b[36m0:00:00\u001b[0m\n",
            "\u001b[?25hRequirement already satisfied: packaging in /usr/local/lib/python3.9/dist-packages (from geopandas) (23.0)\n",
            "Requirement already satisfied: shapely>=1.7 in /usr/local/lib/python3.9/dist-packages (from geopandas) (2.0.1)\n",
            "Requirement already satisfied: importlib-metadata in /usr/local/lib/python3.9/dist-packages (from fiona>=1.8->geopandas) (6.1.0)\n",
            "Requirement already satisfied: attrs>=19.2.0 in /usr/local/lib/python3.9/dist-packages (from fiona>=1.8->geopandas) (22.2.0)\n",
            "Collecting munch>=2.3.2\n",
            "  Downloading munch-2.5.0-py2.py3-none-any.whl (10 kB)\n",
            "Collecting click-plugins>=1.0\n",
            "  Downloading click_plugins-1.1.1-py2.py3-none-any.whl (7.5 kB)\n",
            "Requirement already satisfied: click~=8.0 in /usr/local/lib/python3.9/dist-packages (from fiona>=1.8->geopandas) (8.1.3)\n",
            "Requirement already satisfied: certifi in /usr/local/lib/python3.9/dist-packages (from fiona>=1.8->geopandas) (2022.12.7)\n",
            "Collecting cligj>=0.5\n",
            "  Downloading cligj-0.7.2-py3-none-any.whl (7.1 kB)\n",
            "Requirement already satisfied: numpy>=1.18.5 in /usr/local/lib/python3.9/dist-packages (from pandas>=1.0.0->geopandas) (1.22.4)\n",
            "Requirement already satisfied: python-dateutil>=2.8.1 in /usr/local/lib/python3.9/dist-packages (from pandas>=1.0.0->geopandas) (2.8.2)\n",
            "Requirement already satisfied: pytz>=2020.1 in /usr/local/lib/python3.9/dist-packages (from pandas>=1.0.0->geopandas) (2022.7.1)\n",
            "Requirement already satisfied: six in /usr/local/lib/python3.9/dist-packages (from munch>=2.3.2->fiona>=1.8->geopandas) (1.16.0)\n",
            "Requirement already satisfied: zipp>=0.5 in /usr/local/lib/python3.9/dist-packages (from importlib-metadata->fiona>=1.8->geopandas) (3.15.0)\n",
            "Installing collected packages: pyproj, munch, cligj, click-plugins, fiona, geopandas\n",
            "Successfully installed click-plugins-1.1.1 cligj-0.7.2 fiona-1.9.2 geopandas-0.12.2 munch-2.5.0 pyproj-3.5.0\n",
            "Looking in indexes: https://pypi.org/simple, https://us-python.pkg.dev/colab-wheels/public/simple/\n",
            "Collecting pyshp\n",
            "  Downloading pyshp-2.3.1-py2.py3-none-any.whl (46 kB)\n",
            "\u001b[2K     \u001b[90m━━━━━━━━━━━━━━━━━━━━━━━━━━━━━━━━━━━━━━━━\u001b[0m \u001b[32m46.5/46.5 KB\u001b[0m \u001b[31m1.7 MB/s\u001b[0m eta \u001b[36m0:00:00\u001b[0m\n",
            "\u001b[?25hInstalling collected packages: pyshp\n",
            "Successfully installed pyshp-2.3.1\n",
            "Looking in indexes: https://pypi.org/simple, https://us-python.pkg.dev/colab-wheels/public/simple/\n",
            "Requirement already satisfied: shapely in /usr/local/lib/python3.9/dist-packages (2.0.1)\n",
            "Requirement already satisfied: numpy>=1.14 in /usr/local/lib/python3.9/dist-packages (from shapely) (1.22.4)\n",
            "Looking in indexes: https://pypi.org/simple, https://us-python.pkg.dev/colab-wheels/public/simple/\n",
            "Collecting descartes\n",
            "  Downloading descartes-1.1.0-py3-none-any.whl (5.8 kB)\n",
            "Requirement already satisfied: matplotlib in /usr/local/lib/python3.9/dist-packages (from descartes) (3.7.1)\n",
            "Requirement already satisfied: pyparsing>=2.3.1 in /usr/local/lib/python3.9/dist-packages (from matplotlib->descartes) (3.0.9)\n",
            "Requirement already satisfied: cycler>=0.10 in /usr/local/lib/python3.9/dist-packages (from matplotlib->descartes) (0.11.0)\n",
            "Requirement already satisfied: numpy>=1.20 in /usr/local/lib/python3.9/dist-packages (from matplotlib->descartes) (1.22.4)\n",
            "Requirement already satisfied: python-dateutil>=2.7 in /usr/local/lib/python3.9/dist-packages (from matplotlib->descartes) (2.8.2)\n",
            "Requirement already satisfied: fonttools>=4.22.0 in /usr/local/lib/python3.9/dist-packages (from matplotlib->descartes) (4.39.3)\n",
            "Requirement already satisfied: pillow>=6.2.0 in /usr/local/lib/python3.9/dist-packages (from matplotlib->descartes) (8.4.0)\n",
            "Requirement already satisfied: contourpy>=1.0.1 in /usr/local/lib/python3.9/dist-packages (from matplotlib->descartes) (1.0.7)\n",
            "Requirement already satisfied: importlib-resources>=3.2.0 in /usr/local/lib/python3.9/dist-packages (from matplotlib->descartes) (5.12.0)\n",
            "Requirement already satisfied: kiwisolver>=1.0.1 in /usr/local/lib/python3.9/dist-packages (from matplotlib->descartes) (1.4.4)\n",
            "Requirement already satisfied: packaging>=20.0 in /usr/local/lib/python3.9/dist-packages (from matplotlib->descartes) (23.0)\n",
            "Requirement already satisfied: zipp>=3.1.0 in /usr/local/lib/python3.9/dist-packages (from importlib-resources>=3.2.0->matplotlib->descartes) (3.15.0)\n",
            "Requirement already satisfied: six>=1.5 in /usr/local/lib/python3.9/dist-packages (from python-dateutil>=2.7->matplotlib->descartes) (1.16.0)\n",
            "Installing collected packages: descartes\n",
            "Successfully installed descartes-1.1.0\n"
          ]
        }
      ],
      "source": [
        "# Install geopandas and dependencies\n",
        "!pip install --upgrade geopandas\n",
        "!pip install --upgrade pyshp\n",
        "!pip install --upgrade shapely\n",
        "!pip install --upgrade descartes\n",
        "\n",
        "# Import libraries\n",
        "import pandas as pd\n",
        "import numpy as np\n",
        "import matplotlib.pyplot as plt\n",
        "import matplotlib.ticker as ticker\n",
        "import seaborn as sns\n",
        "import geopandas as gpd\n",
        "%matplotlib inline"
      ]
    },
    {
      "cell_type": "markdown",
      "source": [
        "## Reading the data from source"
      ],
      "metadata": {
        "id": "xwVY4AjRNtmF"
      }
    },
    {
      "cell_type": "code",
      "source": [
        "# Set no limit on column display\n",
        "pd.set_option('display.max_columns', None)"
      ],
      "metadata": {
        "id": "gE3bAnHYNv8V"
      },
      "execution_count": 2,
      "outputs": []
    },
    {
      "cell_type": "code",
      "source": [
        "# Load customers dataset\n",
        "df_customers = pd.read_csv(\n",
        "    'https://drive.google.com/uc?export=download&id=1K8S3d4ghfwTUnHnFNtfwzPSlbOCAYmBX'\n",
        ")\n",
        "print(df_customers.shape)\n",
        "df_customers.info()"
      ],
      "metadata": {
        "colab": {
          "base_uri": "https://localhost:8080/"
        },
        "id": "Zvj7DJpANzpW",
        "outputId": "429d94da-3dda-4e31-85a2-d7a2024c89fa"
      },
      "execution_count": 3,
      "outputs": [
        {
          "output_type": "stream",
          "name": "stdout",
          "text": [
            "(99441, 5)\n",
            "<class 'pandas.core.frame.DataFrame'>\n",
            "RangeIndex: 99441 entries, 0 to 99440\n",
            "Data columns (total 5 columns):\n",
            " #   Column                    Non-Null Count  Dtype \n",
            "---  ------                    --------------  ----- \n",
            " 0   customer_id               99441 non-null  object\n",
            " 1   customer_unique_id        99441 non-null  object\n",
            " 2   customer_zip_code_prefix  99441 non-null  int64 \n",
            " 3   customer_city             99441 non-null  object\n",
            " 4   customer_state            99441 non-null  object\n",
            "dtypes: int64(1), object(4)\n",
            "memory usage: 3.8+ MB\n"
          ]
        }
      ]
    },
    {
      "cell_type": "code",
      "source": [
        "# Load geolocation dataset\n",
        "df_location = pd.read_csv(\n",
        "    'https://drive.google.com/uc?export=download&id=1Dvp32qN3L5vQ37RQ4AnP2vxEJIN6o56k'\n",
        ")\n",
        "print(df_location.shape)\n",
        "df_location.info()"
      ],
      "metadata": {
        "colab": {
          "base_uri": "https://localhost:8080/"
        },
        "id": "fO5WpLqoPtjG",
        "outputId": "41e15468-4000-480c-9a82-a2e49016c5e3"
      },
      "execution_count": 4,
      "outputs": [
        {
          "output_type": "stream",
          "name": "stdout",
          "text": [
            "(1000163, 5)\n",
            "<class 'pandas.core.frame.DataFrame'>\n",
            "RangeIndex: 1000163 entries, 0 to 1000162\n",
            "Data columns (total 5 columns):\n",
            " #   Column                       Non-Null Count    Dtype  \n",
            "---  ------                       --------------    -----  \n",
            " 0   geolocation_zip_code_prefix  1000163 non-null  int64  \n",
            " 1   geolocation_lat              1000163 non-null  float64\n",
            " 2   geolocation_lng              1000163 non-null  float64\n",
            " 3   geolocation_city             1000163 non-null  object \n",
            " 4   geolocation_state            1000163 non-null  object \n",
            "dtypes: float64(2), int64(1), object(2)\n",
            "memory usage: 38.2+ MB\n"
          ]
        }
      ]
    },
    {
      "cell_type": "code",
      "source": [
        "# Load order items dataset\n",
        "df_items = pd.read_csv(\n",
        "    'https://drive.google.com/uc?export=download&id=17R4g7Pw6iDbN8MtGVbqEm1s-EwjFQHfH'\n",
        ")\n",
        "print(df_items.shape)\n",
        "df_items.info()"
      ],
      "metadata": {
        "colab": {
          "base_uri": "https://localhost:8080/"
        },
        "id": "qBkeZ4rCP8wn",
        "outputId": "edb8b9c8-1eb7-45b0-8446-d74888e3e3cc"
      },
      "execution_count": 5,
      "outputs": [
        {
          "output_type": "stream",
          "name": "stdout",
          "text": [
            "(112650, 7)\n",
            "<class 'pandas.core.frame.DataFrame'>\n",
            "RangeIndex: 112650 entries, 0 to 112649\n",
            "Data columns (total 7 columns):\n",
            " #   Column               Non-Null Count   Dtype  \n",
            "---  ------               --------------   -----  \n",
            " 0   order_id             112650 non-null  object \n",
            " 1   order_item_id        112650 non-null  int64  \n",
            " 2   product_id           112650 non-null  object \n",
            " 3   seller_id            112650 non-null  object \n",
            " 4   shipping_limit_date  112650 non-null  object \n",
            " 5   price                112650 non-null  float64\n",
            " 6   freight_value        112650 non-null  float64\n",
            "dtypes: float64(2), int64(1), object(4)\n",
            "memory usage: 6.0+ MB\n"
          ]
        }
      ]
    },
    {
      "cell_type": "code",
      "source": [
        "# Load order payments dataset\n",
        "df_payments = pd.read_csv(\n",
        "    'https://drive.google.com/uc?export=download&id=1oHTHEbSs0kI7IXFmyrJirBS5q7Dtvzid'\n",
        ")\n",
        "print(df_payments.shape)\n",
        "df_payments.info()"
      ],
      "metadata": {
        "colab": {
          "base_uri": "https://localhost:8080/"
        },
        "id": "zxqRb57nQT76",
        "outputId": "2df30494-1c61-4dbc-9c9e-2e1b7979a644"
      },
      "execution_count": 6,
      "outputs": [
        {
          "output_type": "stream",
          "name": "stdout",
          "text": [
            "(103886, 5)\n",
            "<class 'pandas.core.frame.DataFrame'>\n",
            "RangeIndex: 103886 entries, 0 to 103885\n",
            "Data columns (total 5 columns):\n",
            " #   Column                Non-Null Count   Dtype  \n",
            "---  ------                --------------   -----  \n",
            " 0   order_id              103886 non-null  object \n",
            " 1   payment_sequential    103886 non-null  int64  \n",
            " 2   payment_type          103886 non-null  object \n",
            " 3   payment_installments  103886 non-null  int64  \n",
            " 4   payment_value         103886 non-null  float64\n",
            "dtypes: float64(1), int64(2), object(2)\n",
            "memory usage: 4.0+ MB\n"
          ]
        }
      ]
    },
    {
      "cell_type": "code",
      "source": [
        "# Load order reviews dataset\n",
        "df_reviews = pd.read_csv(\n",
        "    'https://drive.google.com/uc?export=download&id=1MUWnT3gDWlKbqfZTlJQHbJtEVrWy7A2k'\n",
        ")\n",
        "print(df_reviews.shape)\n",
        "df_reviews.info()"
      ],
      "metadata": {
        "colab": {
          "base_uri": "https://localhost:8080/"
        },
        "id": "mT8haSgZQuUK",
        "outputId": "56ce4415-ea70-42ac-d662-6429c08475a5"
      },
      "execution_count": 7,
      "outputs": [
        {
          "output_type": "stream",
          "name": "stdout",
          "text": [
            "(99224, 7)\n",
            "<class 'pandas.core.frame.DataFrame'>\n",
            "RangeIndex: 99224 entries, 0 to 99223\n",
            "Data columns (total 7 columns):\n",
            " #   Column                   Non-Null Count  Dtype \n",
            "---  ------                   --------------  ----- \n",
            " 0   review_id                99224 non-null  object\n",
            " 1   order_id                 99224 non-null  object\n",
            " 2   review_score             99224 non-null  int64 \n",
            " 3   review_comment_title     11568 non-null  object\n",
            " 4   review_comment_message   40977 non-null  object\n",
            " 5   review_creation_date     99224 non-null  object\n",
            " 6   review_answer_timestamp  99224 non-null  object\n",
            "dtypes: int64(1), object(6)\n",
            "memory usage: 5.3+ MB\n"
          ]
        }
      ]
    },
    {
      "cell_type": "code",
      "source": [
        "# Load orders dataset\n",
        "df_orders = pd.read_csv(\n",
        "    'https://drive.google.com/uc?export=download&id=1bK1h1zK5kb_cLPelX3YX_GhMd_WWjEH6'\n",
        ")\n",
        "print(df_orders.shape)\n",
        "df_orders.info()"
      ],
      "metadata": {
        "colab": {
          "base_uri": "https://localhost:8080/"
        },
        "id": "49xjla3lQ5IH",
        "outputId": "02b0e46c-1bea-4be3-ef11-d6cf4127f5f5"
      },
      "execution_count": 8,
      "outputs": [
        {
          "output_type": "stream",
          "name": "stdout",
          "text": [
            "(99441, 8)\n",
            "<class 'pandas.core.frame.DataFrame'>\n",
            "RangeIndex: 99441 entries, 0 to 99440\n",
            "Data columns (total 8 columns):\n",
            " #   Column                         Non-Null Count  Dtype \n",
            "---  ------                         --------------  ----- \n",
            " 0   order_id                       99441 non-null  object\n",
            " 1   customer_id                    99441 non-null  object\n",
            " 2   order_status                   99441 non-null  object\n",
            " 3   order_purchase_timestamp       99441 non-null  object\n",
            " 4   order_approved_at              99281 non-null  object\n",
            " 5   order_delivered_carrier_date   97658 non-null  object\n",
            " 6   order_delivered_customer_date  96476 non-null  object\n",
            " 7   order_estimated_delivery_date  99441 non-null  object\n",
            "dtypes: object(8)\n",
            "memory usage: 6.1+ MB\n"
          ]
        }
      ]
    },
    {
      "cell_type": "code",
      "source": [
        "# Load products dataset\n",
        "df_products = pd.read_csv(\n",
        "    'https://drive.google.com/uc?export=download&id=1UOo3BIFoOhSrsXRPXIU5ei8331_6XyiH'\n",
        ")\n",
        "print(df_products.shape)\n",
        "df_products.info()"
      ],
      "metadata": {
        "colab": {
          "base_uri": "https://localhost:8080/"
        },
        "id": "JcBv1keTQ7Ba",
        "outputId": "87819dbd-278e-4d1e-9ed7-e8b3f48f1f97"
      },
      "execution_count": 9,
      "outputs": [
        {
          "output_type": "stream",
          "name": "stdout",
          "text": [
            "(32951, 9)\n",
            "<class 'pandas.core.frame.DataFrame'>\n",
            "RangeIndex: 32951 entries, 0 to 32950\n",
            "Data columns (total 9 columns):\n",
            " #   Column                      Non-Null Count  Dtype  \n",
            "---  ------                      --------------  -----  \n",
            " 0   product_id                  32951 non-null  object \n",
            " 1   product_category_name       32341 non-null  object \n",
            " 2   product_name_lenght         32341 non-null  float64\n",
            " 3   product_description_lenght  32341 non-null  float64\n",
            " 4   product_photos_qty          32341 non-null  float64\n",
            " 5   product_weight_g            32949 non-null  float64\n",
            " 6   product_length_cm           32949 non-null  float64\n",
            " 7   product_height_cm           32949 non-null  float64\n",
            " 8   product_width_cm            32949 non-null  float64\n",
            "dtypes: float64(7), object(2)\n",
            "memory usage: 2.3+ MB\n"
          ]
        }
      ]
    },
    {
      "cell_type": "code",
      "source": [
        "# Load sellers dataset\n",
        "df_sellers = pd.read_csv(\n",
        "    'https://drive.google.com/uc?export=download&id=1HHk9jU7oTznJNuS1nEecZamHOY-t4wly'\n",
        ")\n",
        "print(df_sellers.shape)\n",
        "df_sellers.info()"
      ],
      "metadata": {
        "colab": {
          "base_uri": "https://localhost:8080/"
        },
        "id": "G8Mv-_6SQ7eV",
        "outputId": "960b5d10-bab1-48b4-dafe-0425b37dc723"
      },
      "execution_count": 10,
      "outputs": [
        {
          "output_type": "stream",
          "name": "stdout",
          "text": [
            "(3095, 4)\n",
            "<class 'pandas.core.frame.DataFrame'>\n",
            "RangeIndex: 3095 entries, 0 to 3094\n",
            "Data columns (total 4 columns):\n",
            " #   Column                  Non-Null Count  Dtype \n",
            "---  ------                  --------------  ----- \n",
            " 0   seller_id               3095 non-null   object\n",
            " 1   seller_zip_code_prefix  3095 non-null   int64 \n",
            " 2   seller_city             3095 non-null   object\n",
            " 3   seller_state            3095 non-null   object\n",
            "dtypes: int64(1), object(3)\n",
            "memory usage: 96.8+ KB\n"
          ]
        }
      ]
    },
    {
      "cell_type": "code",
      "source": [
        "# Load translations dataset\n",
        "df_trans = pd.read_csv(\n",
        "    'https://drive.google.com/uc?export=download&id=1zsNS-XwZLWs_eczy1CKLLysl4HB0TFQl'\n",
        ")\n",
        "print(df_trans.shape)\n",
        "df_trans.info()"
      ],
      "metadata": {
        "colab": {
          "base_uri": "https://localhost:8080/"
        },
        "id": "8Wk_2kmwQ755",
        "outputId": "942cda97-79f5-4cf2-de26-0fa3ec4e5095"
      },
      "execution_count": 11,
      "outputs": [
        {
          "output_type": "stream",
          "name": "stdout",
          "text": [
            "(71, 2)\n",
            "<class 'pandas.core.frame.DataFrame'>\n",
            "RangeIndex: 71 entries, 0 to 70\n",
            "Data columns (total 2 columns):\n",
            " #   Column                         Non-Null Count  Dtype \n",
            "---  ------                         --------------  ----- \n",
            " 0   product_category_name          71 non-null     object\n",
            " 1   product_category_name_english  71 non-null     object\n",
            "dtypes: object(2)\n",
            "memory usage: 1.2+ KB\n"
          ]
        }
      ]
    },
    {
      "cell_type": "markdown",
      "source": [
        "## Cleaning and transforming the raw dataset"
      ],
      "metadata": {
        "id": "q3wMTwtJUNB1"
      }
    },
    {
      "cell_type": "code",
      "source": [
        "# Transform the column values in the customers dataset\n",
        "df_customers['customer_city'] = df_customers['customer_city'].str.title()\n",
        "df_customers = df_customers.rename(\n",
        "    columns={\n",
        "        'customer_zip_code_prefix': 'zip_code_prefix'\n",
        "    }\n",
        ")\n",
        "df_customers.head()"
      ],
      "metadata": {
        "colab": {
          "base_uri": "https://localhost:8080/",
          "height": 206
        },
        "id": "iqKEeEIRctST",
        "outputId": "346602b4-e15a-4618-89f2-f926de8ba7da"
      },
      "execution_count": 12,
      "outputs": [
        {
          "output_type": "execute_result",
          "data": {
            "text/plain": [
              "                        customer_id                customer_unique_id  \\\n",
              "0  06b8999e2fba1a1fbc88172c00ba8bc7  861eff4711a542e4b93843c6dd7febb0   \n",
              "1  18955e83d337fd6b2def6b18a428ac77  290c77bc529b7ac935b93aa66c333dc3   \n",
              "2  4e7b3e00288586ebd08712fdd0374a03  060e732b5b29e8181a18229c7b0b2b5e   \n",
              "3  b2b6027bc5c5109e529d4dc6358b12c3  259dac757896d24d7702b9acbbff3f3c   \n",
              "4  4f2d8ab171c80ec8364f7c12e35b23ad  345ecd01c38d18a9036ed96c73b8d066   \n",
              "\n",
              "   zip_code_prefix          customer_city customer_state  \n",
              "0            14409                 Franca             SP  \n",
              "1             9790  Sao Bernardo Do Campo             SP  \n",
              "2             1151              Sao Paulo             SP  \n",
              "3             8775        Mogi Das Cruzes             SP  \n",
              "4            13056               Campinas             SP  "
            ],
            "text/html": [
              "\n",
              "  <div id=\"df-64ee103a-ed7a-40c2-bb33-86cf301189f7\">\n",
              "    <div class=\"colab-df-container\">\n",
              "      <div>\n",
              "<style scoped>\n",
              "    .dataframe tbody tr th:only-of-type {\n",
              "        vertical-align: middle;\n",
              "    }\n",
              "\n",
              "    .dataframe tbody tr th {\n",
              "        vertical-align: top;\n",
              "    }\n",
              "\n",
              "    .dataframe thead th {\n",
              "        text-align: right;\n",
              "    }\n",
              "</style>\n",
              "<table border=\"1\" class=\"dataframe\">\n",
              "  <thead>\n",
              "    <tr style=\"text-align: right;\">\n",
              "      <th></th>\n",
              "      <th>customer_id</th>\n",
              "      <th>customer_unique_id</th>\n",
              "      <th>zip_code_prefix</th>\n",
              "      <th>customer_city</th>\n",
              "      <th>customer_state</th>\n",
              "    </tr>\n",
              "  </thead>\n",
              "  <tbody>\n",
              "    <tr>\n",
              "      <th>0</th>\n",
              "      <td>06b8999e2fba1a1fbc88172c00ba8bc7</td>\n",
              "      <td>861eff4711a542e4b93843c6dd7febb0</td>\n",
              "      <td>14409</td>\n",
              "      <td>Franca</td>\n",
              "      <td>SP</td>\n",
              "    </tr>\n",
              "    <tr>\n",
              "      <th>1</th>\n",
              "      <td>18955e83d337fd6b2def6b18a428ac77</td>\n",
              "      <td>290c77bc529b7ac935b93aa66c333dc3</td>\n",
              "      <td>9790</td>\n",
              "      <td>Sao Bernardo Do Campo</td>\n",
              "      <td>SP</td>\n",
              "    </tr>\n",
              "    <tr>\n",
              "      <th>2</th>\n",
              "      <td>4e7b3e00288586ebd08712fdd0374a03</td>\n",
              "      <td>060e732b5b29e8181a18229c7b0b2b5e</td>\n",
              "      <td>1151</td>\n",
              "      <td>Sao Paulo</td>\n",
              "      <td>SP</td>\n",
              "    </tr>\n",
              "    <tr>\n",
              "      <th>3</th>\n",
              "      <td>b2b6027bc5c5109e529d4dc6358b12c3</td>\n",
              "      <td>259dac757896d24d7702b9acbbff3f3c</td>\n",
              "      <td>8775</td>\n",
              "      <td>Mogi Das Cruzes</td>\n",
              "      <td>SP</td>\n",
              "    </tr>\n",
              "    <tr>\n",
              "      <th>4</th>\n",
              "      <td>4f2d8ab171c80ec8364f7c12e35b23ad</td>\n",
              "      <td>345ecd01c38d18a9036ed96c73b8d066</td>\n",
              "      <td>13056</td>\n",
              "      <td>Campinas</td>\n",
              "      <td>SP</td>\n",
              "    </tr>\n",
              "  </tbody>\n",
              "</table>\n",
              "</div>\n",
              "      <button class=\"colab-df-convert\" onclick=\"convertToInteractive('df-64ee103a-ed7a-40c2-bb33-86cf301189f7')\"\n",
              "              title=\"Convert this dataframe to an interactive table.\"\n",
              "              style=\"display:none;\">\n",
              "        \n",
              "  <svg xmlns=\"http://www.w3.org/2000/svg\" height=\"24px\"viewBox=\"0 0 24 24\"\n",
              "       width=\"24px\">\n",
              "    <path d=\"M0 0h24v24H0V0z\" fill=\"none\"/>\n",
              "    <path d=\"M18.56 5.44l.94 2.06.94-2.06 2.06-.94-2.06-.94-.94-2.06-.94 2.06-2.06.94zm-11 1L8.5 8.5l.94-2.06 2.06-.94-2.06-.94L8.5 2.5l-.94 2.06-2.06.94zm10 10l.94 2.06.94-2.06 2.06-.94-2.06-.94-.94-2.06-.94 2.06-2.06.94z\"/><path d=\"M17.41 7.96l-1.37-1.37c-.4-.4-.92-.59-1.43-.59-.52 0-1.04.2-1.43.59L10.3 9.45l-7.72 7.72c-.78.78-.78 2.05 0 2.83L4 21.41c.39.39.9.59 1.41.59.51 0 1.02-.2 1.41-.59l7.78-7.78 2.81-2.81c.8-.78.8-2.07 0-2.86zM5.41 20L4 18.59l7.72-7.72 1.47 1.35L5.41 20z\"/>\n",
              "  </svg>\n",
              "      </button>\n",
              "      \n",
              "  <style>\n",
              "    .colab-df-container {\n",
              "      display:flex;\n",
              "      flex-wrap:wrap;\n",
              "      gap: 12px;\n",
              "    }\n",
              "\n",
              "    .colab-df-convert {\n",
              "      background-color: #E8F0FE;\n",
              "      border: none;\n",
              "      border-radius: 50%;\n",
              "      cursor: pointer;\n",
              "      display: none;\n",
              "      fill: #1967D2;\n",
              "      height: 32px;\n",
              "      padding: 0 0 0 0;\n",
              "      width: 32px;\n",
              "    }\n",
              "\n",
              "    .colab-df-convert:hover {\n",
              "      background-color: #E2EBFA;\n",
              "      box-shadow: 0px 1px 2px rgba(60, 64, 67, 0.3), 0px 1px 3px 1px rgba(60, 64, 67, 0.15);\n",
              "      fill: #174EA6;\n",
              "    }\n",
              "\n",
              "    [theme=dark] .colab-df-convert {\n",
              "      background-color: #3B4455;\n",
              "      fill: #D2E3FC;\n",
              "    }\n",
              "\n",
              "    [theme=dark] .colab-df-convert:hover {\n",
              "      background-color: #434B5C;\n",
              "      box-shadow: 0px 1px 3px 1px rgba(0, 0, 0, 0.15);\n",
              "      filter: drop-shadow(0px 1px 2px rgba(0, 0, 0, 0.3));\n",
              "      fill: #FFFFFF;\n",
              "    }\n",
              "  </style>\n",
              "\n",
              "      <script>\n",
              "        const buttonEl =\n",
              "          document.querySelector('#df-64ee103a-ed7a-40c2-bb33-86cf301189f7 button.colab-df-convert');\n",
              "        buttonEl.style.display =\n",
              "          google.colab.kernel.accessAllowed ? 'block' : 'none';\n",
              "\n",
              "        async function convertToInteractive(key) {\n",
              "          const element = document.querySelector('#df-64ee103a-ed7a-40c2-bb33-86cf301189f7');\n",
              "          const dataTable =\n",
              "            await google.colab.kernel.invokeFunction('convertToInteractive',\n",
              "                                                     [key], {});\n",
              "          if (!dataTable) return;\n",
              "\n",
              "          const docLinkHtml = 'Like what you see? Visit the ' +\n",
              "            '<a target=\"_blank\" href=https://colab.research.google.com/notebooks/data_table.ipynb>data table notebook</a>'\n",
              "            + ' to learn more about interactive tables.';\n",
              "          element.innerHTML = '';\n",
              "          dataTable['output_type'] = 'display_data';\n",
              "          await google.colab.output.renderOutput(dataTable, element);\n",
              "          const docLink = document.createElement('div');\n",
              "          docLink.innerHTML = docLinkHtml;\n",
              "          element.appendChild(docLink);\n",
              "        }\n",
              "      </script>\n",
              "    </div>\n",
              "  </div>\n",
              "  "
            ]
          },
          "metadata": {},
          "execution_count": 12
        }
      ]
    },
    {
      "cell_type": "code",
      "source": [
        "# Check for duplicate rows in the location dataset\n",
        "df_location[df_location.duplicated()]"
      ],
      "metadata": {
        "colab": {
          "base_uri": "https://localhost:8080/",
          "height": 424
        },
        "id": "e9OB0FcVUTG-",
        "outputId": "3755cc57-7721-4ef1-eecb-3bc66c000b03"
      },
      "execution_count": 13,
      "outputs": [
        {
          "output_type": "execute_result",
          "data": {
            "text/plain": [
              "         geolocation_zip_code_prefix  geolocation_lat  geolocation_lng  \\\n",
              "15                              1046       -23.546081       -46.644820   \n",
              "44                              1046       -23.546081       -46.644820   \n",
              "65                              1046       -23.546081       -46.644820   \n",
              "66                              1009       -23.546935       -46.636588   \n",
              "67                              1046       -23.546081       -46.644820   \n",
              "...                              ...              ...              ...   \n",
              "1000153                        99970       -28.343273       -51.873734   \n",
              "1000154                        99950       -28.070493       -52.011342   \n",
              "1000159                        99900       -27.877125       -52.224882   \n",
              "1000160                        99950       -28.071855       -52.014716   \n",
              "1000162                        99950       -28.070104       -52.018658   \n",
              "\n",
              "        geolocation_city geolocation_state  \n",
              "15             sao paulo                SP  \n",
              "44             sao paulo                SP  \n",
              "65             sao paulo                SP  \n",
              "66             sao paulo                SP  \n",
              "67             sao paulo                SP  \n",
              "...                  ...               ...  \n",
              "1000153          ciriaco                RS  \n",
              "1000154         tapejara                RS  \n",
              "1000159   getulio vargas                RS  \n",
              "1000160         tapejara                RS  \n",
              "1000162         tapejara                RS  \n",
              "\n",
              "[261831 rows x 5 columns]"
            ],
            "text/html": [
              "\n",
              "  <div id=\"df-95b0ae04-f443-4d63-84a1-824b7e3ecb25\">\n",
              "    <div class=\"colab-df-container\">\n",
              "      <div>\n",
              "<style scoped>\n",
              "    .dataframe tbody tr th:only-of-type {\n",
              "        vertical-align: middle;\n",
              "    }\n",
              "\n",
              "    .dataframe tbody tr th {\n",
              "        vertical-align: top;\n",
              "    }\n",
              "\n",
              "    .dataframe thead th {\n",
              "        text-align: right;\n",
              "    }\n",
              "</style>\n",
              "<table border=\"1\" class=\"dataframe\">\n",
              "  <thead>\n",
              "    <tr style=\"text-align: right;\">\n",
              "      <th></th>\n",
              "      <th>geolocation_zip_code_prefix</th>\n",
              "      <th>geolocation_lat</th>\n",
              "      <th>geolocation_lng</th>\n",
              "      <th>geolocation_city</th>\n",
              "      <th>geolocation_state</th>\n",
              "    </tr>\n",
              "  </thead>\n",
              "  <tbody>\n",
              "    <tr>\n",
              "      <th>15</th>\n",
              "      <td>1046</td>\n",
              "      <td>-23.546081</td>\n",
              "      <td>-46.644820</td>\n",
              "      <td>sao paulo</td>\n",
              "      <td>SP</td>\n",
              "    </tr>\n",
              "    <tr>\n",
              "      <th>44</th>\n",
              "      <td>1046</td>\n",
              "      <td>-23.546081</td>\n",
              "      <td>-46.644820</td>\n",
              "      <td>sao paulo</td>\n",
              "      <td>SP</td>\n",
              "    </tr>\n",
              "    <tr>\n",
              "      <th>65</th>\n",
              "      <td>1046</td>\n",
              "      <td>-23.546081</td>\n",
              "      <td>-46.644820</td>\n",
              "      <td>sao paulo</td>\n",
              "      <td>SP</td>\n",
              "    </tr>\n",
              "    <tr>\n",
              "      <th>66</th>\n",
              "      <td>1009</td>\n",
              "      <td>-23.546935</td>\n",
              "      <td>-46.636588</td>\n",
              "      <td>sao paulo</td>\n",
              "      <td>SP</td>\n",
              "    </tr>\n",
              "    <tr>\n",
              "      <th>67</th>\n",
              "      <td>1046</td>\n",
              "      <td>-23.546081</td>\n",
              "      <td>-46.644820</td>\n",
              "      <td>sao paulo</td>\n",
              "      <td>SP</td>\n",
              "    </tr>\n",
              "    <tr>\n",
              "      <th>...</th>\n",
              "      <td>...</td>\n",
              "      <td>...</td>\n",
              "      <td>...</td>\n",
              "      <td>...</td>\n",
              "      <td>...</td>\n",
              "    </tr>\n",
              "    <tr>\n",
              "      <th>1000153</th>\n",
              "      <td>99970</td>\n",
              "      <td>-28.343273</td>\n",
              "      <td>-51.873734</td>\n",
              "      <td>ciriaco</td>\n",
              "      <td>RS</td>\n",
              "    </tr>\n",
              "    <tr>\n",
              "      <th>1000154</th>\n",
              "      <td>99950</td>\n",
              "      <td>-28.070493</td>\n",
              "      <td>-52.011342</td>\n",
              "      <td>tapejara</td>\n",
              "      <td>RS</td>\n",
              "    </tr>\n",
              "    <tr>\n",
              "      <th>1000159</th>\n",
              "      <td>99900</td>\n",
              "      <td>-27.877125</td>\n",
              "      <td>-52.224882</td>\n",
              "      <td>getulio vargas</td>\n",
              "      <td>RS</td>\n",
              "    </tr>\n",
              "    <tr>\n",
              "      <th>1000160</th>\n",
              "      <td>99950</td>\n",
              "      <td>-28.071855</td>\n",
              "      <td>-52.014716</td>\n",
              "      <td>tapejara</td>\n",
              "      <td>RS</td>\n",
              "    </tr>\n",
              "    <tr>\n",
              "      <th>1000162</th>\n",
              "      <td>99950</td>\n",
              "      <td>-28.070104</td>\n",
              "      <td>-52.018658</td>\n",
              "      <td>tapejara</td>\n",
              "      <td>RS</td>\n",
              "    </tr>\n",
              "  </tbody>\n",
              "</table>\n",
              "<p>261831 rows × 5 columns</p>\n",
              "</div>\n",
              "      <button class=\"colab-df-convert\" onclick=\"convertToInteractive('df-95b0ae04-f443-4d63-84a1-824b7e3ecb25')\"\n",
              "              title=\"Convert this dataframe to an interactive table.\"\n",
              "              style=\"display:none;\">\n",
              "        \n",
              "  <svg xmlns=\"http://www.w3.org/2000/svg\" height=\"24px\"viewBox=\"0 0 24 24\"\n",
              "       width=\"24px\">\n",
              "    <path d=\"M0 0h24v24H0V0z\" fill=\"none\"/>\n",
              "    <path d=\"M18.56 5.44l.94 2.06.94-2.06 2.06-.94-2.06-.94-.94-2.06-.94 2.06-2.06.94zm-11 1L8.5 8.5l.94-2.06 2.06-.94-2.06-.94L8.5 2.5l-.94 2.06-2.06.94zm10 10l.94 2.06.94-2.06 2.06-.94-2.06-.94-.94-2.06-.94 2.06-2.06.94z\"/><path d=\"M17.41 7.96l-1.37-1.37c-.4-.4-.92-.59-1.43-.59-.52 0-1.04.2-1.43.59L10.3 9.45l-7.72 7.72c-.78.78-.78 2.05 0 2.83L4 21.41c.39.39.9.59 1.41.59.51 0 1.02-.2 1.41-.59l7.78-7.78 2.81-2.81c.8-.78.8-2.07 0-2.86zM5.41 20L4 18.59l7.72-7.72 1.47 1.35L5.41 20z\"/>\n",
              "  </svg>\n",
              "      </button>\n",
              "      \n",
              "  <style>\n",
              "    .colab-df-container {\n",
              "      display:flex;\n",
              "      flex-wrap:wrap;\n",
              "      gap: 12px;\n",
              "    }\n",
              "\n",
              "    .colab-df-convert {\n",
              "      background-color: #E8F0FE;\n",
              "      border: none;\n",
              "      border-radius: 50%;\n",
              "      cursor: pointer;\n",
              "      display: none;\n",
              "      fill: #1967D2;\n",
              "      height: 32px;\n",
              "      padding: 0 0 0 0;\n",
              "      width: 32px;\n",
              "    }\n",
              "\n",
              "    .colab-df-convert:hover {\n",
              "      background-color: #E2EBFA;\n",
              "      box-shadow: 0px 1px 2px rgba(60, 64, 67, 0.3), 0px 1px 3px 1px rgba(60, 64, 67, 0.15);\n",
              "      fill: #174EA6;\n",
              "    }\n",
              "\n",
              "    [theme=dark] .colab-df-convert {\n",
              "      background-color: #3B4455;\n",
              "      fill: #D2E3FC;\n",
              "    }\n",
              "\n",
              "    [theme=dark] .colab-df-convert:hover {\n",
              "      background-color: #434B5C;\n",
              "      box-shadow: 0px 1px 3px 1px rgba(0, 0, 0, 0.15);\n",
              "      filter: drop-shadow(0px 1px 2px rgba(0, 0, 0, 0.3));\n",
              "      fill: #FFFFFF;\n",
              "    }\n",
              "  </style>\n",
              "\n",
              "      <script>\n",
              "        const buttonEl =\n",
              "          document.querySelector('#df-95b0ae04-f443-4d63-84a1-824b7e3ecb25 button.colab-df-convert');\n",
              "        buttonEl.style.display =\n",
              "          google.colab.kernel.accessAllowed ? 'block' : 'none';\n",
              "\n",
              "        async function convertToInteractive(key) {\n",
              "          const element = document.querySelector('#df-95b0ae04-f443-4d63-84a1-824b7e3ecb25');\n",
              "          const dataTable =\n",
              "            await google.colab.kernel.invokeFunction('convertToInteractive',\n",
              "                                                     [key], {});\n",
              "          if (!dataTable) return;\n",
              "\n",
              "          const docLinkHtml = 'Like what you see? Visit the ' +\n",
              "            '<a target=\"_blank\" href=https://colab.research.google.com/notebooks/data_table.ipynb>data table notebook</a>'\n",
              "            + ' to learn more about interactive tables.';\n",
              "          element.innerHTML = '';\n",
              "          dataTable['output_type'] = 'display_data';\n",
              "          await google.colab.output.renderOutput(dataTable, element);\n",
              "          const docLink = document.createElement('div');\n",
              "          docLink.innerHTML = docLinkHtml;\n",
              "          element.appendChild(docLink);\n",
              "        }\n",
              "      </script>\n",
              "    </div>\n",
              "  </div>\n",
              "  "
            ]
          },
          "metadata": {},
          "execution_count": 13
        }
      ]
    },
    {
      "cell_type": "code",
      "source": [
        "# Remove the duplicates\n",
        "df_location.drop_duplicates(inplace=True)\n",
        "print(df_location.shape)"
      ],
      "metadata": {
        "colab": {
          "base_uri": "https://localhost:8080/"
        },
        "id": "HvumBYfYWfPF",
        "outputId": "aefe2a53-a0f7-4d89-80db-30325cd75b3b"
      },
      "execution_count": 14,
      "outputs": [
        {
          "output_type": "stream",
          "name": "stdout",
          "text": [
            "(738332, 5)\n"
          ]
        }
      ]
    },
    {
      "cell_type": "code",
      "source": [
        "# Transform the column values in the geolocation dataset\n",
        "df_location['geolocation_city'] = df_location['geolocation_city'].str.title()\n",
        "df_location = df_location.rename(\n",
        "    columns={\n",
        "        'geolocation_zip_code_prefix': 'zip_code_prefix'\n",
        "    }\n",
        ")\n",
        "df_location.head()"
      ],
      "metadata": {
        "colab": {
          "base_uri": "https://localhost:8080/",
          "height": 206
        },
        "id": "1QJiw-B7qd3m",
        "outputId": "6112444c-1842-4868-98f8-9597d19f5c12"
      },
      "execution_count": 15,
      "outputs": [
        {
          "output_type": "execute_result",
          "data": {
            "text/plain": [
              "   zip_code_prefix  geolocation_lat  geolocation_lng geolocation_city  \\\n",
              "0             1037       -23.545621       -46.639292        Sao Paulo   \n",
              "1             1046       -23.546081       -46.644820        Sao Paulo   \n",
              "2             1046       -23.546129       -46.642951        Sao Paulo   \n",
              "3             1041       -23.544392       -46.639499        Sao Paulo   \n",
              "4             1035       -23.541578       -46.641607        Sao Paulo   \n",
              "\n",
              "  geolocation_state  \n",
              "0                SP  \n",
              "1                SP  \n",
              "2                SP  \n",
              "3                SP  \n",
              "4                SP  "
            ],
            "text/html": [
              "\n",
              "  <div id=\"df-99074c40-8cc6-4c28-b060-0e88b3f30ea7\">\n",
              "    <div class=\"colab-df-container\">\n",
              "      <div>\n",
              "<style scoped>\n",
              "    .dataframe tbody tr th:only-of-type {\n",
              "        vertical-align: middle;\n",
              "    }\n",
              "\n",
              "    .dataframe tbody tr th {\n",
              "        vertical-align: top;\n",
              "    }\n",
              "\n",
              "    .dataframe thead th {\n",
              "        text-align: right;\n",
              "    }\n",
              "</style>\n",
              "<table border=\"1\" class=\"dataframe\">\n",
              "  <thead>\n",
              "    <tr style=\"text-align: right;\">\n",
              "      <th></th>\n",
              "      <th>zip_code_prefix</th>\n",
              "      <th>geolocation_lat</th>\n",
              "      <th>geolocation_lng</th>\n",
              "      <th>geolocation_city</th>\n",
              "      <th>geolocation_state</th>\n",
              "    </tr>\n",
              "  </thead>\n",
              "  <tbody>\n",
              "    <tr>\n",
              "      <th>0</th>\n",
              "      <td>1037</td>\n",
              "      <td>-23.545621</td>\n",
              "      <td>-46.639292</td>\n",
              "      <td>Sao Paulo</td>\n",
              "      <td>SP</td>\n",
              "    </tr>\n",
              "    <tr>\n",
              "      <th>1</th>\n",
              "      <td>1046</td>\n",
              "      <td>-23.546081</td>\n",
              "      <td>-46.644820</td>\n",
              "      <td>Sao Paulo</td>\n",
              "      <td>SP</td>\n",
              "    </tr>\n",
              "    <tr>\n",
              "      <th>2</th>\n",
              "      <td>1046</td>\n",
              "      <td>-23.546129</td>\n",
              "      <td>-46.642951</td>\n",
              "      <td>Sao Paulo</td>\n",
              "      <td>SP</td>\n",
              "    </tr>\n",
              "    <tr>\n",
              "      <th>3</th>\n",
              "      <td>1041</td>\n",
              "      <td>-23.544392</td>\n",
              "      <td>-46.639499</td>\n",
              "      <td>Sao Paulo</td>\n",
              "      <td>SP</td>\n",
              "    </tr>\n",
              "    <tr>\n",
              "      <th>4</th>\n",
              "      <td>1035</td>\n",
              "      <td>-23.541578</td>\n",
              "      <td>-46.641607</td>\n",
              "      <td>Sao Paulo</td>\n",
              "      <td>SP</td>\n",
              "    </tr>\n",
              "  </tbody>\n",
              "</table>\n",
              "</div>\n",
              "      <button class=\"colab-df-convert\" onclick=\"convertToInteractive('df-99074c40-8cc6-4c28-b060-0e88b3f30ea7')\"\n",
              "              title=\"Convert this dataframe to an interactive table.\"\n",
              "              style=\"display:none;\">\n",
              "        \n",
              "  <svg xmlns=\"http://www.w3.org/2000/svg\" height=\"24px\"viewBox=\"0 0 24 24\"\n",
              "       width=\"24px\">\n",
              "    <path d=\"M0 0h24v24H0V0z\" fill=\"none\"/>\n",
              "    <path d=\"M18.56 5.44l.94 2.06.94-2.06 2.06-.94-2.06-.94-.94-2.06-.94 2.06-2.06.94zm-11 1L8.5 8.5l.94-2.06 2.06-.94-2.06-.94L8.5 2.5l-.94 2.06-2.06.94zm10 10l.94 2.06.94-2.06 2.06-.94-2.06-.94-.94-2.06-.94 2.06-2.06.94z\"/><path d=\"M17.41 7.96l-1.37-1.37c-.4-.4-.92-.59-1.43-.59-.52 0-1.04.2-1.43.59L10.3 9.45l-7.72 7.72c-.78.78-.78 2.05 0 2.83L4 21.41c.39.39.9.59 1.41.59.51 0 1.02-.2 1.41-.59l7.78-7.78 2.81-2.81c.8-.78.8-2.07 0-2.86zM5.41 20L4 18.59l7.72-7.72 1.47 1.35L5.41 20z\"/>\n",
              "  </svg>\n",
              "      </button>\n",
              "      \n",
              "  <style>\n",
              "    .colab-df-container {\n",
              "      display:flex;\n",
              "      flex-wrap:wrap;\n",
              "      gap: 12px;\n",
              "    }\n",
              "\n",
              "    .colab-df-convert {\n",
              "      background-color: #E8F0FE;\n",
              "      border: none;\n",
              "      border-radius: 50%;\n",
              "      cursor: pointer;\n",
              "      display: none;\n",
              "      fill: #1967D2;\n",
              "      height: 32px;\n",
              "      padding: 0 0 0 0;\n",
              "      width: 32px;\n",
              "    }\n",
              "\n",
              "    .colab-df-convert:hover {\n",
              "      background-color: #E2EBFA;\n",
              "      box-shadow: 0px 1px 2px rgba(60, 64, 67, 0.3), 0px 1px 3px 1px rgba(60, 64, 67, 0.15);\n",
              "      fill: #174EA6;\n",
              "    }\n",
              "\n",
              "    [theme=dark] .colab-df-convert {\n",
              "      background-color: #3B4455;\n",
              "      fill: #D2E3FC;\n",
              "    }\n",
              "\n",
              "    [theme=dark] .colab-df-convert:hover {\n",
              "      background-color: #434B5C;\n",
              "      box-shadow: 0px 1px 3px 1px rgba(0, 0, 0, 0.15);\n",
              "      filter: drop-shadow(0px 1px 2px rgba(0, 0, 0, 0.3));\n",
              "      fill: #FFFFFF;\n",
              "    }\n",
              "  </style>\n",
              "\n",
              "      <script>\n",
              "        const buttonEl =\n",
              "          document.querySelector('#df-99074c40-8cc6-4c28-b060-0e88b3f30ea7 button.colab-df-convert');\n",
              "        buttonEl.style.display =\n",
              "          google.colab.kernel.accessAllowed ? 'block' : 'none';\n",
              "\n",
              "        async function convertToInteractive(key) {\n",
              "          const element = document.querySelector('#df-99074c40-8cc6-4c28-b060-0e88b3f30ea7');\n",
              "          const dataTable =\n",
              "            await google.colab.kernel.invokeFunction('convertToInteractive',\n",
              "                                                     [key], {});\n",
              "          if (!dataTable) return;\n",
              "\n",
              "          const docLinkHtml = 'Like what you see? Visit the ' +\n",
              "            '<a target=\"_blank\" href=https://colab.research.google.com/notebooks/data_table.ipynb>data table notebook</a>'\n",
              "            + ' to learn more about interactive tables.';\n",
              "          element.innerHTML = '';\n",
              "          dataTable['output_type'] = 'display_data';\n",
              "          await google.colab.output.renderOutput(dataTable, element);\n",
              "          const docLink = document.createElement('div');\n",
              "          docLink.innerHTML = docLinkHtml;\n",
              "          element.appendChild(docLink);\n",
              "        }\n",
              "      </script>\n",
              "    </div>\n",
              "  </div>\n",
              "  "
            ]
          },
          "metadata": {},
          "execution_count": 15
        }
      ]
    },
    {
      "cell_type": "code",
      "source": [
        "# Determine outliers from the geolocation latitude\n",
        "df_location['geolocation_lat'].describe()"
      ],
      "metadata": {
        "colab": {
          "base_uri": "https://localhost:8080/"
        },
        "id": "eywl_4iVq2e7",
        "outputId": "acc286f3-688c-4a98-b84f-8ad9e5673ca5"
      },
      "execution_count": 16,
      "outputs": [
        {
          "output_type": "execute_result",
          "data": {
            "text/plain": [
              "count    738332.000000\n",
              "mean        -20.998353\n",
              "std           5.892315\n",
              "min         -36.605374\n",
              "25%         -23.603061\n",
              "50%         -22.873588\n",
              "75%         -19.923336\n",
              "max          45.065933\n",
              "Name: geolocation_lat, dtype: float64"
            ]
          },
          "metadata": {},
          "execution_count": 16
        }
      ]
    },
    {
      "cell_type": "code",
      "source": [
        "# Plot a histogram to visualize latitude distribution\n",
        "fig, ax = plt.subplots(figsize=(10, 6))\n",
        "ax = df_location['geolocation_lat'].plot(kind='hist', bins=30)\n",
        "ax.set_title('Histogram of Location Latitude')\n",
        "plt.show()"
      ],
      "metadata": {
        "colab": {
          "base_uri": "https://localhost:8080/",
          "height": 545
        },
        "id": "yIkYhMKvrQon",
        "outputId": "2c162cbb-10c7-4381-a280-39b3ec0d9857"
      },
      "execution_count": 17,
      "outputs": [
        {
          "output_type": "display_data",
          "data": {
            "text/plain": [
              "<Figure size 1000x600 with 1 Axes>"
            ],
            "image/png": "[encoded data removed]"
          },
          "metadata": {}
        }
      ]
    },
    {
      "cell_type": "code",
      "source": [
        "# Filter values outside of three sigma\n",
        "min_range = df_location['geolocation_lat'].mean() - \\\n",
        "    (3 * df_location['geolocation_lat'].std())\n",
        "max_range = df_location['geolocation_lat'].mean() + \\\n",
        "    (3 * df_location['geolocation_lat'].std())\n",
        "print(min_range, max_range)\n",
        "df_location = df_location[\n",
        "    (df_location['geolocation_lat'] >= min_range) &\n",
        "    (df_location['geolocation_lat'] <= max_range)\n",
        "]\n",
        "df_location['geolocation_lat'].describe()"
      ],
      "metadata": {
        "colab": {
          "base_uri": "https://localhost:8080/"
        },
        "id": "S5rNyEtarsjS",
        "outputId": "56748661-c227-4787-9de8-1297288f1a1f"
      },
      "execution_count": 18,
      "outputs": [
        {
          "output_type": "stream",
          "name": "stdout",
          "text": [
            "-38.67529710903493 -3.3214096783634552\n"
          ]
        },
        {
          "output_type": "execute_result",
          "data": {
            "text/plain": [
              "count    725088.000000\n",
              "mean        -21.349806\n",
              "std           5.328018\n",
              "min         -36.605374\n",
              "25%         -23.608894\n",
              "50%         -22.888725\n",
              "75%         -19.968186\n",
              "max          -3.321772\n",
              "Name: geolocation_lat, dtype: float64"
            ]
          },
          "metadata": {},
          "execution_count": 18
        }
      ]
    },
    {
      "cell_type": "code",
      "source": [
        "# Determine outliers from the geolocation longitude\n",
        "df_location['geolocation_lng'].describe()"
      ],
      "metadata": {
        "colab": {
          "base_uri": "https://localhost:8080/"
        },
        "id": "tjYmdaMyrCIK",
        "outputId": "660e1b5a-70c4-48ca-9a45-e8ea768684bc"
      },
      "execution_count": 19,
      "outputs": [
        {
          "output_type": "execute_result",
          "data": {
            "text/plain": [
              "count    725088.000000\n",
              "mean        -46.403747\n",
              "std           4.333015\n",
              "min         -72.930746\n",
              "25%         -48.838142\n",
              "50%         -46.642442\n",
              "75%         -43.782804\n",
              "max         -32.402779\n",
              "Name: geolocation_lng, dtype: float64"
            ]
          },
          "metadata": {},
          "execution_count": 19
        }
      ]
    },
    {
      "cell_type": "code",
      "source": [
        "# Plot a histogram to visualize longitude distribution\n",
        "fig, ax = plt.subplots(figsize=(10, 6))\n",
        "ax = df_location['geolocation_lng'].plot(kind='hist', bins=30)\n",
        "ax.set_title('Histogram of Location Longitude')\n",
        "plt.show()"
      ],
      "metadata": {
        "colab": {
          "base_uri": "https://localhost:8080/",
          "height": 545
        },
        "id": "-s8cZRbHrhM8",
        "outputId": "d3f5621a-9329-4ceb-c325-9245c4b477cf"
      },
      "execution_count": 20,
      "outputs": [
        {
          "output_type": "display_data",
          "data": {
            "text/plain": [
              "<Figure size 1000x600 with 1 Axes>"
            ],
            "image/png": "[encoded data removed]"
          },
          "metadata": {}
        }
      ]
    },
    {
      "cell_type": "code",
      "source": [
        "# Filter values outside of three sigma\n",
        "min_range = df_location['geolocation_lng'].mean() - \\\n",
        "    (3 * df_location['geolocation_lng'].std())\n",
        "max_range = df_location['geolocation_lng'].mean() + \\\n",
        "    (3 * df_location['geolocation_lng'].std())\n",
        "print(min_range, max_range)\n",
        "df_location = df_location[\n",
        "    (df_location['geolocation_lng'] >= min_range) &\n",
        "    (df_location['geolocation_lng'] <= max_range)\n",
        "]\n",
        "df_location['geolocation_lng'].describe()"
      ],
      "metadata": {
        "colab": {
          "base_uri": "https://localhost:8080/"
        },
        "id": "2yFGUpQBvhku",
        "outputId": "2c597ae3-aaac-451b-a022-9482b6cb3a42"
      },
      "execution_count": 21,
      "outputs": [
        {
          "output_type": "stream",
          "name": "stdout",
          "text": [
            "-59.402793759154605 -33.404700840793524\n"
          ]
        },
        {
          "output_type": "execute_result",
          "data": {
            "text/plain": [
              "count    721130.000000\n",
              "mean        -46.305978\n",
              "std           4.131153\n",
              "min         -59.367531\n",
              "25%         -48.766718\n",
              "50%         -46.639018\n",
              "75%         -43.766088\n",
              "max         -34.793685\n",
              "Name: geolocation_lng, dtype: float64"
            ]
          },
          "metadata": {},
          "execution_count": 21
        }
      ]
    },
    {
      "cell_type": "code",
      "source": [
        "# Quickly inspect the location dataset after removing the outliers\n",
        "df_location.shape"
      ],
      "metadata": {
        "colab": {
          "base_uri": "https://localhost:8080/"
        },
        "id": "I_WuXu029hmW",
        "outputId": "7d027c7d-f22c-4417-84b0-825888a9d7c0"
      },
      "execution_count": 22,
      "outputs": [
        {
          "output_type": "execute_result",
          "data": {
            "text/plain": [
              "(721130, 5)"
            ]
          },
          "metadata": {},
          "execution_count": 22
        }
      ]
    },
    {
      "cell_type": "code",
      "source": [
        "# Plot the geolocation coordinates\n",
        "gdf = gpd.GeoDataFrame(\n",
        "    df_location,\n",
        "    geometry=gpd.points_from_xy(\n",
        "        df_location['geolocation_lng'],\n",
        "        df_location['geolocation_lat']\n",
        "    )\n",
        ")\n",
        "\n",
        "world = gpd.read_file(gpd.datasets.get_path('naturalearth_lowres'))\n",
        "ax = world[world['continent'] != 'Antarctica'].plot(\n",
        "    figsize=(15, 15),\n",
        "    color='white',\n",
        "    edgecolor='black'\n",
        ")\n",
        "ax.set_title('Geolocation Distribution')\n",
        "gdf.plot(ax=ax, color='blue')\n",
        "plt.show()"
      ],
      "metadata": {
        "colab": {
          "base_uri": "https://localhost:8080/",
          "height": 532
        },
        "id": "MD4A3lCsvwrR",
        "outputId": "007bc8a8-6624-4eb0-960b-6c76499c5c2d"
      },
      "execution_count": 23,
      "outputs": [
        {
          "output_type": "display_data",
          "data": {
            "text/plain": [
              "<Figure size 1500x1500 with 1 Axes>"
            ],
            "image/png": "[encoded data removed]"
          },
          "metadata": {}
        }
      ]
    },
    {
      "cell_type": "code",
      "source": [
        "# Convert order item dates into datetime type\n",
        "df_items['shipping_limit_date'] = pd.to_datetime(\n",
        "    df_items['shipping_limit_date']\n",
        ")\n",
        "df_items.head()"
      ],
      "metadata": {
        "colab": {
          "base_uri": "https://localhost:8080/",
          "height": 206
        },
        "id": "b3EKS4ageaM7",
        "outputId": "23cf9a72-747b-4d6c-dca7-ef349fd17eba"
      },
      "execution_count": 24,
      "outputs": [
        {
          "output_type": "execute_result",
          "data": {
            "text/plain": [
              "                           order_id  order_item_id  \\\n",
              "0  00010242fe8c5a6d1ba2dd792cb16214              1   \n",
              "1  00018f77f2f0320c557190d7a144bdd3              1   \n",
              "2  000229ec398224ef6ca0657da4fc703e              1   \n",
              "3  00024acbcdf0a6daa1e931b038114c75              1   \n",
              "4  00042b26cf59d7ce69dfabb4e55b4fd9              1   \n",
              "\n",
              "                         product_id                         seller_id  \\\n",
              "0  4244733e06e7ecb4970a6e2683c13e61  48436dade18ac8b2bce089ec2a041202   \n",
              "1  e5f2d52b802189ee658865ca93d83a8f  dd7ddc04e1b6c2c614352b383efe2d36   \n",
              "2  c777355d18b72b67abbeef9df44fd0fd  5b51032eddd242adc84c38acab88f23d   \n",
              "3  7634da152a4610f1595efa32f14722fc  9d7a1d34a5052409006425275ba1c2b4   \n",
              "4  ac6c3623068f30de03045865e4e10089  df560393f3a51e74553ab94004ba5c87   \n",
              "\n",
              "  shipping_limit_date   price  freight_value  \n",
              "0 2017-09-19 09:45:35   58.90          13.29  \n",
              "1 2017-05-03 11:05:13  239.90          19.93  \n",
              "2 2018-01-18 14:48:30  199.00          17.87  \n",
              "3 2018-08-15 10:10:18   12.99          12.79  \n",
              "4 2017-02-13 13:57:51  199.90          18.14  "
            ],
            "text/html": [
              "\n",
              "  <div id=\"df-929081de-5d9b-41f8-9886-58e01fd3e07b\">\n",
              "    <div class=\"colab-df-container\">\n",
              "      <div>\n",
              "<style scoped>\n",
              "    .dataframe tbody tr th:only-of-type {\n",
              "        vertical-align: middle;\n",
              "    }\n",
              "\n",
              "    .dataframe tbody tr th {\n",
              "        vertical-align: top;\n",
              "    }\n",
              "\n",
              "    .dataframe thead th {\n",
              "        text-align: right;\n",
              "    }\n",
              "</style>\n",
              "<table border=\"1\" class=\"dataframe\">\n",
              "  <thead>\n",
              "    <tr style=\"text-align: right;\">\n",
              "      <th></th>\n",
              "      <th>order_id</th>\n",
              "      <th>order_item_id</th>\n",
              "      <th>product_id</th>\n",
              "      <th>seller_id</th>\n",
              "      <th>shipping_limit_date</th>\n",
              "      <th>price</th>\n",
              "      <th>freight_value</th>\n",
              "    </tr>\n",
              "  </thead>\n",
              "  <tbody>\n",
              "    <tr>\n",
              "      <th>0</th>\n",
              "      <td>00010242fe8c5a6d1ba2dd792cb16214</td>\n",
              "      <td>1</td>\n",
              "      <td>4244733e06e7ecb4970a6e2683c13e61</td>\n",
              "      <td>48436dade18ac8b2bce089ec2a041202</td>\n",
              "      <td>2017-09-19 09:45:35</td>\n",
              "      <td>58.90</td>\n",
              "      <td>13.29</td>\n",
              "    </tr>\n",
              "    <tr>\n",
              "      <th>1</th>\n",
              "      <td>00018f77f2f0320c557190d7a144bdd3</td>\n",
              "      <td>1</td>\n",
              "      <td>e5f2d52b802189ee658865ca93d83a8f</td>\n",
              "      <td>dd7ddc04e1b6c2c614352b383efe2d36</td>\n",
              "      <td>2017-05-03 11:05:13</td>\n",
              "      <td>239.90</td>\n",
              "      <td>19.93</td>\n",
              "    </tr>\n",
              "    <tr>\n",
              "      <th>2</th>\n",
              "      <td>000229ec398224ef6ca0657da4fc703e</td>\n",
              "      <td>1</td>\n",
              "      <td>c777355d18b72b67abbeef9df44fd0fd</td>\n",
              "      <td>5b51032eddd242adc84c38acab88f23d</td>\n",
              "      <td>2018-01-18 14:48:30</td>\n",
              "      <td>199.00</td>\n",
              "      <td>17.87</td>\n",
              "    </tr>\n",
              "    <tr>\n",
              "      <th>3</th>\n",
              "      <td>00024acbcdf0a6daa1e931b038114c75</td>\n",
              "      <td>1</td>\n",
              "      <td>7634da152a4610f1595efa32f14722fc</td>\n",
              "      <td>9d7a1d34a5052409006425275ba1c2b4</td>\n",
              "      <td>2018-08-15 10:10:18</td>\n",
              "      <td>12.99</td>\n",
              "      <td>12.79</td>\n",
              "    </tr>\n",
              "    <tr>\n",
              "      <th>4</th>\n",
              "      <td>00042b26cf59d7ce69dfabb4e55b4fd9</td>\n",
              "      <td>1</td>\n",
              "      <td>ac6c3623068f30de03045865e4e10089</td>\n",
              "      <td>df560393f3a51e74553ab94004ba5c87</td>\n",
              "      <td>2017-02-13 13:57:51</td>\n",
              "      <td>199.90</td>\n",
              "      <td>18.14</td>\n",
              "    </tr>\n",
              "  </tbody>\n",
              "</table>\n",
              "</div>\n",
              "      <button class=\"colab-df-convert\" onclick=\"convertToInteractive('df-929081de-5d9b-41f8-9886-58e01fd3e07b')\"\n",
              "              title=\"Convert this dataframe to an interactive table.\"\n",
              "              style=\"display:none;\">\n",
              "        \n",
              "  <svg xmlns=\"http://www.w3.org/2000/svg\" height=\"24px\"viewBox=\"0 0 24 24\"\n",
              "       width=\"24px\">\n",
              "    <path d=\"M0 0h24v24H0V0z\" fill=\"none\"/>\n",
              "    <path d=\"M18.56 5.44l.94 2.06.94-2.06 2.06-.94-2.06-.94-.94-2.06-.94 2.06-2.06.94zm-11 1L8.5 8.5l.94-2.06 2.06-.94-2.06-.94L8.5 2.5l-.94 2.06-2.06.94zm10 10l.94 2.06.94-2.06 2.06-.94-2.06-.94-.94-2.06-.94 2.06-2.06.94z\"/><path d=\"M17.41 7.96l-1.37-1.37c-.4-.4-.92-.59-1.43-.59-.52 0-1.04.2-1.43.59L10.3 9.45l-7.72 7.72c-.78.78-.78 2.05 0 2.83L4 21.41c.39.39.9.59 1.41.59.51 0 1.02-.2 1.41-.59l7.78-7.78 2.81-2.81c.8-.78.8-2.07 0-2.86zM5.41 20L4 18.59l7.72-7.72 1.47 1.35L5.41 20z\"/>\n",
              "  </svg>\n",
              "      </button>\n",
              "      \n",
              "  <style>\n",
              "    .colab-df-container {\n",
              "      display:flex;\n",
              "      flex-wrap:wrap;\n",
              "      gap: 12px;\n",
              "    }\n",
              "\n",
              "    .colab-df-convert {\n",
              "      background-color: #E8F0FE;\n",
              "      border: none;\n",
              "      border-radius: 50%;\n",
              "      cursor: pointer;\n",
              "      display: none;\n",
              "      fill: #1967D2;\n",
              "      height: 32px;\n",
              "      padding: 0 0 0 0;\n",
              "      width: 32px;\n",
              "    }\n",
              "\n",
              "    .colab-df-convert:hover {\n",
              "      background-color: #E2EBFA;\n",
              "      box-shadow: 0px 1px 2px rgba(60, 64, 67, 0.3), 0px 1px 3px 1px rgba(60, 64, 67, 0.15);\n",
              "      fill: #174EA6;\n",
              "    }\n",
              "\n",
              "    [theme=dark] .colab-df-convert {\n",
              "      background-color: #3B4455;\n",
              "      fill: #D2E3FC;\n",
              "    }\n",
              "\n",
              "    [theme=dark] .colab-df-convert:hover {\n",
              "      background-color: #434B5C;\n",
              "      box-shadow: 0px 1px 3px 1px rgba(0, 0, 0, 0.15);\n",
              "      filter: drop-shadow(0px 1px 2px rgba(0, 0, 0, 0.3));\n",
              "      fill: #FFFFFF;\n",
              "    }\n",
              "  </style>\n",
              "\n",
              "      <script>\n",
              "        const buttonEl =\n",
              "          document.querySelector('#df-929081de-5d9b-41f8-9886-58e01fd3e07b button.colab-df-convert');\n",
              "        buttonEl.style.display =\n",
              "          google.colab.kernel.accessAllowed ? 'block' : 'none';\n",
              "\n",
              "        async function convertToInteractive(key) {\n",
              "          const element = document.querySelector('#df-929081de-5d9b-41f8-9886-58e01fd3e07b');\n",
              "          const dataTable =\n",
              "            await google.colab.kernel.invokeFunction('convertToInteractive',\n",
              "                                                     [key], {});\n",
              "          if (!dataTable) return;\n",
              "\n",
              "          const docLinkHtml = 'Like what you see? Visit the ' +\n",
              "            '<a target=\"_blank\" href=https://colab.research.google.com/notebooks/data_table.ipynb>data table notebook</a>'\n",
              "            + ' to learn more about interactive tables.';\n",
              "          element.innerHTML = '';\n",
              "          dataTable['output_type'] = 'display_data';\n",
              "          await google.colab.output.renderOutput(dataTable, element);\n",
              "          const docLink = document.createElement('div');\n",
              "          docLink.innerHTML = docLinkHtml;\n",
              "          element.appendChild(docLink);\n",
              "        }\n",
              "      </script>\n",
              "    </div>\n",
              "  </div>\n",
              "  "
            ]
          },
          "metadata": {},
          "execution_count": 24
        }
      ]
    },
    {
      "cell_type": "code",
      "source": [
        "# Transform the column values in the payments dataset\n",
        "df_payments['payment_type'] = df_payments['payment_type'].str.title()\n",
        "df_payments['payment_type'].replace(\n",
        "    '_', ' ', regex=True, inplace=True\n",
        ")\n",
        "df_payments.head()"
      ],
      "metadata": {
        "colab": {
          "base_uri": "https://localhost:8080/",
          "height": 206
        },
        "id": "dsyCc5eCh1c6",
        "outputId": "3414dff9-ae40-4874-db84-b71a367bcecf"
      },
      "execution_count": 25,
      "outputs": [
        {
          "output_type": "execute_result",
          "data": {
            "text/plain": [
              "                           order_id  payment_sequential payment_type  \\\n",
              "0  b81ef226f3fe1789b1e8b2acac839d17                   1  Credit Card   \n",
              "1  a9810da82917af2d9aefd1278f1dcfa0                   1  Credit Card   \n",
              "2  25e8ea4e93396b6fa0d3dd708e76c1bd                   1  Credit Card   \n",
              "3  ba78997921bbcdc1373bb41e913ab953                   1  Credit Card   \n",
              "4  42fdf880ba16b47b59251dd489d4441a                   1  Credit Card   \n",
              "\n",
              "   payment_installments  payment_value  \n",
              "0                     8          99.33  \n",
              "1                     1          24.39  \n",
              "2                     1          65.71  \n",
              "3                     8         107.78  \n",
              "4                     2         128.45  "
            ],
            "text/html": [
              "\n",
              "  <div id=\"df-c9171a4e-52f5-45cc-82c6-41dc91753ecd\">\n",
              "    <div class=\"colab-df-container\">\n",
              "      <div>\n",
              "<style scoped>\n",
              "    .dataframe tbody tr th:only-of-type {\n",
              "        vertical-align: middle;\n",
              "    }\n",
              "\n",
              "    .dataframe tbody tr th {\n",
              "        vertical-align: top;\n",
              "    }\n",
              "\n",
              "    .dataframe thead th {\n",
              "        text-align: right;\n",
              "    }\n",
              "</style>\n",
              "<table border=\"1\" class=\"dataframe\">\n",
              "  <thead>\n",
              "    <tr style=\"text-align: right;\">\n",
              "      <th></th>\n",
              "      <th>order_id</th>\n",
              "      <th>payment_sequential</th>\n",
              "      <th>payment_type</th>\n",
              "      <th>payment_installments</th>\n",
              "      <th>payment_value</th>\n",
              "    </tr>\n",
              "  </thead>\n",
              "  <tbody>\n",
              "    <tr>\n",
              "      <th>0</th>\n",
              "      <td>b81ef226f3fe1789b1e8b2acac839d17</td>\n",
              "      <td>1</td>\n",
              "      <td>Credit Card</td>\n",
              "      <td>8</td>\n",
              "      <td>99.33</td>\n",
              "    </tr>\n",
              "    <tr>\n",
              "      <th>1</th>\n",
              "      <td>a9810da82917af2d9aefd1278f1dcfa0</td>\n",
              "      <td>1</td>\n",
              "      <td>Credit Card</td>\n",
              "      <td>1</td>\n",
              "      <td>24.39</td>\n",
              "    </tr>\n",
              "    <tr>\n",
              "      <th>2</th>\n",
              "      <td>25e8ea4e93396b6fa0d3dd708e76c1bd</td>\n",
              "      <td>1</td>\n",
              "      <td>Credit Card</td>\n",
              "      <td>1</td>\n",
              "      <td>65.71</td>\n",
              "    </tr>\n",
              "    <tr>\n",
              "      <th>3</th>\n",
              "      <td>ba78997921bbcdc1373bb41e913ab953</td>\n",
              "      <td>1</td>\n",
              "      <td>Credit Card</td>\n",
              "      <td>8</td>\n",
              "      <td>107.78</td>\n",
              "    </tr>\n",
              "    <tr>\n",
              "      <th>4</th>\n",
              "      <td>42fdf880ba16b47b59251dd489d4441a</td>\n",
              "      <td>1</td>\n",
              "      <td>Credit Card</td>\n",
              "      <td>2</td>\n",
              "      <td>128.45</td>\n",
              "    </tr>\n",
              "  </tbody>\n",
              "</table>\n",
              "</div>\n",
              "      <button class=\"colab-df-convert\" onclick=\"convertToInteractive('df-c9171a4e-52f5-45cc-82c6-41dc91753ecd')\"\n",
              "              title=\"Convert this dataframe to an interactive table.\"\n",
              "              style=\"display:none;\">\n",
              "        \n",
              "  <svg xmlns=\"http://www.w3.org/2000/svg\" height=\"24px\"viewBox=\"0 0 24 24\"\n",
              "       width=\"24px\">\n",
              "    <path d=\"M0 0h24v24H0V0z\" fill=\"none\"/>\n",
              "    <path d=\"M18.56 5.44l.94 2.06.94-2.06 2.06-.94-2.06-.94-.94-2.06-.94 2.06-2.06.94zm-11 1L8.5 8.5l.94-2.06 2.06-.94-2.06-.94L8.5 2.5l-.94 2.06-2.06.94zm10 10l.94 2.06.94-2.06 2.06-.94-2.06-.94-.94-2.06-.94 2.06-2.06.94z\"/><path d=\"M17.41 7.96l-1.37-1.37c-.4-.4-.92-.59-1.43-.59-.52 0-1.04.2-1.43.59L10.3 9.45l-7.72 7.72c-.78.78-.78 2.05 0 2.83L4 21.41c.39.39.9.59 1.41.59.51 0 1.02-.2 1.41-.59l7.78-7.78 2.81-2.81c.8-.78.8-2.07 0-2.86zM5.41 20L4 18.59l7.72-7.72 1.47 1.35L5.41 20z\"/>\n",
              "  </svg>\n",
              "      </button>\n",
              "      \n",
              "  <style>\n",
              "    .colab-df-container {\n",
              "      display:flex;\n",
              "      flex-wrap:wrap;\n",
              "      gap: 12px;\n",
              "    }\n",
              "\n",
              "    .colab-df-convert {\n",
              "      background-color: #E8F0FE;\n",
              "      border: none;\n",
              "      border-radius: 50%;\n",
              "      cursor: pointer;\n",
              "      display: none;\n",
              "      fill: #1967D2;\n",
              "      height: 32px;\n",
              "      padding: 0 0 0 0;\n",
              "      width: 32px;\n",
              "    }\n",
              "\n",
              "    .colab-df-convert:hover {\n",
              "      background-color: #E2EBFA;\n",
              "      box-shadow: 0px 1px 2px rgba(60, 64, 67, 0.3), 0px 1px 3px 1px rgba(60, 64, 67, 0.15);\n",
              "      fill: #174EA6;\n",
              "    }\n",
              "\n",
              "    [theme=dark] .colab-df-convert {\n",
              "      background-color: #3B4455;\n",
              "      fill: #D2E3FC;\n",
              "    }\n",
              "\n",
              "    [theme=dark] .colab-df-convert:hover {\n",
              "      background-color: #434B5C;\n",
              "      box-shadow: 0px 1px 3px 1px rgba(0, 0, 0, 0.15);\n",
              "      filter: drop-shadow(0px 1px 2px rgba(0, 0, 0, 0.3));\n",
              "      fill: #FFFFFF;\n",
              "    }\n",
              "  </style>\n",
              "\n",
              "      <script>\n",
              "        const buttonEl =\n",
              "          document.querySelector('#df-c9171a4e-52f5-45cc-82c6-41dc91753ecd button.colab-df-convert');\n",
              "        buttonEl.style.display =\n",
              "          google.colab.kernel.accessAllowed ? 'block' : 'none';\n",
              "\n",
              "        async function convertToInteractive(key) {\n",
              "          const element = document.querySelector('#df-c9171a4e-52f5-45cc-82c6-41dc91753ecd');\n",
              "          const dataTable =\n",
              "            await google.colab.kernel.invokeFunction('convertToInteractive',\n",
              "                                                     [key], {});\n",
              "          if (!dataTable) return;\n",
              "\n",
              "          const docLinkHtml = 'Like what you see? Visit the ' +\n",
              "            '<a target=\"_blank\" href=https://colab.research.google.com/notebooks/data_table.ipynb>data table notebook</a>'\n",
              "            + ' to learn more about interactive tables.';\n",
              "          element.innerHTML = '';\n",
              "          dataTable['output_type'] = 'display_data';\n",
              "          await google.colab.output.renderOutput(dataTable, element);\n",
              "          const docLink = document.createElement('div');\n",
              "          docLink.innerHTML = docLinkHtml;\n",
              "          element.appendChild(docLink);\n",
              "        }\n",
              "      </script>\n",
              "    </div>\n",
              "  </div>\n",
              "  "
            ]
          },
          "metadata": {},
          "execution_count": 25
        }
      ]
    },
    {
      "cell_type": "code",
      "source": [
        "# Transform the column values in the orders dataset\n",
        "df_orders['order_status'] = df_orders['order_status'].str.title()\n",
        "print(df_orders['order_status'].unique())\n",
        "\n",
        "# Convert order dates into datetime type\n",
        "df_orders['order_purchase_timestamp'] = pd.to_datetime(\n",
        "    df_orders['order_purchase_timestamp']\n",
        ")\n",
        "df_orders['order_approved_at'] = pd.to_datetime(\n",
        "    df_orders['order_approved_at']\n",
        ")\n",
        "df_orders['order_delivered_carrier_date'] = pd.to_datetime(\n",
        "    df_orders['order_delivered_carrier_date']\n",
        ")\n",
        "df_orders['order_delivered_customer_date'] = pd.to_datetime(\n",
        "    df_orders['order_delivered_customer_date']\n",
        ")\n",
        "df_orders['order_estimated_delivery_date'] = pd.to_datetime(\n",
        "    df_orders['order_estimated_delivery_date']\n",
        ")\n",
        "df_orders.info()"
      ],
      "metadata": {
        "colab": {
          "base_uri": "https://localhost:8080/"
        },
        "id": "mSlPnVGaZYWZ",
        "outputId": "e3272646-0922-463c-849a-1e7656eef0d2"
      },
      "execution_count": 26,
      "outputs": [
        {
          "output_type": "stream",
          "name": "stdout",
          "text": [
            "['Delivered' 'Invoiced' 'Shipped' 'Processing' 'Unavailable' 'Canceled'\n",
            " 'Created' 'Approved']\n",
            "<class 'pandas.core.frame.DataFrame'>\n",
            "RangeIndex: 99441 entries, 0 to 99440\n",
            "Data columns (total 8 columns):\n",
            " #   Column                         Non-Null Count  Dtype         \n",
            "---  ------                         --------------  -----         \n",
            " 0   order_id                       99441 non-null  object        \n",
            " 1   customer_id                    99441 non-null  object        \n",
            " 2   order_status                   99441 non-null  object        \n",
            " 3   order_purchase_timestamp       99441 non-null  datetime64[ns]\n",
            " 4   order_approved_at              99281 non-null  datetime64[ns]\n",
            " 5   order_delivered_carrier_date   97658 non-null  datetime64[ns]\n",
            " 6   order_delivered_customer_date  96476 non-null  datetime64[ns]\n",
            " 7   order_estimated_delivery_date  99441 non-null  datetime64[ns]\n",
            "dtypes: datetime64[ns](5), object(3)\n",
            "memory usage: 6.1+ MB\n"
          ]
        }
      ]
    },
    {
      "cell_type": "code",
      "source": [
        "# Transform the column values in the sellers dataset\n",
        "df_sellers['seller_city'] = df_sellers['seller_city'].str.title()\n",
        "df_sellers = df_sellers.rename(\n",
        "    columns={\n",
        "        'seller_zip_code_prefix': 'zip_code_prefix'\n",
        "    }\n",
        ")\n",
        "df_sellers.head()"
      ],
      "metadata": {
        "colab": {
          "base_uri": "https://localhost:8080/",
          "height": 206
        },
        "id": "kS0k-d7UX1MM",
        "outputId": "10fe3cf5-1e9d-443f-f13c-d759268c67ca"
      },
      "execution_count": 27,
      "outputs": [
        {
          "output_type": "execute_result",
          "data": {
            "text/plain": [
              "                          seller_id  zip_code_prefix        seller_city  \\\n",
              "0  3442f8959a84dea7ee197c632cb2df15            13023           Campinas   \n",
              "1  d1b65fc7debc3361ea86b5f14c68d2e2            13844         Mogi Guacu   \n",
              "2  ce3ad9de960102d0677a81f5d0bb7b2d            20031     Rio De Janeiro   \n",
              "3  c0f3eea2e14555b6faeea3dd58c1b1c3             4195          Sao Paulo   \n",
              "4  51a04a8a6bdcb23deccc82b0b80742cf            12914  Braganca Paulista   \n",
              "\n",
              "  seller_state  \n",
              "0           SP  \n",
              "1           SP  \n",
              "2           RJ  \n",
              "3           SP  \n",
              "4           SP  "
            ],
            "text/html": [
              "\n",
              "  <div id=\"df-b11b0d8e-4ac4-4405-aee1-71664e627464\">\n",
              "    <div class=\"colab-df-container\">\n",
              "      <div>\n",
              "<style scoped>\n",
              "    .dataframe tbody tr th:only-of-type {\n",
              "        vertical-align: middle;\n",
              "    }\n",
              "\n",
              "    .dataframe tbody tr th {\n",
              "        vertical-align: top;\n",
              "    }\n",
              "\n",
              "    .dataframe thead th {\n",
              "        text-align: right;\n",
              "    }\n",
              "</style>\n",
              "<table border=\"1\" class=\"dataframe\">\n",
              "  <thead>\n",
              "    <tr style=\"text-align: right;\">\n",
              "      <th></th>\n",
              "      <th>seller_id</th>\n",
              "      <th>zip_code_prefix</th>\n",
              "      <th>seller_city</th>\n",
              "      <th>seller_state</th>\n",
              "    </tr>\n",
              "  </thead>\n",
              "  <tbody>\n",
              "    <tr>\n",
              "      <th>0</th>\n",
              "      <td>3442f8959a84dea7ee197c632cb2df15</td>\n",
              "      <td>13023</td>\n",
              "      <td>Campinas</td>\n",
              "      <td>SP</td>\n",
              "    </tr>\n",
              "    <tr>\n",
              "      <th>1</th>\n",
              "      <td>d1b65fc7debc3361ea86b5f14c68d2e2</td>\n",
              "      <td>13844</td>\n",
              "      <td>Mogi Guacu</td>\n",
              "      <td>SP</td>\n",
              "    </tr>\n",
              "    <tr>\n",
              "      <th>2</th>\n",
              "      <td>ce3ad9de960102d0677a81f5d0bb7b2d</td>\n",
              "      <td>20031</td>\n",
              "      <td>Rio De Janeiro</td>\n",
              "      <td>RJ</td>\n",
              "    </tr>\n",
              "    <tr>\n",
              "      <th>3</th>\n",
              "      <td>c0f3eea2e14555b6faeea3dd58c1b1c3</td>\n",
              "      <td>4195</td>\n",
              "      <td>Sao Paulo</td>\n",
              "      <td>SP</td>\n",
              "    </tr>\n",
              "    <tr>\n",
              "      <th>4</th>\n",
              "      <td>51a04a8a6bdcb23deccc82b0b80742cf</td>\n",
              "      <td>12914</td>\n",
              "      <td>Braganca Paulista</td>\n",
              "      <td>SP</td>\n",
              "    </tr>\n",
              "  </tbody>\n",
              "</table>\n",
              "</div>\n",
              "      <button class=\"colab-df-convert\" onclick=\"convertToInteractive('df-b11b0d8e-4ac4-4405-aee1-71664e627464')\"\n",
              "              title=\"Convert this dataframe to an interactive table.\"\n",
              "              style=\"display:none;\">\n",
              "        \n",
              "  <svg xmlns=\"http://www.w3.org/2000/svg\" height=\"24px\"viewBox=\"0 0 24 24\"\n",
              "       width=\"24px\">\n",
              "    <path d=\"M0 0h24v24H0V0z\" fill=\"none\"/>\n",
              "    <path d=\"M18.56 5.44l.94 2.06.94-2.06 2.06-.94-2.06-.94-.94-2.06-.94 2.06-2.06.94zm-11 1L8.5 8.5l.94-2.06 2.06-.94-2.06-.94L8.5 2.5l-.94 2.06-2.06.94zm10 10l.94 2.06.94-2.06 2.06-.94-2.06-.94-.94-2.06-.94 2.06-2.06.94z\"/><path d=\"M17.41 7.96l-1.37-1.37c-.4-.4-.92-.59-1.43-.59-.52 0-1.04.2-1.43.59L10.3 9.45l-7.72 7.72c-.78.78-.78 2.05 0 2.83L4 21.41c.39.39.9.59 1.41.59.51 0 1.02-.2 1.41-.59l7.78-7.78 2.81-2.81c.8-.78.8-2.07 0-2.86zM5.41 20L4 18.59l7.72-7.72 1.47 1.35L5.41 20z\"/>\n",
              "  </svg>\n",
              "      </button>\n",
              "      \n",
              "  <style>\n",
              "    .colab-df-container {\n",
              "      display:flex;\n",
              "      flex-wrap:wrap;\n",
              "      gap: 12px;\n",
              "    }\n",
              "\n",
              "    .colab-df-convert {\n",
              "      background-color: #E8F0FE;\n",
              "      border: none;\n",
              "      border-radius: 50%;\n",
              "      cursor: pointer;\n",
              "      display: none;\n",
              "      fill: #1967D2;\n",
              "      height: 32px;\n",
              "      padding: 0 0 0 0;\n",
              "      width: 32px;\n",
              "    }\n",
              "\n",
              "    .colab-df-convert:hover {\n",
              "      background-color: #E2EBFA;\n",
              "      box-shadow: 0px 1px 2px rgba(60, 64, 67, 0.3), 0px 1px 3px 1px rgba(60, 64, 67, 0.15);\n",
              "      fill: #174EA6;\n",
              "    }\n",
              "\n",
              "    [theme=dark] .colab-df-convert {\n",
              "      background-color: #3B4455;\n",
              "      fill: #D2E3FC;\n",
              "    }\n",
              "\n",
              "    [theme=dark] .colab-df-convert:hover {\n",
              "      background-color: #434B5C;\n",
              "      box-shadow: 0px 1px 3px 1px rgba(0, 0, 0, 0.15);\n",
              "      filter: drop-shadow(0px 1px 2px rgba(0, 0, 0, 0.3));\n",
              "      fill: #FFFFFF;\n",
              "    }\n",
              "  </style>\n",
              "\n",
              "      <script>\n",
              "        const buttonEl =\n",
              "          document.querySelector('#df-b11b0d8e-4ac4-4405-aee1-71664e627464 button.colab-df-convert');\n",
              "        buttonEl.style.display =\n",
              "          google.colab.kernel.accessAllowed ? 'block' : 'none';\n",
              "\n",
              "        async function convertToInteractive(key) {\n",
              "          const element = document.querySelector('#df-b11b0d8e-4ac4-4405-aee1-71664e627464');\n",
              "          const dataTable =\n",
              "            await google.colab.kernel.invokeFunction('convertToInteractive',\n",
              "                                                     [key], {});\n",
              "          if (!dataTable) return;\n",
              "\n",
              "          const docLinkHtml = 'Like what you see? Visit the ' +\n",
              "            '<a target=\"_blank\" href=https://colab.research.google.com/notebooks/data_table.ipynb>data table notebook</a>'\n",
              "            + ' to learn more about interactive tables.';\n",
              "          element.innerHTML = '';\n",
              "          dataTable['output_type'] = 'display_data';\n",
              "          await google.colab.output.renderOutput(dataTable, element);\n",
              "          const docLink = document.createElement('div');\n",
              "          docLink.innerHTML = docLinkHtml;\n",
              "          element.appendChild(docLink);\n",
              "        }\n",
              "      </script>\n",
              "    </div>\n",
              "  </div>\n",
              "  "
            ]
          },
          "metadata": {},
          "execution_count": 27
        }
      ]
    },
    {
      "cell_type": "code",
      "source": [
        "# Transform the English values in the translations dataset\n",
        "df_trans['product_category_name_english'] = \\\n",
        "    df_trans['product_category_name_english'].str.title()\n",
        "df_trans['product_category_name_english'].replace(\n",
        "    '_', ' ', regex=True, inplace=True\n",
        ")\n",
        "\n",
        "# Merge the translations with the products using the English category name\n",
        "df_prod_trans = pd.merge(\n",
        "    df_products[['product_id', 'product_category_name']],\n",
        "    df_trans[['product_category_name', 'product_category_name_english']],\n",
        "    on=['product_category_name'],\n",
        "    how='inner'\n",
        ")\n",
        "\n",
        "# Retain the English category name column\n",
        "df_prod_trans.drop(['product_category_name'], axis=1, inplace=True)\n",
        "df_prod_trans = df_prod_trans.rename(\n",
        "    columns={\n",
        "        'product_category_name_english': 'product_category_name'\n",
        "    }\n",
        ")\n",
        "df_prod_trans.head()"
      ],
      "metadata": {
        "colab": {
          "base_uri": "https://localhost:8080/",
          "height": 206
        },
        "id": "KJBQvpcJeqtN",
        "outputId": "fd9fa30c-f51b-4d5b-dbfb-808955c51bcc"
      },
      "execution_count": 28,
      "outputs": [
        {
          "output_type": "execute_result",
          "data": {
            "text/plain": [
              "                         product_id product_category_name\n",
              "0  1e9e8ef04dbcff4541ed26657ea517e5             Perfumery\n",
              "1  6a2fb4dd53d2cdb88e0432f1284a004c             Perfumery\n",
              "2  0d009643171aee696f4733340bc2fdd0             Perfumery\n",
              "3  b1eae565a61935e0011ee7682fef9dc9             Perfumery\n",
              "4  8da90b37f0fb171b4877c124f965b1f6             Perfumery"
            ],
            "text/html": [
              "\n",
              "  <div id=\"df-a7e85e8b-c021-447f-9d81-7dcd8d1f2037\">\n",
              "    <div class=\"colab-df-container\">\n",
              "      <div>\n",
              "<style scoped>\n",
              "    .dataframe tbody tr th:only-of-type {\n",
              "        vertical-align: middle;\n",
              "    }\n",
              "\n",
              "    .dataframe tbody tr th {\n",
              "        vertical-align: top;\n",
              "    }\n",
              "\n",
              "    .dataframe thead th {\n",
              "        text-align: right;\n",
              "    }\n",
              "</style>\n",
              "<table border=\"1\" class=\"dataframe\">\n",
              "  <thead>\n",
              "    <tr style=\"text-align: right;\">\n",
              "      <th></th>\n",
              "      <th>product_id</th>\n",
              "      <th>product_category_name</th>\n",
              "    </tr>\n",
              "  </thead>\n",
              "  <tbody>\n",
              "    <tr>\n",
              "      <th>0</th>\n",
              "      <td>1e9e8ef04dbcff4541ed26657ea517e5</td>\n",
              "      <td>Perfumery</td>\n",
              "    </tr>\n",
              "    <tr>\n",
              "      <th>1</th>\n",
              "      <td>6a2fb4dd53d2cdb88e0432f1284a004c</td>\n",
              "      <td>Perfumery</td>\n",
              "    </tr>\n",
              "    <tr>\n",
              "      <th>2</th>\n",
              "      <td>0d009643171aee696f4733340bc2fdd0</td>\n",
              "      <td>Perfumery</td>\n",
              "    </tr>\n",
              "    <tr>\n",
              "      <th>3</th>\n",
              "      <td>b1eae565a61935e0011ee7682fef9dc9</td>\n",
              "      <td>Perfumery</td>\n",
              "    </tr>\n",
              "    <tr>\n",
              "      <th>4</th>\n",
              "      <td>8da90b37f0fb171b4877c124f965b1f6</td>\n",
              "      <td>Perfumery</td>\n",
              "    </tr>\n",
              "  </tbody>\n",
              "</table>\n",
              "</div>\n",
              "      <button class=\"colab-df-convert\" onclick=\"convertToInteractive('df-a7e85e8b-c021-447f-9d81-7dcd8d1f2037')\"\n",
              "              title=\"Convert this dataframe to an interactive table.\"\n",
              "              style=\"display:none;\">\n",
              "        \n",
              "  <svg xmlns=\"http://www.w3.org/2000/svg\" height=\"24px\"viewBox=\"0 0 24 24\"\n",
              "       width=\"24px\">\n",
              "    <path d=\"M0 0h24v24H0V0z\" fill=\"none\"/>\n",
              "    <path d=\"M18.56 5.44l.94 2.06.94-2.06 2.06-.94-2.06-.94-.94-2.06-.94 2.06-2.06.94zm-11 1L8.5 8.5l.94-2.06 2.06-.94-2.06-.94L8.5 2.5l-.94 2.06-2.06.94zm10 10l.94 2.06.94-2.06 2.06-.94-2.06-.94-.94-2.06-.94 2.06-2.06.94z\"/><path d=\"M17.41 7.96l-1.37-1.37c-.4-.4-.92-.59-1.43-.59-.52 0-1.04.2-1.43.59L10.3 9.45l-7.72 7.72c-.78.78-.78 2.05 0 2.83L4 21.41c.39.39.9.59 1.41.59.51 0 1.02-.2 1.41-.59l7.78-7.78 2.81-2.81c.8-.78.8-2.07 0-2.86zM5.41 20L4 18.59l7.72-7.72 1.47 1.35L5.41 20z\"/>\n",
              "  </svg>\n",
              "      </button>\n",
              "      \n",
              "  <style>\n",
              "    .colab-df-container {\n",
              "      display:flex;\n",
              "      flex-wrap:wrap;\n",
              "      gap: 12px;\n",
              "    }\n",
              "\n",
              "    .colab-df-convert {\n",
              "      background-color: #E8F0FE;\n",
              "      border: none;\n",
              "      border-radius: 50%;\n",
              "      cursor: pointer;\n",
              "      display: none;\n",
              "      fill: #1967D2;\n",
              "      height: 32px;\n",
              "      padding: 0 0 0 0;\n",
              "      width: 32px;\n",
              "    }\n",
              "\n",
              "    .colab-df-convert:hover {\n",
              "      background-color: #E2EBFA;\n",
              "      box-shadow: 0px 1px 2px rgba(60, 64, 67, 0.3), 0px 1px 3px 1px rgba(60, 64, 67, 0.15);\n",
              "      fill: #174EA6;\n",
              "    }\n",
              "\n",
              "    [theme=dark] .colab-df-convert {\n",
              "      background-color: #3B4455;\n",
              "      fill: #D2E3FC;\n",
              "    }\n",
              "\n",
              "    [theme=dark] .colab-df-convert:hover {\n",
              "      background-color: #434B5C;\n",
              "      box-shadow: 0px 1px 3px 1px rgba(0, 0, 0, 0.15);\n",
              "      filter: drop-shadow(0px 1px 2px rgba(0, 0, 0, 0.3));\n",
              "      fill: #FFFFFF;\n",
              "    }\n",
              "  </style>\n",
              "\n",
              "      <script>\n",
              "        const buttonEl =\n",
              "          document.querySelector('#df-a7e85e8b-c021-447f-9d81-7dcd8d1f2037 button.colab-df-convert');\n",
              "        buttonEl.style.display =\n",
              "          google.colab.kernel.accessAllowed ? 'block' : 'none';\n",
              "\n",
              "        async function convertToInteractive(key) {\n",
              "          const element = document.querySelector('#df-a7e85e8b-c021-447f-9d81-7dcd8d1f2037');\n",
              "          const dataTable =\n",
              "            await google.colab.kernel.invokeFunction('convertToInteractive',\n",
              "                                                     [key], {});\n",
              "          if (!dataTable) return;\n",
              "\n",
              "          const docLinkHtml = 'Like what you see? Visit the ' +\n",
              "            '<a target=\"_blank\" href=https://colab.research.google.com/notebooks/data_table.ipynb>data table notebook</a>'\n",
              "            + ' to learn more about interactive tables.';\n",
              "          element.innerHTML = '';\n",
              "          dataTable['output_type'] = 'display_data';\n",
              "          await google.colab.output.renderOutput(dataTable, element);\n",
              "          const docLink = document.createElement('div');\n",
              "          docLink.innerHTML = docLinkHtml;\n",
              "          element.appendChild(docLink);\n",
              "        }\n",
              "      </script>\n",
              "    </div>\n",
              "  </div>\n",
              "  "
            ]
          },
          "metadata": {},
          "execution_count": 28
        }
      ]
    },
    {
      "cell_type": "markdown",
      "source": [
        "## Exploring of data for insights and visualizations"
      ],
      "metadata": {
        "id": "zGdo_lKmhI4-"
      }
    },
    {
      "cell_type": "markdown",
      "source": [
        "We will look first into the company's statistics in general."
      ],
      "metadata": {
        "id": "hkOijvdgFPR3"
      }
    },
    {
      "cell_type": "markdown",
      "source": [
        "The related dataframes will be merged in order to come up with a more meaningful dataset to be used for our findings later."
      ],
      "metadata": {
        "id": "wnsRr8XQCg3W"
      }
    },
    {
      "cell_type": "code",
      "source": [
        "# Create columns for order purchase month and year\n",
        "df_orders['order_purchase_year'] = \\\n",
        "    df_orders['order_purchase_timestamp'].dt.strftime('%Y').astype('int64')\n",
        "df_orders['order_purchase_month'] = \\\n",
        "    df_orders['order_purchase_timestamp'].dt.strftime('%b')\n",
        "\n",
        "# Merge the orders, order items, customers, sellers and product datasets\n",
        "df_ord_item = df_orders.merge(\n",
        "    df_items,\n",
        "    on=['order_id'],\n",
        "    how='left'\n",
        ")\n",
        "df_ord_item_cust = df_ord_item.merge(\n",
        "    df_customers,\n",
        "    on=['customer_id'],\n",
        "    how='left'\n",
        ")\n",
        "df_ord_item_cust_sell = df_ord_item_cust.merge(\n",
        "    df_sellers,\n",
        "    on=['seller_id'],\n",
        "    how='left'\n",
        ")\n",
        "df_ord_item_cust_sell_prod = df_ord_item_cust_sell.merge(\n",
        "    df_prod_trans,\n",
        "    on=['product_id'],\n",
        "    how='left'\n",
        ")\n",
        "\n",
        "# Rename columns\n",
        "df_ord_item_cust_sell_prod = df_ord_item_cust_sell_prod.rename(\n",
        "    columns={\n",
        "        'zip_code_prefix_x': 'customer_zip_code_prefix',\n",
        "        'zip_code_prefix_y': 'seller_zip_code_prefix'\n",
        "    }\n",
        ")\n",
        "\n",
        "# Drop columns\n",
        "drop_cols = ['order_item_id']\n",
        "df_ord_item_cust_sell_prod.drop(\n",
        "    drop_cols,\n",
        "    axis=1,\n",
        "    inplace=True\n",
        ")\n",
        "df_ord_item_cust_sell_prod.info()"
      ],
      "metadata": {
        "colab": {
          "base_uri": "https://localhost:8080/"
        },
        "id": "gvkRKE94I7IZ",
        "outputId": "f67489d9-9201-4d20-c5e7-cb7a88970176"
      },
      "execution_count": 29,
      "outputs": [
        {
          "output_type": "stream",
          "name": "stdout",
          "text": [
            "<class 'pandas.core.frame.DataFrame'>\n",
            "Int64Index: 113425 entries, 0 to 113424\n",
            "Data columns (total 23 columns):\n",
            " #   Column                         Non-Null Count   Dtype         \n",
            "---  ------                         --------------   -----         \n",
            " 0   order_id                       113425 non-null  object        \n",
            " 1   customer_id                    113425 non-null  object        \n",
            " 2   order_status                   113425 non-null  object        \n",
            " 3   order_purchase_timestamp       113425 non-null  datetime64[ns]\n",
            " 4   order_approved_at              113264 non-null  datetime64[ns]\n",
            " 5   order_delivered_carrier_date   111457 non-null  datetime64[ns]\n",
            " 6   order_delivered_customer_date  110196 non-null  datetime64[ns]\n",
            " 7   order_estimated_delivery_date  113425 non-null  datetime64[ns]\n",
            " 8   order_purchase_year            113425 non-null  int64         \n",
            " 9   order_purchase_month           113425 non-null  object        \n",
            " 10  product_id                     112650 non-null  object        \n",
            " 11  seller_id                      112650 non-null  object        \n",
            " 12  shipping_limit_date            112650 non-null  datetime64[ns]\n",
            " 13  price                          112650 non-null  float64       \n",
            " 14  freight_value                  112650 non-null  float64       \n",
            " 15  customer_unique_id             113425 non-null  object        \n",
            " 16  customer_zip_code_prefix       113425 non-null  int64         \n",
            " 17  customer_city                  113425 non-null  object        \n",
            " 18  customer_state                 113425 non-null  object        \n",
            " 19  seller_zip_code_prefix         112650 non-null  float64       \n",
            " 20  seller_city                    112650 non-null  object        \n",
            " 21  seller_state                   112650 non-null  object        \n",
            " 22  product_category_name          111023 non-null  object        \n",
            "dtypes: datetime64[ns](6), float64(3), int64(2), object(12)\n",
            "memory usage: 20.8+ MB\n"
          ]
        }
      ]
    },
    {
      "cell_type": "code",
      "source": [
        "# Get product category distribution\n",
        "product_category_counts = \\\n",
        "    df_ord_item_cust_sell_prod.groupby(\n",
        "        ['product_category_name']\n",
        "    )['order_id'].nunique().reset_index()\n",
        "\n",
        "product_category_counts.rename(\n",
        "    columns={\n",
        "        'order_id': 'count',\n",
        "    },\n",
        "    inplace=True\n",
        ")\n",
        "product_category_counts.sort_values(\n",
        "    ['count'],\n",
        "    ascending=False,\n",
        "    inplace=True\n",
        ")\n",
        "\n",
        "# Show top 10 products based on inventory\n",
        "product_category_counts.head(10).style.hide(axis='index')"
      ],
      "metadata": {
        "colab": {
          "base_uri": "https://localhost:8080/",
          "height": 363
        },
        "id": "2uFh_Yhbil7Z",
        "outputId": "1a14cdf1-1ce7-4e0f-927a-0512e9311691"
      },
      "execution_count": 30,
      "outputs": [
        {
          "output_type": "execute_result",
          "data": {
            "text/plain": [
              "<pandas.io.formats.style.Styler at 0x7f41ccb58190>"
            ],
            "text/html": [
              "<style type=\"text/css\">\n",
              "</style>\n",
              "<table id=\"T_42d55\" class=\"dataframe\">\n",
              "  <thead>\n",
              "    <tr>\n",
              "      <th id=\"T_42d55_level0_col0\" class=\"col_heading level0 col0\" >product_category_name</th>\n",
              "      <th id=\"T_42d55_level0_col1\" class=\"col_heading level0 col1\" >count</th>\n",
              "    </tr>\n",
              "  </thead>\n",
              "  <tbody>\n",
              "    <tr>\n",
              "      <td id=\"T_42d55_row0_col0\" class=\"data row0 col0\" >Bed Bath Table</td>\n",
              "      <td id=\"T_42d55_row0_col1\" class=\"data row0 col1\" >9417</td>\n",
              "    </tr>\n",
              "    <tr>\n",
              "      <td id=\"T_42d55_row1_col0\" class=\"data row1 col0\" >Health Beauty</td>\n",
              "      <td id=\"T_42d55_row1_col1\" class=\"data row1 col1\" >8836</td>\n",
              "    </tr>\n",
              "    <tr>\n",
              "      <td id=\"T_42d55_row2_col0\" class=\"data row2 col0\" >Sports Leisure</td>\n",
              "      <td id=\"T_42d55_row2_col1\" class=\"data row2 col1\" >7720</td>\n",
              "    </tr>\n",
              "    <tr>\n",
              "      <td id=\"T_42d55_row3_col0\" class=\"data row3 col0\" >Computers Accessories</td>\n",
              "      <td id=\"T_42d55_row3_col1\" class=\"data row3 col1\" >6689</td>\n",
              "    </tr>\n",
              "    <tr>\n",
              "      <td id=\"T_42d55_row4_col0\" class=\"data row4 col0\" >Furniture Decor</td>\n",
              "      <td id=\"T_42d55_row4_col1\" class=\"data row4 col1\" >6449</td>\n",
              "    </tr>\n",
              "    <tr>\n",
              "      <td id=\"T_42d55_row5_col0\" class=\"data row5 col0\" >Housewares</td>\n",
              "      <td id=\"T_42d55_row5_col1\" class=\"data row5 col1\" >5884</td>\n",
              "    </tr>\n",
              "    <tr>\n",
              "      <td id=\"T_42d55_row6_col0\" class=\"data row6 col0\" >Watches Gifts</td>\n",
              "      <td id=\"T_42d55_row6_col1\" class=\"data row6 col1\" >5624</td>\n",
              "    </tr>\n",
              "    <tr>\n",
              "      <td id=\"T_42d55_row7_col0\" class=\"data row7 col0\" >Telephony</td>\n",
              "      <td id=\"T_42d55_row7_col1\" class=\"data row7 col1\" >4199</td>\n",
              "    </tr>\n",
              "    <tr>\n",
              "      <td id=\"T_42d55_row8_col0\" class=\"data row8 col0\" >Auto</td>\n",
              "      <td id=\"T_42d55_row8_col1\" class=\"data row8 col1\" >3897</td>\n",
              "    </tr>\n",
              "    <tr>\n",
              "      <td id=\"T_42d55_row9_col0\" class=\"data row9 col0\" >Toys</td>\n",
              "      <td id=\"T_42d55_row9_col1\" class=\"data row9 col1\" >3886</td>\n",
              "    </tr>\n",
              "  </tbody>\n",
              "</table>\n"
            ]
          },
          "metadata": {},
          "execution_count": 30
        }
      ]
    },
    {
      "cell_type": "markdown",
      "source": [
        "From the inventory, the **Bed Bath Table** product category has the highest count."
      ],
      "metadata": {
        "id": "OdWNalZ4DjkN"
      }
    },
    {
      "cell_type": "code",
      "source": [
        "# Get order status distribution\n",
        "order_status_counts = \\\n",
        "    df_ord_item_cust_sell_prod.groupby(\n",
        "        ['order_status']\n",
        "    )['order_id'].nunique().reset_index()\n",
        "\n",
        "order_status_counts.rename(\n",
        "    columns={\n",
        "        'order_id': 'count',\n",
        "    },\n",
        "    inplace=True\n",
        ")\n",
        "order_status_counts.sort_values(\n",
        "    ['count'],\n",
        "    ascending=False,\n",
        "    inplace=True\n",
        ")\n",
        "\n",
        "# Generate bar plot\n",
        "fig, ax = plt.subplots(figsize = (8, 4))\n",
        "sns.barplot(\n",
        "    data=order_status_counts,\n",
        "    x='order_status',\n",
        "    y='count',\n",
        "    ax=ax\n",
        ")\n",
        "ax.set_title('Order Status Distribution')\n",
        "ax.set_xlabel('')\n",
        "ax.set_ylabel('')\n",
        "plt.tight_layout()\n",
        "plt.show()"
      ],
      "metadata": {
        "colab": {
          "base_uri": "https://localhost:8080/",
          "height": 407
        },
        "id": "uu2siVJ9dP08",
        "outputId": "0ee216e4-4162-45f5-b4b0-6289d50bc6c4"
      },
      "execution_count": 31,
      "outputs": [
        {
          "output_type": "display_data",
          "data": {
            "text/plain": [
              "<Figure size 800x400 with 1 Axes>"
            ],
            "image/png": "[encoded data removed]"
          },
          "metadata": {}
        }
      ]
    },
    {
      "cell_type": "markdown",
      "source": [
        "Almost all orders have already been **delivered**, with a few still in the processing stage."
      ],
      "metadata": {
        "id": "_yfoaH5QDPaF"
      }
    },
    {
      "cell_type": "markdown",
      "source": [
        "Next, we will come up with a summarized tally of order volume and sales, which we will use to plot the trends later."
      ],
      "metadata": {
        "id": "YijU9E0TD1qV"
      }
    },
    {
      "cell_type": "code",
      "source": [
        "# Merge orders and payments dataset\n",
        "order_cols = [\n",
        "    'order_id',\n",
        "    'order_purchase_timestamp',\n",
        "    'order_status',\n",
        "    'order_purchase_year',\n",
        "    'order_purchase_month'\n",
        "]\n",
        "payment_cols = ['order_id', 'payment_type', 'payment_value']\n",
        "df_ord_pay = pd.merge(\n",
        "    df_orders[order_cols],\n",
        "    df_payments[payment_cols],\n",
        "    on=['order_id'],\n",
        "    how='left'\n",
        ")\n",
        "\n",
        "# Create a dataframe based from the order purchase date range\n",
        "period_range = pd.period_range(\n",
        "    df_ord_pay['order_purchase_timestamp'].min(),\n",
        "    df_ord_pay['order_purchase_timestamp'].max(),\n",
        "    freq='M'\n",
        ")\n",
        "df_period = pd.DataFrame(\n",
        "    period_range.T,\n",
        "    columns=['period']\n",
        ")\n",
        "df_period['year'] = period_range.year.T\n",
        "df_period['index'] = period_range.month.T\n",
        "\n",
        "# Get sales volume by year and month\n",
        "sales_volume_month = \\\n",
        "    df_ord_pay.groupby(\n",
        "        ['order_purchase_year', 'order_purchase_month']\n",
        "    ).agg(\n",
        "        {\n",
        "            'order_id': 'nunique',\n",
        "            'payment_value': 'sum'\n",
        "        }\n",
        "    ).reset_index()\n",
        "\n",
        "# Rename year and month columns\n",
        "sales_volume_month.rename(\n",
        "    columns={\n",
        "        'order_purchase_year': 'year',\n",
        "        'order_purchase_month': 'month'\n",
        "    },\n",
        "    inplace=True\n",
        ")\n",
        "\n",
        "# Convert month string into index then sort\n",
        "sales_volume_month['index'] = pd.DatetimeIndex(\n",
        "    pd.to_datetime(\n",
        "        sales_volume_month['month'],\n",
        "        format='%b'\n",
        "    )\n",
        ").month.astype('int64')\n",
        "\n",
        "# Merge the dataframes\n",
        "sales_volume_month_full = df_period.merge(\n",
        "    sales_volume_month,\n",
        "    on=['year', 'index'],\n",
        "    how='left'\n",
        ")\n",
        "\n",
        "# Sort by order purchase year and month number\n",
        "sales_volume_month_full.set_index('index', inplace=True)\n",
        "sales_volume_month_full.sort_values(\n",
        "    ['year', 'index'],\n",
        "    inplace=True\n",
        ")\n",
        "sales_volume_month_full.rename(\n",
        "    columns={\n",
        "        'order_id': 'orders',\n",
        "        'payment_value': 'sales'\n",
        "    },\n",
        "    inplace=True\n",
        ")\n",
        "\n",
        "# Fill the empty values\n",
        "sales_volume_month_full['orders'].fillna(0, inplace=True)\n",
        "sales_volume_month_full['sales'].fillna(0, inplace=True)\n",
        "sales_volume_month_full['month'].fillna(\n",
        "    'Nov',\n",
        "    inplace=True\n",
        ")\n",
        "\n",
        "sales_volume_month_full.style.hide(axis='index')"
      ],
      "metadata": {
        "colab": {
          "base_uri": "https://localhost:8080/",
          "height": 865
        },
        "id": "112_xJs3Aybl",
        "outputId": "4c0a9691-d1e1-47dd-83b4-45da596e70d1"
      },
      "execution_count": 32,
      "outputs": [
        {
          "output_type": "execute_result",
          "data": {
            "text/plain": [
              "<pandas.io.formats.style.Styler at 0x7f41ccd1d160>"
            ],
            "text/html": [
              "<style type=\"text/css\">\n",
              "</style>\n",
              "<table id=\"T_07a5e\" class=\"dataframe\">\n",
              "  <thead>\n",
              "    <tr>\n",
              "      <th id=\"T_07a5e_level0_col0\" class=\"col_heading level0 col0\" >period</th>\n",
              "      <th id=\"T_07a5e_level0_col1\" class=\"col_heading level0 col1\" >year</th>\n",
              "      <th id=\"T_07a5e_level0_col2\" class=\"col_heading level0 col2\" >month</th>\n",
              "      <th id=\"T_07a5e_level0_col3\" class=\"col_heading level0 col3\" >orders</th>\n",
              "      <th id=\"T_07a5e_level0_col4\" class=\"col_heading level0 col4\" >sales</th>\n",
              "    </tr>\n",
              "  </thead>\n",
              "  <tbody>\n",
              "    <tr>\n",
              "      <td id=\"T_07a5e_row0_col0\" class=\"data row0 col0\" >2016-09</td>\n",
              "      <td id=\"T_07a5e_row0_col1\" class=\"data row0 col1\" >2016</td>\n",
              "      <td id=\"T_07a5e_row0_col2\" class=\"data row0 col2\" >Sep</td>\n",
              "      <td id=\"T_07a5e_row0_col3\" class=\"data row0 col3\" >4.000000</td>\n",
              "      <td id=\"T_07a5e_row0_col4\" class=\"data row0 col4\" >252.240000</td>\n",
              "    </tr>\n",
              "    <tr>\n",
              "      <td id=\"T_07a5e_row1_col0\" class=\"data row1 col0\" >2016-10</td>\n",
              "      <td id=\"T_07a5e_row1_col1\" class=\"data row1 col1\" >2016</td>\n",
              "      <td id=\"T_07a5e_row1_col2\" class=\"data row1 col2\" >Oct</td>\n",
              "      <td id=\"T_07a5e_row1_col3\" class=\"data row1 col3\" >324.000000</td>\n",
              "      <td id=\"T_07a5e_row1_col4\" class=\"data row1 col4\" >59090.480000</td>\n",
              "    </tr>\n",
              "    <tr>\n",
              "      <td id=\"T_07a5e_row2_col0\" class=\"data row2 col0\" >2016-11</td>\n",
              "      <td id=\"T_07a5e_row2_col1\" class=\"data row2 col1\" >2016</td>\n",
              "      <td id=\"T_07a5e_row2_col2\" class=\"data row2 col2\" >Nov</td>\n",
              "      <td id=\"T_07a5e_row2_col3\" class=\"data row2 col3\" >0.000000</td>\n",
              "      <td id=\"T_07a5e_row2_col4\" class=\"data row2 col4\" >0.000000</td>\n",
              "    </tr>\n",
              "    <tr>\n",
              "      <td id=\"T_07a5e_row3_col0\" class=\"data row3 col0\" >2016-12</td>\n",
              "      <td id=\"T_07a5e_row3_col1\" class=\"data row3 col1\" >2016</td>\n",
              "      <td id=\"T_07a5e_row3_col2\" class=\"data row3 col2\" >Dec</td>\n",
              "      <td id=\"T_07a5e_row3_col3\" class=\"data row3 col3\" >1.000000</td>\n",
              "      <td id=\"T_07a5e_row3_col4\" class=\"data row3 col4\" >19.620000</td>\n",
              "    </tr>\n",
              "    <tr>\n",
              "      <td id=\"T_07a5e_row4_col0\" class=\"data row4 col0\" >2017-01</td>\n",
              "      <td id=\"T_07a5e_row4_col1\" class=\"data row4 col1\" >2017</td>\n",
              "      <td id=\"T_07a5e_row4_col2\" class=\"data row4 col2\" >Jan</td>\n",
              "      <td id=\"T_07a5e_row4_col3\" class=\"data row4 col3\" >800.000000</td>\n",
              "      <td id=\"T_07a5e_row4_col4\" class=\"data row4 col4\" >138488.040000</td>\n",
              "    </tr>\n",
              "    <tr>\n",
              "      <td id=\"T_07a5e_row5_col0\" class=\"data row5 col0\" >2017-02</td>\n",
              "      <td id=\"T_07a5e_row5_col1\" class=\"data row5 col1\" >2017</td>\n",
              "      <td id=\"T_07a5e_row5_col2\" class=\"data row5 col2\" >Feb</td>\n",
              "      <td id=\"T_07a5e_row5_col3\" class=\"data row5 col3\" >1780.000000</td>\n",
              "      <td id=\"T_07a5e_row5_col4\" class=\"data row5 col4\" >291908.010000</td>\n",
              "    </tr>\n",
              "    <tr>\n",
              "      <td id=\"T_07a5e_row6_col0\" class=\"data row6 col0\" >2017-03</td>\n",
              "      <td id=\"T_07a5e_row6_col1\" class=\"data row6 col1\" >2017</td>\n",
              "      <td id=\"T_07a5e_row6_col2\" class=\"data row6 col2\" >Mar</td>\n",
              "      <td id=\"T_07a5e_row6_col3\" class=\"data row6 col3\" >2682.000000</td>\n",
              "      <td id=\"T_07a5e_row6_col4\" class=\"data row6 col4\" >449863.600000</td>\n",
              "    </tr>\n",
              "    <tr>\n",
              "      <td id=\"T_07a5e_row7_col0\" class=\"data row7 col0\" >2017-04</td>\n",
              "      <td id=\"T_07a5e_row7_col1\" class=\"data row7 col1\" >2017</td>\n",
              "      <td id=\"T_07a5e_row7_col2\" class=\"data row7 col2\" >Apr</td>\n",
              "      <td id=\"T_07a5e_row7_col3\" class=\"data row7 col3\" >2404.000000</td>\n",
              "      <td id=\"T_07a5e_row7_col4\" class=\"data row7 col4\" >417788.030000</td>\n",
              "    </tr>\n",
              "    <tr>\n",
              "      <td id=\"T_07a5e_row8_col0\" class=\"data row8 col0\" >2017-05</td>\n",
              "      <td id=\"T_07a5e_row8_col1\" class=\"data row8 col1\" >2017</td>\n",
              "      <td id=\"T_07a5e_row8_col2\" class=\"data row8 col2\" >May</td>\n",
              "      <td id=\"T_07a5e_row8_col3\" class=\"data row8 col3\" >3700.000000</td>\n",
              "      <td id=\"T_07a5e_row8_col4\" class=\"data row8 col4\" >592918.820000</td>\n",
              "    </tr>\n",
              "    <tr>\n",
              "      <td id=\"T_07a5e_row9_col0\" class=\"data row9 col0\" >2017-06</td>\n",
              "      <td id=\"T_07a5e_row9_col1\" class=\"data row9 col1\" >2017</td>\n",
              "      <td id=\"T_07a5e_row9_col2\" class=\"data row9 col2\" >Jun</td>\n",
              "      <td id=\"T_07a5e_row9_col3\" class=\"data row9 col3\" >3245.000000</td>\n",
              "      <td id=\"T_07a5e_row9_col4\" class=\"data row9 col4\" >511276.380000</td>\n",
              "    </tr>\n",
              "    <tr>\n",
              "      <td id=\"T_07a5e_row10_col0\" class=\"data row10 col0\" >2017-07</td>\n",
              "      <td id=\"T_07a5e_row10_col1\" class=\"data row10 col1\" >2017</td>\n",
              "      <td id=\"T_07a5e_row10_col2\" class=\"data row10 col2\" >Jul</td>\n",
              "      <td id=\"T_07a5e_row10_col3\" class=\"data row10 col3\" >4026.000000</td>\n",
              "      <td id=\"T_07a5e_row10_col4\" class=\"data row10 col4\" >592382.920000</td>\n",
              "    </tr>\n",
              "    <tr>\n",
              "      <td id=\"T_07a5e_row11_col0\" class=\"data row11 col0\" >2017-08</td>\n",
              "      <td id=\"T_07a5e_row11_col1\" class=\"data row11 col1\" >2017</td>\n",
              "      <td id=\"T_07a5e_row11_col2\" class=\"data row11 col2\" >Aug</td>\n",
              "      <td id=\"T_07a5e_row11_col3\" class=\"data row11 col3\" >4331.000000</td>\n",
              "      <td id=\"T_07a5e_row11_col4\" class=\"data row11 col4\" >674396.320000</td>\n",
              "    </tr>\n",
              "    <tr>\n",
              "      <td id=\"T_07a5e_row12_col0\" class=\"data row12 col0\" >2017-09</td>\n",
              "      <td id=\"T_07a5e_row12_col1\" class=\"data row12 col1\" >2017</td>\n",
              "      <td id=\"T_07a5e_row12_col2\" class=\"data row12 col2\" >Sep</td>\n",
              "      <td id=\"T_07a5e_row12_col3\" class=\"data row12 col3\" >4285.000000</td>\n",
              "      <td id=\"T_07a5e_row12_col4\" class=\"data row12 col4\" >727762.450000</td>\n",
              "    </tr>\n",
              "    <tr>\n",
              "      <td id=\"T_07a5e_row13_col0\" class=\"data row13 col0\" >2017-10</td>\n",
              "      <td id=\"T_07a5e_row13_col1\" class=\"data row13 col1\" >2017</td>\n",
              "      <td id=\"T_07a5e_row13_col2\" class=\"data row13 col2\" >Oct</td>\n",
              "      <td id=\"T_07a5e_row13_col3\" class=\"data row13 col3\" >4631.000000</td>\n",
              "      <td id=\"T_07a5e_row13_col4\" class=\"data row13 col4\" >779677.880000</td>\n",
              "    </tr>\n",
              "    <tr>\n",
              "      <td id=\"T_07a5e_row14_col0\" class=\"data row14 col0\" >2017-11</td>\n",
              "      <td id=\"T_07a5e_row14_col1\" class=\"data row14 col1\" >2017</td>\n",
              "      <td id=\"T_07a5e_row14_col2\" class=\"data row14 col2\" >Nov</td>\n",
              "      <td id=\"T_07a5e_row14_col3\" class=\"data row14 col3\" >7544.000000</td>\n",
              "      <td id=\"T_07a5e_row14_col4\" class=\"data row14 col4\" >1194882.800000</td>\n",
              "    </tr>\n",
              "    <tr>\n",
              "      <td id=\"T_07a5e_row15_col0\" class=\"data row15 col0\" >2017-12</td>\n",
              "      <td id=\"T_07a5e_row15_col1\" class=\"data row15 col1\" >2017</td>\n",
              "      <td id=\"T_07a5e_row15_col2\" class=\"data row15 col2\" >Dec</td>\n",
              "      <td id=\"T_07a5e_row15_col3\" class=\"data row15 col3\" >5673.000000</td>\n",
              "      <td id=\"T_07a5e_row15_col4\" class=\"data row15 col4\" >878401.480000</td>\n",
              "    </tr>\n",
              "    <tr>\n",
              "      <td id=\"T_07a5e_row16_col0\" class=\"data row16 col0\" >2018-01</td>\n",
              "      <td id=\"T_07a5e_row16_col1\" class=\"data row16 col1\" >2018</td>\n",
              "      <td id=\"T_07a5e_row16_col2\" class=\"data row16 col2\" >Jan</td>\n",
              "      <td id=\"T_07a5e_row16_col3\" class=\"data row16 col3\" >7269.000000</td>\n",
              "      <td id=\"T_07a5e_row16_col4\" class=\"data row16 col4\" >1115004.180000</td>\n",
              "    </tr>\n",
              "    <tr>\n",
              "      <td id=\"T_07a5e_row17_col0\" class=\"data row17 col0\" >2018-02</td>\n",
              "      <td id=\"T_07a5e_row17_col1\" class=\"data row17 col1\" >2018</td>\n",
              "      <td id=\"T_07a5e_row17_col2\" class=\"data row17 col2\" >Feb</td>\n",
              "      <td id=\"T_07a5e_row17_col3\" class=\"data row17 col3\" >6728.000000</td>\n",
              "      <td id=\"T_07a5e_row17_col4\" class=\"data row17 col4\" >992463.340000</td>\n",
              "    </tr>\n",
              "    <tr>\n",
              "      <td id=\"T_07a5e_row18_col0\" class=\"data row18 col0\" >2018-03</td>\n",
              "      <td id=\"T_07a5e_row18_col1\" class=\"data row18 col1\" >2018</td>\n",
              "      <td id=\"T_07a5e_row18_col2\" class=\"data row18 col2\" >Mar</td>\n",
              "      <td id=\"T_07a5e_row18_col3\" class=\"data row18 col3\" >7211.000000</td>\n",
              "      <td id=\"T_07a5e_row18_col4\" class=\"data row18 col4\" >1159652.120000</td>\n",
              "    </tr>\n",
              "    <tr>\n",
              "      <td id=\"T_07a5e_row19_col0\" class=\"data row19 col0\" >2018-04</td>\n",
              "      <td id=\"T_07a5e_row19_col1\" class=\"data row19 col1\" >2018</td>\n",
              "      <td id=\"T_07a5e_row19_col2\" class=\"data row19 col2\" >Apr</td>\n",
              "      <td id=\"T_07a5e_row19_col3\" class=\"data row19 col3\" >6939.000000</td>\n",
              "      <td id=\"T_07a5e_row19_col4\" class=\"data row19 col4\" >1160785.480000</td>\n",
              "    </tr>\n",
              "    <tr>\n",
              "      <td id=\"T_07a5e_row20_col0\" class=\"data row20 col0\" >2018-05</td>\n",
              "      <td id=\"T_07a5e_row20_col1\" class=\"data row20 col1\" >2018</td>\n",
              "      <td id=\"T_07a5e_row20_col2\" class=\"data row20 col2\" >May</td>\n",
              "      <td id=\"T_07a5e_row20_col3\" class=\"data row20 col3\" >6873.000000</td>\n",
              "      <td id=\"T_07a5e_row20_col4\" class=\"data row20 col4\" >1153982.150000</td>\n",
              "    </tr>\n",
              "    <tr>\n",
              "      <td id=\"T_07a5e_row21_col0\" class=\"data row21 col0\" >2018-06</td>\n",
              "      <td id=\"T_07a5e_row21_col1\" class=\"data row21 col1\" >2018</td>\n",
              "      <td id=\"T_07a5e_row21_col2\" class=\"data row21 col2\" >Jun</td>\n",
              "      <td id=\"T_07a5e_row21_col3\" class=\"data row21 col3\" >6167.000000</td>\n",
              "      <td id=\"T_07a5e_row21_col4\" class=\"data row21 col4\" >1023880.500000</td>\n",
              "    </tr>\n",
              "    <tr>\n",
              "      <td id=\"T_07a5e_row22_col0\" class=\"data row22 col0\" >2018-07</td>\n",
              "      <td id=\"T_07a5e_row22_col1\" class=\"data row22 col1\" >2018</td>\n",
              "      <td id=\"T_07a5e_row22_col2\" class=\"data row22 col2\" >Jul</td>\n",
              "      <td id=\"T_07a5e_row22_col3\" class=\"data row22 col3\" >6292.000000</td>\n",
              "      <td id=\"T_07a5e_row22_col4\" class=\"data row22 col4\" >1066540.750000</td>\n",
              "    </tr>\n",
              "    <tr>\n",
              "      <td id=\"T_07a5e_row23_col0\" class=\"data row23 col0\" >2018-08</td>\n",
              "      <td id=\"T_07a5e_row23_col1\" class=\"data row23 col1\" >2018</td>\n",
              "      <td id=\"T_07a5e_row23_col2\" class=\"data row23 col2\" >Aug</td>\n",
              "      <td id=\"T_07a5e_row23_col3\" class=\"data row23 col3\" >6512.000000</td>\n",
              "      <td id=\"T_07a5e_row23_col4\" class=\"data row23 col4\" >1022425.320000</td>\n",
              "    </tr>\n",
              "    <tr>\n",
              "      <td id=\"T_07a5e_row24_col0\" class=\"data row24 col0\" >2018-09</td>\n",
              "      <td id=\"T_07a5e_row24_col1\" class=\"data row24 col1\" >2018</td>\n",
              "      <td id=\"T_07a5e_row24_col2\" class=\"data row24 col2\" >Sep</td>\n",
              "      <td id=\"T_07a5e_row24_col3\" class=\"data row24 col3\" >16.000000</td>\n",
              "      <td id=\"T_07a5e_row24_col4\" class=\"data row24 col4\" >4439.540000</td>\n",
              "    </tr>\n",
              "    <tr>\n",
              "      <td id=\"T_07a5e_row25_col0\" class=\"data row25 col0\" >2018-10</td>\n",
              "      <td id=\"T_07a5e_row25_col1\" class=\"data row25 col1\" >2018</td>\n",
              "      <td id=\"T_07a5e_row25_col2\" class=\"data row25 col2\" >Oct</td>\n",
              "      <td id=\"T_07a5e_row25_col3\" class=\"data row25 col3\" >4.000000</td>\n",
              "      <td id=\"T_07a5e_row25_col4\" class=\"data row25 col4\" >589.670000</td>\n",
              "    </tr>\n",
              "  </tbody>\n",
              "</table>\n"
            ]
          },
          "metadata": {},
          "execution_count": 32
        }
      ]
    },
    {
      "cell_type": "code",
      "source": [
        "# Plot the order volume trend\n",
        "fig, ax = plt.subplots(figsize = (8, 4))\n",
        "sns.lineplot(\n",
        "    data=sales_volume_month_full,\n",
        "    x='index',\n",
        "    y='orders',\n",
        "    hue='year',\n",
        "    palette=['green', 'blue', 'purple'],\n",
        "    ax=ax\n",
        ")\n",
        "ax.set_xticks(range(1, 13))\n",
        "ax.set_title('Orders Trend by Month')\n",
        "ax.set_xlabel('Month Number')\n",
        "ax.set_ylabel('Volume')\n",
        "plt.tight_layout()\n",
        "plt.show()"
      ],
      "metadata": {
        "colab": {
          "base_uri": "https://localhost:8080/",
          "height": 407
        },
        "id": "PE8mkRIDR5Ei",
        "outputId": "c4191a1e-7677-47f9-b0a2-6afdccc799f8"
      },
      "execution_count": 33,
      "outputs": [
        {
          "output_type": "display_data",
          "data": {
            "text/plain": [
              "<Figure size 800x400 with 1 Axes>"
            ],
            "image/png": "[encoded data removed]"
          },
          "metadata": {}
        }
      ]
    },
    {
      "cell_type": "markdown",
      "source": [
        "From the trend, low order volume was observed in 2016, then it continued to pick up on 2017, with the peak on November. Trend in 2018 was almost flat, though it was generally on a high level."
      ],
      "metadata": {
        "id": "bTXStgyOEM6P"
      }
    },
    {
      "cell_type": "code",
      "source": [
        "# Plot the sales trend\n",
        "fig, ax = plt.subplots(figsize = (8, 4))\n",
        "sns.lineplot(\n",
        "    data=sales_volume_month_full,\n",
        "    x='index',\n",
        "    y='sales',\n",
        "    hue='year',\n",
        "    palette=['green', 'blue', 'purple'],\n",
        "    ax=ax\n",
        ")\n",
        "\n",
        "# Adjust the axis tick ranges\n",
        "scale_y = 1e6\n",
        "ticks_y = ticker.FuncFormatter(lambda x, pos: '{0:g}'.format(x/scale_y))\n",
        "ax.yaxis.set_major_formatter(ticks_y)\n",
        "ax.set_xticks(range(1, 13))\n",
        "ax.set_title('Sales Trend by Month')\n",
        "ax.set_xlabel('Month Number')\n",
        "ax.set_ylabel('Amount (Millions)')\n",
        "plt.tight_layout()\n",
        "plt.show()"
      ],
      "metadata": {
        "colab": {
          "base_uri": "https://localhost:8080/",
          "height": 407
        },
        "id": "qPGGT2xLbrLF",
        "outputId": "9db22630-7acc-4ee4-d51d-cac91f36a07c"
      },
      "execution_count": 34,
      "outputs": [
        {
          "output_type": "display_data",
          "data": {
            "text/plain": [
              "<Figure size 800x400 with 1 Axes>"
            ],
            "image/png": "[encoded data removed]"
          },
          "metadata": {}
        }
      ]
    },
    {
      "cell_type": "markdown",
      "source": [
        "The sales trend is almost identical with the volume for the same period, suggesting that both metrics are correlated."
      ],
      "metadata": {
        "id": "haY-QFDVE7hX"
      }
    },
    {
      "cell_type": "code",
      "source": [
        "# Get order payment type distribution\n",
        "payment_type_counts = \\\n",
        "    df_ord_pay.groupby(\n",
        "        ['payment_type']\n",
        "    )['order_id'].nunique().reset_index()\n",
        "\n",
        "payment_type_counts.rename(\n",
        "    columns={\n",
        "        'order_id': 'count',\n",
        "    },\n",
        "    inplace=True\n",
        ")\n",
        "payment_type_counts.sort_values(\n",
        "    ['count'],\n",
        "    ascending=False,\n",
        "    inplace=True\n",
        ")\n",
        "\n",
        "# Generate bar plot\n",
        "fig, ax = plt.subplots(figsize = (8, 4))\n",
        "sns.barplot(\n",
        "    data=payment_type_counts,\n",
        "    x='payment_type',\n",
        "    y='count',\n",
        "    ax=ax\n",
        ")\n",
        "ax.set_title('Payment Type Distribution')\n",
        "ax.set_xlabel('')\n",
        "ax.set_ylabel('')\n",
        "plt.tight_layout()\n",
        "plt.show()"
      ],
      "metadata": {
        "colab": {
          "base_uri": "https://localhost:8080/",
          "height": 407
        },
        "id": "k15UospOdm1z",
        "outputId": "3bf9a7ce-ebb1-4273-9a03-72bb8769374b"
      },
      "execution_count": 35,
      "outputs": [
        {
          "output_type": "display_data",
          "data": {
            "text/plain": [
              "<Figure size 800x400 with 1 Axes>"
            ],
            "image/png": "[encoded data removed]"
          },
          "metadata": {}
        }
      ]
    },
    {
      "cell_type": "markdown",
      "source": [
        "By plotting the different payment types, majority were done via **credit card**."
      ],
      "metadata": {
        "id": "2Ot_Vf3_GU_S"
      }
    },
    {
      "cell_type": "markdown",
      "source": [
        "Next, we will investigate the company's delivery performance, by checking out some metrics."
      ],
      "metadata": {
        "id": "U_oVzjauGOEa"
      }
    },
    {
      "cell_type": "code",
      "source": [
        "# Add the calculations to determine delivery performance\n",
        "# Calculate order processing duration in minutes\n",
        "df_ord_item_cust_sell_prod['process_duration'] = (\n",
        "    df_ord_item_cust_sell_prod['order_approved_at'] - \\\n",
        "    df_ord_item_cust_sell_prod['order_purchase_timestamp']\n",
        ").astype('timedelta64[m]')\n",
        "\n",
        "# Calculate duration of sending order to carrier in days\n",
        "df_ord_item_cust_sell_prod['sent_to_carrier_duration'] = (\n",
        "    df_ord_item_cust_sell_prod['order_delivered_carrier_date'] - \\\n",
        "    df_ord_item_cust_sell_prod['order_approved_at']\n",
        ").apply(lambda x: x.days)\n",
        "\n",
        "# Calculate duration of delivering order to customer in days\n",
        "df_ord_item_cust_sell_prod['deliver_to_customer_duration'] = (\n",
        "    df_ord_item_cust_sell_prod['order_delivered_customer_date'] - \\\n",
        "    df_ord_item_cust_sell_prod['order_delivered_carrier_date']\n",
        ").apply(lambda x: x.days)\n",
        "\n",
        "# Calculate difference between carrier estimate and actual order delivery\n",
        "df_ord_item_cust_sell_prod['carrier_delivery_diff'] = (\n",
        "    df_ord_item_cust_sell_prod['order_estimated_delivery_date'] - \\\n",
        "    df_ord_item_cust_sell_prod['order_delivered_customer_date']\n",
        ").apply(lambda x: x.days)\n",
        "\n",
        "# Calculate difference between seller estimate and actual order delivery\n",
        "df_ord_item_cust_sell_prod['seller_delivery_diff'] = (\n",
        "    df_ord_item_cust_sell_prod['shipping_limit_date'] - \\\n",
        "    df_ord_item_cust_sell_prod['order_delivered_carrier_date']\n",
        ").apply(lambda x: x.days)"
      ],
      "metadata": {
        "id": "0Y58HhvFrsu_"
      },
      "execution_count": 36,
      "outputs": []
    },
    {
      "cell_type": "markdown",
      "source": [
        "Having the calculations ready, we then classify the carrier's performance based on the estimate and actual delivery times."
      ],
      "metadata": {
        "id": "ppxmWad-GwXq"
      }
    },
    {
      "cell_type": "code",
      "source": [
        "# Bin the data based on carrier estimate and actual order delivery\n",
        "df_ord_item_cust_sell_prod.loc[\n",
        "    df_ord_item_cust_sell_prod['carrier_delivery_diff'] < 0,\n",
        "    'delivery'\n",
        "] = 'Late'\n",
        "df_ord_item_cust_sell_prod.loc[\n",
        "    df_ord_item_cust_sell_prod['carrier_delivery_diff'] >= 0,\n",
        "    'delivery'\n",
        "] = 'On Time'\n",
        "\n",
        "# Get the counts\n",
        "carrier_delivery = \\\n",
        "    df_ord_item_cust_sell_prod.groupby(\n",
        "        'delivery'\n",
        "    )['order_id'].nunique().reset_index()\n",
        "carrier_delivery.rename(\n",
        "    columns={\n",
        "        'order_id': 'count'\n",
        "    },\n",
        "    inplace=True\n",
        ")\n",
        "\n",
        "# Visualize the carrier delivery performance\n",
        "colors = ['darkorange', 'blue']\n",
        "fig, ax = plt.subplots(figsize=(4, 4))\n",
        "patches, texts, pcts = ax.pie(\n",
        "    carrier_delivery['count'],\n",
        "    autopct='%.2f%%',\n",
        "    colors=colors,\n",
        "    wedgeprops={'linewidth': 1.0, 'edgecolor': 'white'},\n",
        "    textprops={'fontsize': 10}\n",
        ")\n",
        "plt.legend(\n",
        "    carrier_delivery['delivery'],\n",
        "    bbox_to_anchor=(0.75, 0.75),\n",
        "    fontsize=10, \n",
        "    bbox_transform=plt.gcf().transFigure\n",
        ")\n",
        "plt.subplots_adjust(left=0.0, bottom=0.1, right=0.75)\n",
        "plt.setp(pcts, color='white', fontweight=600)\n",
        "ax.set_title(\n",
        "    'Carrier Delivery Performance (Actual vs Estimate)',\n",
        "    x=0.75\n",
        ")\n",
        "plt.show()"
      ],
      "metadata": {
        "colab": {
          "base_uri": "https://localhost:8080/",
          "height": 359
        },
        "id": "-aMM3pcgtmXJ",
        "outputId": "4ea0e6fe-6ba3-4684-b70f-99f9aa8846f4"
      },
      "execution_count": 37,
      "outputs": [
        {
          "output_type": "display_data",
          "data": {
            "text/plain": [
              "<Figure size 400x400 with 1 Axes>"
            ],
            "image/png": "[encoded data removed]"
          },
          "metadata": {}
        }
      ]
    },
    {
      "cell_type": "markdown",
      "source": [
        "Here, late deliveries by the carrier to the customer is less than 10%."
      ],
      "metadata": {
        "id": "UBQlZw18HNED"
      }
    },
    {
      "cell_type": "code",
      "source": [
        "# Bin the data based on seller estimate and actual order dispatch\n",
        "df_ord_item_cust_sell_prod.loc[\n",
        "    df_ord_item_cust_sell_prod['seller_delivery_diff'] < 0,\n",
        "    'delivery'\n",
        "] = 'Late'\n",
        "df_ord_item_cust_sell_prod.loc[\n",
        "    df_ord_item_cust_sell_prod['seller_delivery_diff'] >= 0,\n",
        "    'delivery'\n",
        "] = 'On Time'\n",
        "\n",
        "# Get the counts\n",
        "seller_delivery = \\\n",
        "    df_ord_item_cust_sell_prod.groupby(\n",
        "        'delivery'\n",
        "    )['order_id'].nunique().reset_index()\n",
        "seller_delivery.rename(\n",
        "    columns={\n",
        "        'order_id': 'count'\n",
        "    },\n",
        "    inplace=True\n",
        ")\n",
        "\n",
        "# Visualize the seller dispatch performance\n",
        "colors = ['darkorange', 'blue']\n",
        "fig, ax = plt.subplots(figsize=(4, 4))\n",
        "patches, texts, pcts = ax.pie(\n",
        "    seller_delivery['count'],\n",
        "    autopct='%.2f%%',\n",
        "    colors=colors,\n",
        "    wedgeprops={'linewidth': 1.0, 'edgecolor': 'white'},\n",
        "    textprops={'fontsize': 10}\n",
        ")\n",
        "plt.legend(\n",
        "    seller_delivery['delivery'],\n",
        "    bbox_to_anchor=(0.75, 0.75),\n",
        "    fontsize=10, \n",
        "    bbox_transform=plt.gcf().transFigure\n",
        ")\n",
        "plt.subplots_adjust(left=0.0, bottom=0.1, right=0.75)\n",
        "plt.setp(pcts, color='white', fontweight=600)\n",
        "ax.set_title(\n",
        "    'Seller Dispatch Performance (Actual vs Estimate)',\n",
        "    x=0.75\n",
        ")\n",
        "plt.show()"
      ],
      "metadata": {
        "colab": {
          "base_uri": "https://localhost:8080/",
          "height": 359
        },
        "id": "pV3RqVZSPLA1",
        "outputId": "d25cd514-6715-41fc-d0b6-c1f0d00a9364"
      },
      "execution_count": 38,
      "outputs": [
        {
          "output_type": "display_data",
          "data": {
            "text/plain": [
              "<Figure size 400x400 with 1 Axes>"
            ],
            "image/png": "[encoded data removed]"
          },
          "metadata": {}
        }
      ]
    },
    {
      "cell_type": "markdown",
      "source": [
        "Similarly, late dispatch by the seller to the carrier is less than 10%, though slightly higher than the carrier late deliveries. Due to the late deliveries of the seller, consequently it also affects the delivery times of the carrier."
      ],
      "metadata": {
        "id": "RSsDPChAHjgV"
      }
    },
    {
      "cell_type": "code",
      "source": [
        "# Get order volume and average delivery time by customer state\n",
        "order_volume_delivery = \\\n",
        "    df_ord_item_cust_sell_prod.groupby(\n",
        "        ['customer_state']\n",
        "    ).agg(\n",
        "        {\n",
        "            'order_id': 'nunique',\n",
        "            'deliver_to_customer_duration': 'mean'\n",
        "        }\n",
        "    ).reset_index()\n",
        "\n",
        "order_volume_delivery.rename(\n",
        "    columns={\n",
        "        'order_id': 'count',\n",
        "        'deliver_to_customer_duration': 'average_days'\n",
        "    },\n",
        "    inplace=True\n",
        ")\n",
        "order_volume_delivery.sort_values(\n",
        "    ['count'],\n",
        "    ascending=False,\n",
        "    inplace=True\n",
        ")\n",
        "\n",
        "# Generate line and bar graphs\n",
        "fig, ax1 = plt.subplots(figsize=(10, 4))\n",
        "ax2 = ax1.twinx()\n",
        "sns.lineplot(\n",
        "    data=order_volume_delivery,\n",
        "    x='customer_state',\n",
        "    y='average_days',\n",
        "    color='dodgerblue',\n",
        "    ax=ax2\n",
        ")\n",
        "sns.barplot(\n",
        "    data=order_volume_delivery,\n",
        "    x='customer_state',\n",
        "    y='count',\n",
        "    palette=['blue'],\n",
        "    ax=ax1\n",
        ")\n",
        "ax1.set_title('Order Volume and Average Delivery by Customer State')\n",
        "ax1.set_xlabel('')\n",
        "ax1.set_ylabel('Volume')\n",
        "ax2.set_ylabel('Delivery Time (Days)')\n",
        "plt.tight_layout()\n",
        "plt.show()"
      ],
      "metadata": {
        "colab": {
          "base_uri": "https://localhost:8080/",
          "height": 407
        },
        "id": "60f4J_a3r33a",
        "outputId": "a6d4ddc0-586e-4c7b-eac4-b63853f946a2"
      },
      "execution_count": 39,
      "outputs": [
        {
          "output_type": "display_data",
          "data": {
            "text/plain": [
              "<Figure size 1000x400 with 2 Axes>"
            ],
            "image/png": "[encoded data removed]"
          },
          "metadata": {}
        }
      ]
    },
    {
      "cell_type": "markdown",
      "source": [
        "From the plot, the state of Sao Paulo (SP) has the highest order volume, while the state of Roraima (RR) has the lowest. Conversely, Roraima is the state with the longest delivery time, and Sao Paulo has the shortest."
      ],
      "metadata": {
        "id": "PthMKL2QIU8H"
      }
    },
    {
      "cell_type": "markdown",
      "source": [
        "We will then proceed with investigating the product quality factor."
      ],
      "metadata": {
        "id": "3tmIhMTsIN25"
      }
    },
    {
      "cell_type": "code",
      "source": [
        "# Merge orders, reviews, order items and products dataset\n",
        "order_cols = [\n",
        "    'order_id',\n",
        "    'order_purchase_timestamp',\n",
        "    'order_status',\n",
        "    'order_purchase_year',\n",
        "    'order_purchase_month'\n",
        "]\n",
        "order_item_cols = [\n",
        "    'order_id',\n",
        "    'product_id'\n",
        "]\n",
        "\n",
        "df_ord_review = pd.merge(\n",
        "    df_orders[order_cols],\n",
        "    df_reviews,\n",
        "    on=['order_id'],\n",
        "    how='left'\n",
        ")\n",
        "df_ord_review_item = pd.merge(\n",
        "    df_ord_review,\n",
        "    df_items[order_item_cols],\n",
        "    on=['order_id'],\n",
        "    how='left'\n",
        ")\n",
        "df_ord_review_item_prod = df_ord_review_item.merge(\n",
        "    df_prod_trans,\n",
        "    on=['product_id'],\n",
        "    how='left'\n",
        ")\n",
        "\n",
        "# Drop columns\n",
        "drop_cols = [\n",
        "    'review_comment_title',\n",
        "    'product_id'\n",
        "]\n",
        "df_ord_review_item_prod.drop(\n",
        "    drop_cols,\n",
        "    axis=1,\n",
        "    inplace=True\n",
        ")\n",
        "\n",
        "df_ord_review_item_prod.info()"
      ],
      "metadata": {
        "colab": {
          "base_uri": "https://localhost:8080/"
        },
        "id": "Lff2c-7g5FUb",
        "outputId": "0558174d-727a-48e9-9c2f-359e77071961"
      },
      "execution_count": 40,
      "outputs": [
        {
          "output_type": "stream",
          "name": "stdout",
          "text": [
            "<class 'pandas.core.frame.DataFrame'>\n",
            "Int64Index: 114092 entries, 0 to 114091\n",
            "Data columns (total 11 columns):\n",
            " #   Column                    Non-Null Count   Dtype         \n",
            "---  ------                    --------------   -----         \n",
            " 0   order_id                  114092 non-null  object        \n",
            " 1   order_purchase_timestamp  114092 non-null  datetime64[ns]\n",
            " 2   order_status              114092 non-null  object        \n",
            " 3   order_purchase_year       114092 non-null  int64         \n",
            " 4   order_purchase_month      114092 non-null  object        \n",
            " 5   review_id                 113131 non-null  object        \n",
            " 6   review_score              113131 non-null  float64       \n",
            " 7   review_comment_message    48166 non-null   object        \n",
            " 8   review_creation_date      113131 non-null  object        \n",
            " 9   review_answer_timestamp   113131 non-null  object        \n",
            " 10  product_category_name     111678 non-null  object        \n",
            "dtypes: datetime64[ns](1), float64(1), int64(1), object(8)\n",
            "memory usage: 10.4+ MB\n"
          ]
        }
      ]
    },
    {
      "cell_type": "code",
      "source": [
        "# Bin the data based on review score\n",
        "df_ord_review_item_prod.loc[\n",
        "    df_ord_review_item_prod['review_score'] < 3,\n",
        "    'review'\n",
        "] = 'Bad'\n",
        "df_ord_review_item_prod.loc[\n",
        "    df_ord_review_item_prod['review_score'] >= 3,\n",
        "    'review'\n",
        "] = 'Good'\n",
        "\n",
        "# Get the counts\n",
        "review_breakdown = \\\n",
        "    df_ord_review_item_prod.groupby(\n",
        "        'review'\n",
        "    )['review_id'].nunique().reset_index()\n",
        "review_breakdown.rename(\n",
        "    columns={\n",
        "        'review_id': 'count'\n",
        "    },\n",
        "    inplace=True\n",
        ")\n",
        "\n",
        "# Visualize the review breakdown\n",
        "colors = ['darkorange', 'blue']\n",
        "fig, ax = plt.subplots(figsize=(4, 4))\n",
        "patches, texts, pcts = ax.pie(\n",
        "    review_breakdown['count'],\n",
        "    autopct='%.2f%%',\n",
        "    colors=colors,\n",
        "    wedgeprops={'linewidth': 1.0, 'edgecolor': 'white'},\n",
        "    textprops={'fontsize': 10}\n",
        ")\n",
        "plt.legend(\n",
        "    review_breakdown['review'],\n",
        "    bbox_to_anchor=(0.75, 0.75),\n",
        "    fontsize=10, \n",
        "    bbox_transform=plt.gcf().transFigure\n",
        ")\n",
        "plt.subplots_adjust(left=0.0, bottom=0.1, right=0.75)\n",
        "plt.setp(pcts, color='white', fontweight=600)\n",
        "ax.set_title(\n",
        "    'Product Review Breakdown',\n",
        "    x=0.65\n",
        ")\n",
        "plt.show()"
      ],
      "metadata": {
        "colab": {
          "base_uri": "https://localhost:8080/",
          "height": 359
        },
        "id": "AlPMn-ifUFVQ",
        "outputId": "1dbc40fd-590a-43e0-d808-4ef2614d1802"
      },
      "execution_count": 41,
      "outputs": [
        {
          "output_type": "display_data",
          "data": {
            "text/plain": [
              "<Figure size 400x400 with 1 Axes>"
            ],
            "image/png": "[encoded data removed]"
          },
          "metadata": {}
        }
      ]
    },
    {
      "cell_type": "code",
      "source": [
        "# Create a dataframe based from the order purchase date range\n",
        "period_range = pd.period_range(\n",
        "    df_ord_pay['order_purchase_timestamp'].min(),\n",
        "    df_ord_pay['order_purchase_timestamp'].max(),\n",
        "    freq='M'\n",
        ")\n",
        "df_period = pd.DataFrame(\n",
        "    period_range.T,\n",
        "    columns=['period']\n",
        ")\n",
        "df_period['year'] = period_range.year.T\n",
        "df_period['index'] = period_range.month.T\n",
        "\n",
        "# Get average review score by year and month\n",
        "reviews_month = \\\n",
        "    df_ord_review_item_prod.groupby(\n",
        "        ['order_purchase_year', 'order_purchase_month']\n",
        "    )['review_score'].mean().reset_index()\n",
        "\n",
        "# Rename year and month columns\n",
        "reviews_month.rename(\n",
        "    columns={\n",
        "        'order_purchase_year': 'year',\n",
        "        'order_purchase_month': 'month'\n",
        "    },\n",
        "    inplace=True\n",
        ")\n",
        "\n",
        "# Convert month string into index then sort\n",
        "reviews_month['index'] = pd.DatetimeIndex(\n",
        "    pd.to_datetime(\n",
        "        reviews_month['month'],\n",
        "        format='%b'\n",
        "    )\n",
        ").month.astype('int64')\n",
        "\n",
        "# Merge the dataframes\n",
        "reviews_month_full = df_period.merge(\n",
        "    reviews_month,\n",
        "    on=['year', 'index'],\n",
        "    how='left'\n",
        ")\n",
        "\n",
        "# Sort by order purchase year and month number\n",
        "reviews_month_full.set_index('index', inplace=True)\n",
        "reviews_month_full.sort_values(\n",
        "    ['year', 'index'],\n",
        "    inplace=True\n",
        ")\n",
        "reviews_month_full.rename(\n",
        "    columns={\n",
        "        'review_score': 'average_score'\n",
        "    },\n",
        "    inplace=True\n",
        ")\n",
        "\n",
        "# Fill the empty values\n",
        "reviews_month_full['average_score'].ffill(inplace=True)\n",
        "reviews_month_full['month'].fillna(\n",
        "    'Nov',\n",
        "    inplace=True\n",
        ")\n",
        "\n",
        "reviews_month_full.style.hide(axis='index')"
      ],
      "metadata": {
        "colab": {
          "base_uri": "https://localhost:8080/",
          "height": 865
        },
        "id": "MoGeq_OlFUu-",
        "outputId": "46ef50a6-bec7-4d4b-a614-c9181e4f6be9"
      },
      "execution_count": 42,
      "outputs": [
        {
          "output_type": "execute_result",
          "data": {
            "text/plain": [
              "<pandas.io.formats.style.Styler at 0x7f41d93ccfd0>"
            ],
            "text/html": [
              "<style type=\"text/css\">\n",
              "</style>\n",
              "<table id=\"T_4575b\" class=\"dataframe\">\n",
              "  <thead>\n",
              "    <tr>\n",
              "      <th id=\"T_4575b_level0_col0\" class=\"col_heading level0 col0\" >period</th>\n",
              "      <th id=\"T_4575b_level0_col1\" class=\"col_heading level0 col1\" >year</th>\n",
              "      <th id=\"T_4575b_level0_col2\" class=\"col_heading level0 col2\" >month</th>\n",
              "      <th id=\"T_4575b_level0_col3\" class=\"col_heading level0 col3\" >average_score</th>\n",
              "    </tr>\n",
              "  </thead>\n",
              "  <tbody>\n",
              "    <tr>\n",
              "      <td id=\"T_4575b_row0_col0\" class=\"data row0 col0\" >2016-09</td>\n",
              "      <td id=\"T_4575b_row0_col1\" class=\"data row0 col1\" >2016</td>\n",
              "      <td id=\"T_4575b_row0_col2\" class=\"data row0 col2\" >Sep</td>\n",
              "      <td id=\"T_4575b_row0_col3\" class=\"data row0 col3\" >1.000000</td>\n",
              "    </tr>\n",
              "    <tr>\n",
              "      <td id=\"T_4575b_row1_col0\" class=\"data row1 col0\" >2016-10</td>\n",
              "      <td id=\"T_4575b_row1_col1\" class=\"data row1 col1\" >2016</td>\n",
              "      <td id=\"T_4575b_row1_col2\" class=\"data row1 col2\" >Oct</td>\n",
              "      <td id=\"T_4575b_row1_col3\" class=\"data row1 col3\" >3.503979</td>\n",
              "    </tr>\n",
              "    <tr>\n",
              "      <td id=\"T_4575b_row2_col0\" class=\"data row2 col0\" >2016-11</td>\n",
              "      <td id=\"T_4575b_row2_col1\" class=\"data row2 col1\" >2016</td>\n",
              "      <td id=\"T_4575b_row2_col2\" class=\"data row2 col2\" >Nov</td>\n",
              "      <td id=\"T_4575b_row2_col3\" class=\"data row2 col3\" >3.503979</td>\n",
              "    </tr>\n",
              "    <tr>\n",
              "      <td id=\"T_4575b_row3_col0\" class=\"data row3 col0\" >2016-12</td>\n",
              "      <td id=\"T_4575b_row3_col1\" class=\"data row3 col1\" >2016</td>\n",
              "      <td id=\"T_4575b_row3_col2\" class=\"data row3 col2\" >Dec</td>\n",
              "      <td id=\"T_4575b_row3_col3\" class=\"data row3 col3\" >5.000000</td>\n",
              "    </tr>\n",
              "    <tr>\n",
              "      <td id=\"T_4575b_row4_col0\" class=\"data row4 col0\" >2017-01</td>\n",
              "      <td id=\"T_4575b_row4_col1\" class=\"data row4 col1\" >2017</td>\n",
              "      <td id=\"T_4575b_row4_col2\" class=\"data row4 col2\" >Jan</td>\n",
              "      <td id=\"T_4575b_row4_col3\" class=\"data row4 col3\" >4.049689</td>\n",
              "    </tr>\n",
              "    <tr>\n",
              "      <td id=\"T_4575b_row5_col0\" class=\"data row5 col0\" >2017-02</td>\n",
              "      <td id=\"T_4575b_row5_col1\" class=\"data row5 col1\" >2017</td>\n",
              "      <td id=\"T_4575b_row5_col2\" class=\"data row5 col2\" >Feb</td>\n",
              "      <td id=\"T_4575b_row5_col3\" class=\"data row5 col3\" >3.996995</td>\n",
              "    </tr>\n",
              "    <tr>\n",
              "      <td id=\"T_4575b_row6_col0\" class=\"data row6 col0\" >2017-03</td>\n",
              "      <td id=\"T_4575b_row6_col1\" class=\"data row6 col1\" >2017</td>\n",
              "      <td id=\"T_4575b_row6_col2\" class=\"data row6 col2\" >Mar</td>\n",
              "      <td id=\"T_4575b_row6_col3\" class=\"data row6 col3\" >4.029334</td>\n",
              "    </tr>\n",
              "    <tr>\n",
              "      <td id=\"T_4575b_row7_col0\" class=\"data row7 col0\" >2017-04</td>\n",
              "      <td id=\"T_4575b_row7_col1\" class=\"data row7 col1\" >2017</td>\n",
              "      <td id=\"T_4575b_row7_col2\" class=\"data row7 col2\" >Apr</td>\n",
              "      <td id=\"T_4575b_row7_col3\" class=\"data row7 col3\" >3.997018</td>\n",
              "    </tr>\n",
              "    <tr>\n",
              "      <td id=\"T_4575b_row8_col0\" class=\"data row8 col0\" >2017-05</td>\n",
              "      <td id=\"T_4575b_row8_col1\" class=\"data row8 col1\" >2017</td>\n",
              "      <td id=\"T_4575b_row8_col2\" class=\"data row8 col2\" >May</td>\n",
              "      <td id=\"T_4575b_row8_col3\" class=\"data row8 col3\" >4.115256</td>\n",
              "    </tr>\n",
              "    <tr>\n",
              "      <td id=\"T_4575b_row9_col0\" class=\"data row9 col0\" >2017-06</td>\n",
              "      <td id=\"T_4575b_row9_col1\" class=\"data row9 col1\" >2017</td>\n",
              "      <td id=\"T_4575b_row9_col2\" class=\"data row9 col2\" >Jun</td>\n",
              "      <td id=\"T_4575b_row9_col3\" class=\"data row9 col3\" >4.116607</td>\n",
              "    </tr>\n",
              "    <tr>\n",
              "      <td id=\"T_4575b_row10_col0\" class=\"data row10 col0\" >2017-07</td>\n",
              "      <td id=\"T_4575b_row10_col1\" class=\"data row10 col1\" >2017</td>\n",
              "      <td id=\"T_4575b_row10_col2\" class=\"data row10 col2\" >Jul</td>\n",
              "      <td id=\"T_4575b_row10_col3\" class=\"data row10 col3\" >4.109341</td>\n",
              "    </tr>\n",
              "    <tr>\n",
              "      <td id=\"T_4575b_row11_col0\" class=\"data row11 col0\" >2017-08</td>\n",
              "      <td id=\"T_4575b_row11_col1\" class=\"data row11 col1\" >2017</td>\n",
              "      <td id=\"T_4575b_row11_col2\" class=\"data row11 col2\" >Aug</td>\n",
              "      <td id=\"T_4575b_row11_col3\" class=\"data row11 col3\" >4.205948</td>\n",
              "    </tr>\n",
              "    <tr>\n",
              "      <td id=\"T_4575b_row12_col0\" class=\"data row12 col0\" >2017-09</td>\n",
              "      <td id=\"T_4575b_row12_col1\" class=\"data row12 col1\" >2017</td>\n",
              "      <td id=\"T_4575b_row12_col2\" class=\"data row12 col2\" >Sep</td>\n",
              "      <td id=\"T_4575b_row12_col3\" class=\"data row12 col3\" >4.117454</td>\n",
              "    </tr>\n",
              "    <tr>\n",
              "      <td id=\"T_4575b_row13_col0\" class=\"data row13 col0\" >2017-10</td>\n",
              "      <td id=\"T_4575b_row13_col1\" class=\"data row13 col1\" >2017</td>\n",
              "      <td id=\"T_4575b_row13_col2\" class=\"data row13 col2\" >Oct</td>\n",
              "      <td id=\"T_4575b_row13_col3\" class=\"data row13 col3\" >4.031041</td>\n",
              "    </tr>\n",
              "    <tr>\n",
              "      <td id=\"T_4575b_row14_col0\" class=\"data row14 col0\" >2017-11</td>\n",
              "      <td id=\"T_4575b_row14_col1\" class=\"data row14 col1\" >2017</td>\n",
              "      <td id=\"T_4575b_row14_col2\" class=\"data row14 col2\" >Nov</td>\n",
              "      <td id=\"T_4575b_row14_col3\" class=\"data row14 col3\" >3.823853</td>\n",
              "    </tr>\n",
              "    <tr>\n",
              "      <td id=\"T_4575b_row15_col0\" class=\"data row15 col0\" >2017-12</td>\n",
              "      <td id=\"T_4575b_row15_col1\" class=\"data row15 col1\" >2017</td>\n",
              "      <td id=\"T_4575b_row15_col2\" class=\"data row15 col2\" >Dec</td>\n",
              "      <td id=\"T_4575b_row15_col3\" class=\"data row15 col3\" >3.948011</td>\n",
              "    </tr>\n",
              "    <tr>\n",
              "      <td id=\"T_4575b_row16_col0\" class=\"data row16 col0\" >2018-01</td>\n",
              "      <td id=\"T_4575b_row16_col1\" class=\"data row16 col1\" >2018</td>\n",
              "      <td id=\"T_4575b_row16_col2\" class=\"data row16 col2\" >Jan</td>\n",
              "      <td id=\"T_4575b_row16_col3\" class=\"data row16 col3\" >3.937439</td>\n",
              "    </tr>\n",
              "    <tr>\n",
              "      <td id=\"T_4575b_row17_col0\" class=\"data row17 col0\" >2018-02</td>\n",
              "      <td id=\"T_4575b_row17_col1\" class=\"data row17 col1\" >2018</td>\n",
              "      <td id=\"T_4575b_row17_col2\" class=\"data row17 col2\" >Feb</td>\n",
              "      <td id=\"T_4575b_row17_col3\" class=\"data row17 col3\" >3.728825</td>\n",
              "    </tr>\n",
              "    <tr>\n",
              "      <td id=\"T_4575b_row18_col0\" class=\"data row18 col0\" >2018-03</td>\n",
              "      <td id=\"T_4575b_row18_col1\" class=\"data row18 col1\" >2018</td>\n",
              "      <td id=\"T_4575b_row18_col2\" class=\"data row18 col2\" >Mar</td>\n",
              "      <td id=\"T_4575b_row18_col3\" class=\"data row18 col3\" >3.690604</td>\n",
              "    </tr>\n",
              "    <tr>\n",
              "      <td id=\"T_4575b_row19_col0\" class=\"data row19 col0\" >2018-04</td>\n",
              "      <td id=\"T_4575b_row19_col1\" class=\"data row19 col1\" >2018</td>\n",
              "      <td id=\"T_4575b_row19_col2\" class=\"data row19 col2\" >Apr</td>\n",
              "      <td id=\"T_4575b_row19_col3\" class=\"data row19 col3\" >4.074457</td>\n",
              "    </tr>\n",
              "    <tr>\n",
              "      <td id=\"T_4575b_row20_col0\" class=\"data row20 col0\" >2018-05</td>\n",
              "      <td id=\"T_4575b_row20_col1\" class=\"data row20 col1\" >2018</td>\n",
              "      <td id=\"T_4575b_row20_col2\" class=\"data row20 col2\" >May</td>\n",
              "      <td id=\"T_4575b_row20_col3\" class=\"data row20 col3\" >4.125332</td>\n",
              "    </tr>\n",
              "    <tr>\n",
              "      <td id=\"T_4575b_row21_col0\" class=\"data row21 col0\" >2018-06</td>\n",
              "      <td id=\"T_4575b_row21_col1\" class=\"data row21 col1\" >2018</td>\n",
              "      <td id=\"T_4575b_row21_col2\" class=\"data row21 col2\" >Jun</td>\n",
              "      <td id=\"T_4575b_row21_col3\" class=\"data row21 col3\" >4.185028</td>\n",
              "    </tr>\n",
              "    <tr>\n",
              "      <td id=\"T_4575b_row22_col0\" class=\"data row22 col0\" >2018-07</td>\n",
              "      <td id=\"T_4575b_row22_col1\" class=\"data row22 col1\" >2018</td>\n",
              "      <td id=\"T_4575b_row22_col2\" class=\"data row22 col2\" >Jul</td>\n",
              "      <td id=\"T_4575b_row22_col3\" class=\"data row22 col3\" >4.221861</td>\n",
              "    </tr>\n",
              "    <tr>\n",
              "      <td id=\"T_4575b_row23_col0\" class=\"data row23 col0\" >2018-08</td>\n",
              "      <td id=\"T_4575b_row23_col1\" class=\"data row23 col1\" >2018</td>\n",
              "      <td id=\"T_4575b_row23_col2\" class=\"data row23 col2\" >Aug</td>\n",
              "      <td id=\"T_4575b_row23_col3\" class=\"data row23 col3\" >4.199066</td>\n",
              "    </tr>\n",
              "    <tr>\n",
              "      <td id=\"T_4575b_row24_col0\" class=\"data row24 col0\" >2018-09</td>\n",
              "      <td id=\"T_4575b_row24_col1\" class=\"data row24 col1\" >2018</td>\n",
              "      <td id=\"T_4575b_row24_col2\" class=\"data row24 col2\" >Sep</td>\n",
              "      <td id=\"T_4575b_row24_col3\" class=\"data row24 col3\" >1.800000</td>\n",
              "    </tr>\n",
              "    <tr>\n",
              "      <td id=\"T_4575b_row25_col0\" class=\"data row25 col0\" >2018-10</td>\n",
              "      <td id=\"T_4575b_row25_col1\" class=\"data row25 col1\" >2018</td>\n",
              "      <td id=\"T_4575b_row25_col2\" class=\"data row25 col2\" >Oct</td>\n",
              "      <td id=\"T_4575b_row25_col3\" class=\"data row25 col3\" >2.250000</td>\n",
              "    </tr>\n",
              "  </tbody>\n",
              "</table>\n"
            ]
          },
          "metadata": {},
          "execution_count": 42
        }
      ]
    },
    {
      "cell_type": "code",
      "source": [
        "# Plot the reviews trend\n",
        "fig, ax = plt.subplots(figsize = (8, 4))\n",
        "sns.lineplot(\n",
        "    data=reviews_month_full,\n",
        "    x='index',\n",
        "    y='average_score',\n",
        "    hue='year',\n",
        "    palette=['green', 'blue', 'purple'],\n",
        "    ax=ax\n",
        ")\n",
        "ax.set_xticks(range(1, 13))\n",
        "ax.set_title('Reviews Trend by Month')\n",
        "ax.set_xlabel('Month Number')\n",
        "ax.set_ylabel('Rating')\n",
        "plt.tight_layout()\n",
        "plt.show()"
      ],
      "metadata": {
        "colab": {
          "base_uri": "https://localhost:8080/",
          "height": 407
        },
        "id": "iAfZGZfiHEoV",
        "outputId": "8e91d0c7-9c74-449d-f96d-90eeecc98b12"
      },
      "execution_count": 43,
      "outputs": [
        {
          "output_type": "display_data",
          "data": {
            "text/plain": [
              "<Figure size 800x400 with 1 Axes>"
            ],
            "image/png": "[encoded data removed]"
          },
          "metadata": {}
        }
      ]
    },
    {
      "cell_type": "code",
      "source": [
        "# Get average review score by product category\n",
        "reviews_category = \\\n",
        "    df_ord_review_item_prod.groupby(\n",
        "        ['product_category_name']\n",
        "    )['review_score'].mean().reset_index()\n",
        "\n",
        "# Sort by the lowest score\n",
        "reviews_category.sort_values(\n",
        "    ['review_score'],\n",
        "    inplace=True\n",
        ")\n",
        "reviews_category.rename(\n",
        "    columns={\n",
        "        'review_score': 'average_score'\n",
        "    },\n",
        "    inplace=True\n",
        ")\n",
        "\n",
        "# Show the top 10 products with the lowest average score\n",
        "reviews_category.head(10).style.hide(axis='index')"
      ],
      "metadata": {
        "colab": {
          "base_uri": "https://localhost:8080/",
          "height": 363
        },
        "id": "5WqKEpqEbTgC",
        "outputId": "7a1fcae4-9804-46b7-fc48-fcd48913828e"
      },
      "execution_count": 44,
      "outputs": [
        {
          "output_type": "execute_result",
          "data": {
            "text/plain": [
              "<pandas.io.formats.style.Styler at 0x7f41d92d7640>"
            ],
            "text/html": [
              "<style type=\"text/css\">\n",
              "</style>\n",
              "<table id=\"T_2ce8f\" class=\"dataframe\">\n",
              "  <thead>\n",
              "    <tr>\n",
              "      <th id=\"T_2ce8f_level0_col0\" class=\"col_heading level0 col0\" >product_category_name</th>\n",
              "      <th id=\"T_2ce8f_level0_col1\" class=\"col_heading level0 col1\" >average_score</th>\n",
              "    </tr>\n",
              "  </thead>\n",
              "  <tbody>\n",
              "    <tr>\n",
              "      <td id=\"T_2ce8f_row0_col0\" class=\"data row0 col0\" >Security And Services</td>\n",
              "      <td id=\"T_2ce8f_row0_col1\" class=\"data row0 col1\" >2.500000</td>\n",
              "    </tr>\n",
              "    <tr>\n",
              "      <td id=\"T_2ce8f_row1_col0\" class=\"data row1 col0\" >Diapers And Hygiene</td>\n",
              "      <td id=\"T_2ce8f_row1_col1\" class=\"data row1 col1\" >3.256410</td>\n",
              "    </tr>\n",
              "    <tr>\n",
              "      <td id=\"T_2ce8f_row2_col0\" class=\"data row2 col0\" >Office Furniture</td>\n",
              "      <td id=\"T_2ce8f_row2_col1\" class=\"data row2 col1\" >3.493183</td>\n",
              "    </tr>\n",
              "    <tr>\n",
              "      <td id=\"T_2ce8f_row3_col0\" class=\"data row3 col0\" >Home Comfort 2</td>\n",
              "      <td id=\"T_2ce8f_row3_col1\" class=\"data row3 col1\" >3.629630</td>\n",
              "    </tr>\n",
              "    <tr>\n",
              "      <td id=\"T_2ce8f_row4_col0\" class=\"data row4 col0\" >Fashion Male Clothing</td>\n",
              "      <td id=\"T_2ce8f_row4_col1\" class=\"data row4 col1\" >3.641221</td>\n",
              "    </tr>\n",
              "    <tr>\n",
              "      <td id=\"T_2ce8f_row5_col0\" class=\"data row5 col0\" >Fixed Telephony</td>\n",
              "      <td id=\"T_2ce8f_row5_col1\" class=\"data row5 col1\" >3.683206</td>\n",
              "    </tr>\n",
              "    <tr>\n",
              "      <td id=\"T_2ce8f_row6_col0\" class=\"data row6 col0\" >Party Supplies</td>\n",
              "      <td id=\"T_2ce8f_row6_col1\" class=\"data row6 col1\" >3.767442</td>\n",
              "    </tr>\n",
              "    <tr>\n",
              "      <td id=\"T_2ce8f_row7_col0\" class=\"data row7 col0\" >Fashio Female Clothing</td>\n",
              "      <td id=\"T_2ce8f_row7_col1\" class=\"data row7 col1\" >3.780000</td>\n",
              "    </tr>\n",
              "    <tr>\n",
              "      <td id=\"T_2ce8f_row8_col0\" class=\"data row8 col0\" >Furniture Mattress And Upholstery</td>\n",
              "      <td id=\"T_2ce8f_row8_col1\" class=\"data row8 col1\" >3.815789</td>\n",
              "    </tr>\n",
              "    <tr>\n",
              "      <td id=\"T_2ce8f_row9_col0\" class=\"data row9 col0\" >Audio</td>\n",
              "      <td id=\"T_2ce8f_row9_col1\" class=\"data row9 col1\" >3.825485</td>\n",
              "    </tr>\n",
              "  </tbody>\n",
              "</table>\n"
            ]
          },
          "metadata": {},
          "execution_count": 44
        }
      ]
    }
  ]
}